{
 "cells": [
  {
   "cell_type": "markdown",
   "metadata": {
    "_cell_guid": "9c75ca41-8357-479e-8a46-ebdec5f035f3",
    "_uuid": "319ae25236d9fddf1745ea1c4cb365e5dbb00372"
   },
   "source": [
    "![title](http://data.freehdw.com/ships-titanic-vehicles-best.jpg)"
   ]
  },
  {
   "cell_type": "markdown",
   "metadata": {
    "_uuid": "bdce3bc433feb19f6622ab910cfe2123ccd07a1c"
   },
   "source": [
    "# <div style=\"text-align: center\">A Statistical Analysis & Machine Learning Workflow of Titanic </div>\n",
    "\n",
    "<div style=\"text-align: center\"> Being a part of Kaggle gives me unlimited access to learn, share and grow as a data scientist. In this kernel, I want to solve <font color=\"red\"><b>Titanic competition</b></font>, a popular machine learning dataset for <b>beginners</b>. I am going to share exactly how I work with a dataset step by step  <b>from data preparation, data analysis to implementing machine learning models.</b> I will also describe the model results along with many other tips. So let's get started.</div>\n",
    "\n",
    "\n",
    "***\n",
    "<div style=\"text-align:center\"> If there are any recommendations/changes you would like to see in this notebook, please <b>leave a comment</b> at the end of this kernel. Any feedback/constructive criticism would be genuinely appreciated. **This notebook is always a work in progress. So, please stay tuned for more to come.</div>\n",
    "\n",
    "\n",
    "<div style=\"text-align:center\">If you like this notebook or find this notebook helpful, Please feel free to <font color=\"red\"><b>UPVOTE</b></font> and/or leave a comment.</div>\n",
    "\n",
    "#### <div style=\"text-align: center\">Stay Tuned for More to Come!!</div>\n",
    "\n",
    "   "
   ]
  },
  {
   "cell_type": "markdown",
   "metadata": {
    "_cell_guid": "1b327e8f-22c3-4f4a-899e-33c20073d74f",
    "_uuid": "ac342ad67f3704bc8d420f430bb10425d229b1a7"
   },
   "source": [
    "# Introduction\n",
    "<a id=\"introduction\" ></a>\n",
    "***\n",
    "This kernel is mostly for beginners, with detailed statistical analysis of  Titanic data set along with Machine learning models. I am super excited to share my first kernel with the Kaggle community, and I think my journey of data science can leap from this community.  As I go on in this journey and learn new topics, I will incorporate them with updates. So, check for them and please comment if you have any suggestions to make them better!! Going back to the topics of this kernel, I will do more in-depth visualizations to explain the data, and the machine learning models will be used to predict passenger survival status. So, let's get started.\n"
   ]
  },
  {
   "cell_type": "markdown",
   "metadata": {
    "_cell_guid": "8256c27c-c6f1-4cf7-87c0-df58a492a630",
    "_uuid": "92b554b7809e077685e89b62a6946ca300833808"
   },
   "source": [
    "## Table of contents\n",
    "***\n",
    "- [Introduction](#introduction)\n",
    "- [Kernel Goals](#aboutthiskernel)\n",
    "- [Part 1: Importing Necessary Modules](#import_libraries)\n",
    "    - [1a. Libraries](#import_libraries)\n",
    "    - [1b. Load datasets](#load_data)\n",
    "    - [1c. A Glimpse of the dataset](#glimpse)\n",
    "    - [1d. About this dataset](#aboutthisdataset)\n",
    "    - [1e. Tableau Visualization](#tableau_visualization)\n",
    "- [Part 2: Overview and Cleaning the Data](#scrubbingthedata)\n",
    "    - [2a. Overview](#cleaningthedata)\n",
    "    - [2b. Dealing with missing values](#dealwithnullvalues)\n",
    "- [Part 3: Visualization and Feature Relations](#visualization_and_feature_relations)\n",
    "    - [3a. Gender and Survived](#gender_and_survived)\n",
    "    - [3b. Pclass and Survived](#pclass_and_survived)\n",
    "    - [3c. Fare and Survived](#fare_and_survived)\n",
    "    - [3d. Age and Survived](#age_and_survived)\n",
    "    - [3e. Combined Feature relations](#combined_feature_relations)\n",
    "- [Part 4: Statistical Overview](#statisticaloverview)\n",
    "    - [4a. Correlation Matrix and Heatmap](#heatmap)\n",
    "    - [4b. Statistical Test for Correlation](#statistical_test)\n",
    "    - [4c. The T-Test](#t_test)\n",
    "- [Part 5: Feature Engineering](#feature_engineering)\n",
    "- [Part 6: Pre-Modeling Tasks](#pre_model_tasks)\n",
    "    - [6a. Separating dependent and independent variables](#dependent_independent)\n",
    "    - [6b. Splitting the training data](#split_training_data)\n",
    "    - [6c. Feature Scaling](#feature_scaling)\n",
    "- [Part 7: Modeling the Data](#modelingthedata)\n",
    "    - [7a. Logistic Regression](#logistic_regression)\n",
    "    - [7b. K-Nearest Neighbors(KNN)](#knn)\n",
    "    - [7c. Gaussian Naive Bayes](#gaussian_naive)\n",
    "    - [7d. Support Vector Machines](#svm)\n",
    "    - [7e. Decision Tree Classifier](#decision_tree)\n",
    "    - [7f. Bagging on Decision Tree Classifier](#bagging_decision)\n",
    "    - [7g. Random Forest Classifier](#random_forest)\n",
    "    - [7h. Gradient Boosting Classifier](#gradient_boosting)\n",
    "    - [7i. XGBClassifier](#XGBClassifier)\n",
    "    - [7j. AdaBoost Classifier](#adaboost)\n",
    "    - [7k. Extra Tree Classifier](#extra_tree)\n",
    "    - [7l. Gaussian Process Classifier](#GaussianProcessClassifier)\n",
    "    - [7m. Voting Classifier](#voting_classifier)\n",
    "- [Part 8: Submit Test Predictions](#submit_predictions)\n",
    "    \n",
    "- [ Credits](#credits)"
   ]
  },
  {
   "cell_type": "markdown",
   "metadata": {
    "_cell_guid": "7224a910-ec6b-481d-82f1-90ca6b5d037e",
    "_uuid": "9cd04af82734c5b53aaddc80992e1f499c180611"
   },
   "source": [
    "# Kernel Goals\n",
    "<a id=\"aboutthiskernel\"></a>\n",
    "***\n",
    "There are two primary goals of this kernel.\n",
    "- To do a statistical analysis of how some group of people was survived more than others. \n",
    "- To do an exploratory analysis of the dataset.  \n",
    "- Use machine learning models to predict the chances of passengers survival."
   ]
  },
  {
   "cell_type": "markdown",
   "metadata": {
    "_cell_guid": "b3b559a5-dad0-419e-835a-e6babd1042ff",
    "_uuid": "1b1a0b28ad37a349e284d1e6ce6477d11b95e7c9"
   },
   "source": [
    "# Part 1: Importing Necessary Libraries and datasets\n",
    "***\n",
    "<a id=\"import_libraries**\"></a>\n",
    "## 1a. Loading libraries\n",
    "Python is an amazing language with many libraries. Let's import some of the necassary once. \n"
   ]
  },
  {
   "cell_type": "code",
   "execution_count": 1,
   "metadata": {
    "_cell_guid": "80643cb5-64f3-4180-92a9-2f8e83263ac6",
    "_kg_hide-input": true,
    "_uuid": "33d54abf387474bce3017f1fc3832493355010c0"
   },
   "outputs": [],
   "source": [
    "# Import necessary modules for data analysis and data visualization. \n",
    "# Data analysis modules\n",
    "import pandas as pd\n",
    "\n",
    "# numpy is a great library for doing mathmetical operations. \n",
    "import numpy as np\n",
    "\n",
    "# Visualization libraries\n",
    "from matplotlib import pyplot as plt\n",
    "import seaborn as sns\n",
    "%matplotlib inline\n",
    "\n",
    "## Machine learning libraries\n",
    "from sklearn.tree import DecisionTreeClassifier, DecisionTreeRegressor\n",
    "from sklearn.model_selection import cross_val_score,GridSearchCV\n",
    "\n",
    "\n",
    "\n",
    "## Ignore warning\n",
    "import warnings\n",
    "warnings.filterwarnings('ignore')"
   ]
  },
  {
   "cell_type": "markdown",
   "metadata": {
    "_cell_guid": "bd41125b-6dd4-41d9-8905-31edc812d18e",
    "_uuid": "82ccd43cc8449346749bf8a35e1acb9a40e3b141"
   },
   "source": [
    "## 1b. Loading datasets\n",
    "<a id=\"load_data\"></a>\n",
    "***"
   ]
  },
  {
   "cell_type": "markdown",
   "metadata": {
    "_uuid": "30b23f046eef6d19c26e6ad967cef914cf312791"
   },
   "source": [
    "After loading the necessary modules, we need to import the raw dataset. In the real business world, we get our data from many sources. However, we are going to work with the small dataset provided by Kaggle for this kernel. It's simple and sweet. "
   ]
  },
  {
   "cell_type": "code",
   "execution_count": 2,
   "metadata": {
    "_cell_guid": "28722a45-5f11-4629-8814-9ab913e9349a",
    "_kg_hide-input": false,
    "_uuid": "185b34e70f2efded0c665c6713f79b840ddf0c89"
   },
   "outputs": [],
   "source": [
    "## Importing the datasets\n",
    "train = pd.read_csv(\"dataset/train.csv\")\n",
    "test = pd.read_csv(\"dataset/test.csv\")"
   ]
  },
  {
   "cell_type": "markdown",
   "metadata": {
    "_uuid": "d55ae33391486797b979ef1117e8d8401ac1dab4"
   },
   "source": [
    "You are probably wondering why is there two datasets. That's because we use the first one to train our machine learning algorithms and the second one to test and see how well our algorithms are performing.\n",
    "\n",
    "Once we have our data, we clean the data, for example: making sure that none of our data points have a null value, the types are same in both train and test dataset. In the data science field, we spend a tremendous amount of time cleaning the data. It is one of the most daunting parts of data science. However, it can also be a good experience for us to improve our coding skills."
   ]
  },
  {
   "cell_type": "markdown",
   "metadata": {
    "_cell_guid": "c87c72ba-c9b2-48e9-86d8-c711d0795ca0",
    "_uuid": "5759d720798ca115cc5d3d2f75be6961d1455832"
   },
   "source": [
    "## 1c. A Glimpse of the datasets. \n",
    "<a id=\"glimpse\"></a>\n",
    "***"
   ]
  },
  {
   "cell_type": "markdown",
   "metadata": {
    "_cell_guid": "ab439b32-e251-489a-89fd-cfcd61b236bf",
    "_uuid": "69b24241db4d4eae9e46711c384d8130f6fa8322"
   },
   "source": [
    "**> *train* dataset**"
   ]
  },
  {
   "cell_type": "code",
   "execution_count": 3,
   "metadata": {
    "_cell_guid": "0f0649fa-b003-403f-9d7c-d2d14a6cf068",
    "_kg_hide-input": true,
    "_uuid": "877b2fc905cd60e3f9a525b6fedad9a5c0a671e5"
   },
   "outputs": [
    {
     "data": {
      "text/html": [
       "<div>\n",
       "<style scoped>\n",
       "    .dataframe tbody tr th:only-of-type {\n",
       "        vertical-align: middle;\n",
       "    }\n",
       "\n",
       "    .dataframe tbody tr th {\n",
       "        vertical-align: top;\n",
       "    }\n",
       "\n",
       "    .dataframe thead th {\n",
       "        text-align: right;\n",
       "    }\n",
       "</style>\n",
       "<table border=\"1\" class=\"dataframe\">\n",
       "  <thead>\n",
       "    <tr style=\"text-align: right;\">\n",
       "      <th></th>\n",
       "      <th>PassengerId</th>\n",
       "      <th>Survived</th>\n",
       "      <th>Pclass</th>\n",
       "      <th>Name</th>\n",
       "      <th>Sex</th>\n",
       "      <th>Age</th>\n",
       "      <th>SibSp</th>\n",
       "      <th>Parch</th>\n",
       "      <th>Ticket</th>\n",
       "      <th>Fare</th>\n",
       "      <th>Cabin</th>\n",
       "      <th>Embarked</th>\n",
       "    </tr>\n",
       "  </thead>\n",
       "  <tbody>\n",
       "    <tr>\n",
       "      <th>0</th>\n",
       "      <td>1</td>\n",
       "      <td>0</td>\n",
       "      <td>3</td>\n",
       "      <td>Braund, Mr. Owen Harris</td>\n",
       "      <td>male</td>\n",
       "      <td>22.0</td>\n",
       "      <td>1</td>\n",
       "      <td>0</td>\n",
       "      <td>A/5 21171</td>\n",
       "      <td>7.2500</td>\n",
       "      <td>NaN</td>\n",
       "      <td>S</td>\n",
       "    </tr>\n",
       "    <tr>\n",
       "      <th>1</th>\n",
       "      <td>2</td>\n",
       "      <td>1</td>\n",
       "      <td>1</td>\n",
       "      <td>Cumings, Mrs. John Bradley (Florence Briggs Th...</td>\n",
       "      <td>female</td>\n",
       "      <td>38.0</td>\n",
       "      <td>1</td>\n",
       "      <td>0</td>\n",
       "      <td>PC 17599</td>\n",
       "      <td>71.2833</td>\n",
       "      <td>C85</td>\n",
       "      <td>C</td>\n",
       "    </tr>\n",
       "    <tr>\n",
       "      <th>2</th>\n",
       "      <td>3</td>\n",
       "      <td>1</td>\n",
       "      <td>3</td>\n",
       "      <td>Heikkinen, Miss. Laina</td>\n",
       "      <td>female</td>\n",
       "      <td>26.0</td>\n",
       "      <td>0</td>\n",
       "      <td>0</td>\n",
       "      <td>STON/O2. 3101282</td>\n",
       "      <td>7.9250</td>\n",
       "      <td>NaN</td>\n",
       "      <td>S</td>\n",
       "    </tr>\n",
       "    <tr>\n",
       "      <th>3</th>\n",
       "      <td>4</td>\n",
       "      <td>1</td>\n",
       "      <td>1</td>\n",
       "      <td>Futrelle, Mrs. Jacques Heath (Lily May Peel)</td>\n",
       "      <td>female</td>\n",
       "      <td>35.0</td>\n",
       "      <td>1</td>\n",
       "      <td>0</td>\n",
       "      <td>113803</td>\n",
       "      <td>53.1000</td>\n",
       "      <td>C123</td>\n",
       "      <td>S</td>\n",
       "    </tr>\n",
       "    <tr>\n",
       "      <th>4</th>\n",
       "      <td>5</td>\n",
       "      <td>0</td>\n",
       "      <td>3</td>\n",
       "      <td>Allen, Mr. William Henry</td>\n",
       "      <td>male</td>\n",
       "      <td>35.0</td>\n",
       "      <td>0</td>\n",
       "      <td>0</td>\n",
       "      <td>373450</td>\n",
       "      <td>8.0500</td>\n",
       "      <td>NaN</td>\n",
       "      <td>S</td>\n",
       "    </tr>\n",
       "    <tr>\n",
       "      <th>5</th>\n",
       "      <td>6</td>\n",
       "      <td>0</td>\n",
       "      <td>3</td>\n",
       "      <td>Moran, Mr. James</td>\n",
       "      <td>male</td>\n",
       "      <td>NaN</td>\n",
       "      <td>0</td>\n",
       "      <td>0</td>\n",
       "      <td>330877</td>\n",
       "      <td>8.4583</td>\n",
       "      <td>NaN</td>\n",
       "      <td>Q</td>\n",
       "    </tr>\n",
       "    <tr>\n",
       "      <th>6</th>\n",
       "      <td>7</td>\n",
       "      <td>0</td>\n",
       "      <td>1</td>\n",
       "      <td>McCarthy, Mr. Timothy J</td>\n",
       "      <td>male</td>\n",
       "      <td>54.0</td>\n",
       "      <td>0</td>\n",
       "      <td>0</td>\n",
       "      <td>17463</td>\n",
       "      <td>51.8625</td>\n",
       "      <td>E46</td>\n",
       "      <td>S</td>\n",
       "    </tr>\n",
       "    <tr>\n",
       "      <th>7</th>\n",
       "      <td>8</td>\n",
       "      <td>0</td>\n",
       "      <td>3</td>\n",
       "      <td>Palsson, Master. Gosta Leonard</td>\n",
       "      <td>male</td>\n",
       "      <td>2.0</td>\n",
       "      <td>3</td>\n",
       "      <td>1</td>\n",
       "      <td>349909</td>\n",
       "      <td>21.0750</td>\n",
       "      <td>NaN</td>\n",
       "      <td>S</td>\n",
       "    </tr>\n",
       "    <tr>\n",
       "      <th>8</th>\n",
       "      <td>9</td>\n",
       "      <td>1</td>\n",
       "      <td>3</td>\n",
       "      <td>Johnson, Mrs. Oscar W (Elisabeth Vilhelmina Berg)</td>\n",
       "      <td>female</td>\n",
       "      <td>27.0</td>\n",
       "      <td>0</td>\n",
       "      <td>2</td>\n",
       "      <td>347742</td>\n",
       "      <td>11.1333</td>\n",
       "      <td>NaN</td>\n",
       "      <td>S</td>\n",
       "    </tr>\n",
       "    <tr>\n",
       "      <th>9</th>\n",
       "      <td>10</td>\n",
       "      <td>1</td>\n",
       "      <td>2</td>\n",
       "      <td>Nasser, Mrs. Nicholas (Adele Achem)</td>\n",
       "      <td>female</td>\n",
       "      <td>14.0</td>\n",
       "      <td>1</td>\n",
       "      <td>0</td>\n",
       "      <td>237736</td>\n",
       "      <td>30.0708</td>\n",
       "      <td>NaN</td>\n",
       "      <td>C</td>\n",
       "    </tr>\n",
       "  </tbody>\n",
       "</table>\n",
       "</div>"
      ],
      "text/plain": [
       "   PassengerId  Survived  Pclass  \\\n",
       "0            1         0       3   \n",
       "1            2         1       1   \n",
       "2            3         1       3   \n",
       "3            4         1       1   \n",
       "4            5         0       3   \n",
       "5            6         0       3   \n",
       "6            7         0       1   \n",
       "7            8         0       3   \n",
       "8            9         1       3   \n",
       "9           10         1       2   \n",
       "\n",
       "                                                Name     Sex   Age  SibSp  \\\n",
       "0                            Braund, Mr. Owen Harris    male  22.0      1   \n",
       "1  Cumings, Mrs. John Bradley (Florence Briggs Th...  female  38.0      1   \n",
       "2                             Heikkinen, Miss. Laina  female  26.0      0   \n",
       "3       Futrelle, Mrs. Jacques Heath (Lily May Peel)  female  35.0      1   \n",
       "4                           Allen, Mr. William Henry    male  35.0      0   \n",
       "5                                   Moran, Mr. James    male   NaN      0   \n",
       "6                            McCarthy, Mr. Timothy J    male  54.0      0   \n",
       "7                     Palsson, Master. Gosta Leonard    male   2.0      3   \n",
       "8  Johnson, Mrs. Oscar W (Elisabeth Vilhelmina Berg)  female  27.0      0   \n",
       "9                Nasser, Mrs. Nicholas (Adele Achem)  female  14.0      1   \n",
       "\n",
       "   Parch            Ticket     Fare Cabin Embarked  \n",
       "0      0         A/5 21171   7.2500   NaN        S  \n",
       "1      0          PC 17599  71.2833   C85        C  \n",
       "2      0  STON/O2. 3101282   7.9250   NaN        S  \n",
       "3      0            113803  53.1000  C123        S  \n",
       "4      0            373450   8.0500   NaN        S  \n",
       "5      0            330877   8.4583   NaN        Q  \n",
       "6      0             17463  51.8625   E46        S  \n",
       "7      1            349909  21.0750   NaN        S  \n",
       "8      2            347742  11.1333   NaN        S  \n",
       "9      0            237736  30.0708   NaN        C  "
      ]
     },
     "execution_count": 3,
     "metadata": {},
     "output_type": "execute_result"
    }
   ],
   "source": [
    "## Take a look at the overview of the dataset. \n",
    "train.head(10)"
   ]
  },
  {
   "cell_type": "markdown",
   "metadata": {
    "_uuid": "5f7426639cf97db92e4ca85a13e89c8394f6aa7c"
   },
   "source": [
    "This is our train dataset. As you can see, the dataset needs a bit of cleaning. We will do that later. For now, lets find out more about this train dataset. "
   ]
  },
  {
   "cell_type": "code",
   "execution_count": 4,
   "metadata": {
    "_uuid": "1258a94388599a131fe08cd6e05205b15d53df66"
   },
   "outputs": [
    {
     "name": "stdout",
     "output_type": "stream",
     "text": [
      "<class 'pandas.core.frame.DataFrame'>\n",
      "RangeIndex: 891 entries, 0 to 890\n",
      "Data columns (total 12 columns):\n",
      "PassengerId    891 non-null int64\n",
      "Survived       891 non-null int64\n",
      "Pclass         891 non-null int64\n",
      "Name           891 non-null object\n",
      "Sex            891 non-null object\n",
      "Age            714 non-null float64\n",
      "SibSp          891 non-null int64\n",
      "Parch          891 non-null int64\n",
      "Ticket         891 non-null object\n",
      "Fare           891 non-null float64\n",
      "Cabin          204 non-null object\n",
      "Embarked       889 non-null object\n",
      "dtypes: float64(2), int64(5), object(5)\n",
      "memory usage: 83.6+ KB\n"
     ]
    }
   ],
   "source": [
    "train.info()\n"
   ]
  },
  {
   "cell_type": "markdown",
   "metadata": {
    "_cell_guid": "54a1a900-35c8-4e83-9c93-a6ab504d2390",
    "_uuid": "65cfc03998f879d40536af2c8b31e5b4b529c927"
   },
   "source": [
    "**> *test* dataset**"
   ]
  },
  {
   "cell_type": "code",
   "execution_count": 5,
   "metadata": {
    "_cell_guid": "24f4e821-ac04-4732-b5ec-e3a770b751eb",
    "_kg_hide-input": true,
    "_uuid": "9dff4056e68718beff01a01babe0c911e1463ed2"
   },
   "outputs": [
    {
     "data": {
      "text/html": [
       "<div>\n",
       "<style scoped>\n",
       "    .dataframe tbody tr th:only-of-type {\n",
       "        vertical-align: middle;\n",
       "    }\n",
       "\n",
       "    .dataframe tbody tr th {\n",
       "        vertical-align: top;\n",
       "    }\n",
       "\n",
       "    .dataframe thead th {\n",
       "        text-align: right;\n",
       "    }\n",
       "</style>\n",
       "<table border=\"1\" class=\"dataframe\">\n",
       "  <thead>\n",
       "    <tr style=\"text-align: right;\">\n",
       "      <th></th>\n",
       "      <th>PassengerId</th>\n",
       "      <th>Pclass</th>\n",
       "      <th>Name</th>\n",
       "      <th>Sex</th>\n",
       "      <th>Age</th>\n",
       "      <th>SibSp</th>\n",
       "      <th>Parch</th>\n",
       "      <th>Ticket</th>\n",
       "      <th>Fare</th>\n",
       "      <th>Cabin</th>\n",
       "      <th>Embarked</th>\n",
       "    </tr>\n",
       "  </thead>\n",
       "  <tbody>\n",
       "    <tr>\n",
       "      <th>0</th>\n",
       "      <td>892</td>\n",
       "      <td>3</td>\n",
       "      <td>Kelly, Mr. James</td>\n",
       "      <td>male</td>\n",
       "      <td>34.5</td>\n",
       "      <td>0</td>\n",
       "      <td>0</td>\n",
       "      <td>330911</td>\n",
       "      <td>7.8292</td>\n",
       "      <td>NaN</td>\n",
       "      <td>Q</td>\n",
       "    </tr>\n",
       "    <tr>\n",
       "      <th>1</th>\n",
       "      <td>893</td>\n",
       "      <td>3</td>\n",
       "      <td>Wilkes, Mrs. James (Ellen Needs)</td>\n",
       "      <td>female</td>\n",
       "      <td>47.0</td>\n",
       "      <td>1</td>\n",
       "      <td>0</td>\n",
       "      <td>363272</td>\n",
       "      <td>7.0000</td>\n",
       "      <td>NaN</td>\n",
       "      <td>S</td>\n",
       "    </tr>\n",
       "    <tr>\n",
       "      <th>2</th>\n",
       "      <td>894</td>\n",
       "      <td>2</td>\n",
       "      <td>Myles, Mr. Thomas Francis</td>\n",
       "      <td>male</td>\n",
       "      <td>62.0</td>\n",
       "      <td>0</td>\n",
       "      <td>0</td>\n",
       "      <td>240276</td>\n",
       "      <td>9.6875</td>\n",
       "      <td>NaN</td>\n",
       "      <td>Q</td>\n",
       "    </tr>\n",
       "    <tr>\n",
       "      <th>3</th>\n",
       "      <td>895</td>\n",
       "      <td>3</td>\n",
       "      <td>Wirz, Mr. Albert</td>\n",
       "      <td>male</td>\n",
       "      <td>27.0</td>\n",
       "      <td>0</td>\n",
       "      <td>0</td>\n",
       "      <td>315154</td>\n",
       "      <td>8.6625</td>\n",
       "      <td>NaN</td>\n",
       "      <td>S</td>\n",
       "    </tr>\n",
       "    <tr>\n",
       "      <th>4</th>\n",
       "      <td>896</td>\n",
       "      <td>3</td>\n",
       "      <td>Hirvonen, Mrs. Alexander (Helga E Lindqvist)</td>\n",
       "      <td>female</td>\n",
       "      <td>22.0</td>\n",
       "      <td>1</td>\n",
       "      <td>1</td>\n",
       "      <td>3101298</td>\n",
       "      <td>12.2875</td>\n",
       "      <td>NaN</td>\n",
       "      <td>S</td>\n",
       "    </tr>\n",
       "    <tr>\n",
       "      <th>5</th>\n",
       "      <td>897</td>\n",
       "      <td>3</td>\n",
       "      <td>Svensson, Mr. Johan Cervin</td>\n",
       "      <td>male</td>\n",
       "      <td>14.0</td>\n",
       "      <td>0</td>\n",
       "      <td>0</td>\n",
       "      <td>7538</td>\n",
       "      <td>9.2250</td>\n",
       "      <td>NaN</td>\n",
       "      <td>S</td>\n",
       "    </tr>\n",
       "    <tr>\n",
       "      <th>6</th>\n",
       "      <td>898</td>\n",
       "      <td>3</td>\n",
       "      <td>Connolly, Miss. Kate</td>\n",
       "      <td>female</td>\n",
       "      <td>30.0</td>\n",
       "      <td>0</td>\n",
       "      <td>0</td>\n",
       "      <td>330972</td>\n",
       "      <td>7.6292</td>\n",
       "      <td>NaN</td>\n",
       "      <td>Q</td>\n",
       "    </tr>\n",
       "    <tr>\n",
       "      <th>7</th>\n",
       "      <td>899</td>\n",
       "      <td>2</td>\n",
       "      <td>Caldwell, Mr. Albert Francis</td>\n",
       "      <td>male</td>\n",
       "      <td>26.0</td>\n",
       "      <td>1</td>\n",
       "      <td>1</td>\n",
       "      <td>248738</td>\n",
       "      <td>29.0000</td>\n",
       "      <td>NaN</td>\n",
       "      <td>S</td>\n",
       "    </tr>\n",
       "    <tr>\n",
       "      <th>8</th>\n",
       "      <td>900</td>\n",
       "      <td>3</td>\n",
       "      <td>Abrahim, Mrs. Joseph (Sophie Halaut Easu)</td>\n",
       "      <td>female</td>\n",
       "      <td>18.0</td>\n",
       "      <td>0</td>\n",
       "      <td>0</td>\n",
       "      <td>2657</td>\n",
       "      <td>7.2292</td>\n",
       "      <td>NaN</td>\n",
       "      <td>C</td>\n",
       "    </tr>\n",
       "    <tr>\n",
       "      <th>9</th>\n",
       "      <td>901</td>\n",
       "      <td>3</td>\n",
       "      <td>Davies, Mr. John Samuel</td>\n",
       "      <td>male</td>\n",
       "      <td>21.0</td>\n",
       "      <td>2</td>\n",
       "      <td>0</td>\n",
       "      <td>A/4 48871</td>\n",
       "      <td>24.1500</td>\n",
       "      <td>NaN</td>\n",
       "      <td>S</td>\n",
       "    </tr>\n",
       "  </tbody>\n",
       "</table>\n",
       "</div>"
      ],
      "text/plain": [
       "   PassengerId  Pclass                                          Name     Sex  \\\n",
       "0          892       3                              Kelly, Mr. James    male   \n",
       "1          893       3              Wilkes, Mrs. James (Ellen Needs)  female   \n",
       "2          894       2                     Myles, Mr. Thomas Francis    male   \n",
       "3          895       3                              Wirz, Mr. Albert    male   \n",
       "4          896       3  Hirvonen, Mrs. Alexander (Helga E Lindqvist)  female   \n",
       "5          897       3                    Svensson, Mr. Johan Cervin    male   \n",
       "6          898       3                          Connolly, Miss. Kate  female   \n",
       "7          899       2                  Caldwell, Mr. Albert Francis    male   \n",
       "8          900       3     Abrahim, Mrs. Joseph (Sophie Halaut Easu)  female   \n",
       "9          901       3                       Davies, Mr. John Samuel    male   \n",
       "\n",
       "    Age  SibSp  Parch     Ticket     Fare Cabin Embarked  \n",
       "0  34.5      0      0     330911   7.8292   NaN        Q  \n",
       "1  47.0      1      0     363272   7.0000   NaN        S  \n",
       "2  62.0      0      0     240276   9.6875   NaN        Q  \n",
       "3  27.0      0      0     315154   8.6625   NaN        S  \n",
       "4  22.0      1      1    3101298  12.2875   NaN        S  \n",
       "5  14.0      0      0       7538   9.2250   NaN        S  \n",
       "6  30.0      0      0     330972   7.6292   NaN        Q  \n",
       "7  26.0      1      1     248738  29.0000   NaN        S  \n",
       "8  18.0      0      0       2657   7.2292   NaN        C  \n",
       "9  21.0      2      0  A/4 48871  24.1500   NaN        S  "
      ]
     },
     "execution_count": 5,
     "metadata": {},
     "output_type": "execute_result"
    }
   ],
   "source": [
    "test.head(10)"
   ]
  },
  {
   "cell_type": "markdown",
   "metadata": {
    "_cell_guid": "15c64d36-94b3-4798-af86-775f70feb2dd",
    "_uuid": "c72d21139ee6220aee5d8f654561864a5f6499b7"
   },
   "source": [
    " ## 1d. About This Dataset\n",
    "<a id=\"aboutthisdataset\"></a>\n",
    "***\n",
    "The data has split into two groups:\n",
    "\n",
    "- training set (train.csv)\n",
    "- test set (test.csv)\n",
    "\n",
    "***The training set includes our target variable(dependent variable), passenger survival status***(also known as the ground truth from the Titanic tragedy) along with other independent features like gender, class, fare, and Pclass. \n",
    "\n",
    "The test set should be used to see how well our model performs on unseen data. When we say unseen data, we mean that the algorithm or machine learning models have no relation to the test data. We do not want to use any part of the test data in any way to modify our algorithms; Which are the reasons why we clean our test data and train data separately. ***The test set does not provide passengers survival status***. We are going to use our model to predict passenger survival status.\n",
    "\n",
    "Now let's go through the features and describe a little. There is a couple of different type of variables, They are...\n",
    "\n",
    "***\n",
    "**Categorical:**\n",
    "- **Nominal**(variables that have two or more categories, but which do not have an intrinsic order.)\n",
    "   > - **Cabin**\n",
    "   > - **Embarked**(Port of Embarkation)\n",
    "            C(Cherbourg)\n",
    "            Q(Queenstown) \n",
    "            S(Southampton)\n",
    "        \n",
    "- **Dichotomous**(Nominal variable with only two categories)\n",
    "   > - **Sex**\n",
    "            Female\n",
    "            Male\n",
    "- **Ordinal**(variables that have two or more categories just like nominal variables. Only the categories can also be ordered or ranked.)\n",
    "   > - **Pclass** (A proxy for socio-economic status (SES)) \n",
    "            1(Upper)\n",
    "            2(Middle) \n",
    "            3(Lower)\n",
    "***\n",
    "**Numeric:**\n",
    "- **Discrete**\n",
    "  >  - **Passenger ID**(Unique identifing # for each passenger)\n",
    "  >  - **SibSp**\n",
    "  >  - **Parch**\n",
    "  >  - **Survived** (Our outcome or dependent variable)\n",
    "            0\n",
    "            1\n",
    "            \n",
    "        \n",
    "- **Continous**\n",
    ">  - **Age**\n",
    ">  - **Fare**\n",
    "***\n",
    "**Text Variable**\n",
    "> - **Ticket** (Ticket number for passenger.)\n",
    "> - **Name**(  Name of the passenger.) \n",
    "\n"
   ]
  },
  {
   "cell_type": "markdown",
   "metadata": {
    "_cell_guid": "7b21d695-c767-48ad-a3c8-abb9bba56e71",
    "_uuid": "53fdd02b149e47bd7168dba94ddff754626b1781"
   },
   "source": [
    "## 1e. Tableau visualization\n",
    "<a id='tableau_visualization'></a>\n",
    "***\n",
    "I have incorporated a tableau visualization below of the training data. This visualization... \n",
    "* is for us to have an overview and play around with the dataset. \n",
    "* is done without making any changes(including Null values) to any features of the dataset.\n",
    "***\n",
    "Let's get a better perspective of the dataset through this visualization.\n"
   ]
  },
  {
   "cell_type": "code",
   "execution_count": 6,
   "metadata": {
    "_cell_guid": "0ca9339e-4d13-4eb6-b28b-4a9e614ca2d0",
    "_kg_hide-input": true,
    "_uuid": "bc9819aecc9adceb1fa3fe151388fd41f5dcece2",
    "scrolled": false
   },
   "outputs": [
    {
     "data": {
      "text/html": [
       "<div class='tableauPlaceholder' id='viz1516349898238' style='position: relative'><noscript><a href='#'><img alt='An Overview of Titanic Training Dataset ' src='https:&#47;&#47;public.tableau.com&#47;static&#47;images&#47;Ti&#47;Titanic_data_mining&#47;Dashboard1&#47;1_rss.png' style='border: none' /></a></noscript><object class='tableauViz'  style='display:none;'><param name='host_url' value='https%3A%2F%2Fpublic.tableau.com%2F' /> <param name='embed_code_version' value='3' /> <param name='site_root' value='' /><param name='name' value='Titanic_data_mining&#47;Dashboard1' /><param name='tabs' value='no' /><param name='toolbar' value='yes' /><param name='static_image' value='https:&#47;&#47;public.tableau.com&#47;static&#47;images&#47;Ti&#47;Titanic_data_mining&#47;Dashboard1&#47;1.png' /> <param name='animate_transition' value='yes' /><param name='display_static_image' value='yes' /><param name='display_spinner' value='yes' /><param name='display_overlay' value='yes' /><param name='display_count' value='yes' /><param name='filter' value='publish=yes' /></object></div>                <script type='text/javascript'>                    var divElement = document.getElementById('viz1516349898238');                    var vizElement = divElement.getElementsByTagName('object')[0];                    vizElement.style.width='100%';vizElement.style.height=(divElement.offsetWidth*0.75)+'px';                    var scriptElement = document.createElement('script');                    scriptElement.src = 'https://public.tableau.com/javascripts/api/viz_v1.js';                    vizElement.parentNode.insertBefore(scriptElement, vizElement);                </script>"
      ],
      "text/plain": [
       "<IPython.core.display.HTML object>"
      ]
     },
     "metadata": {},
     "output_type": "display_data"
    }
   ],
   "source": [
    "%%HTML\n",
    "<div class='tableauPlaceholder' id='viz1516349898238' style='position: relative'><noscript><a href='#'><img alt='An Overview of Titanic Training Dataset ' src='https:&#47;&#47;public.tableau.com&#47;static&#47;images&#47;Ti&#47;Titanic_data_mining&#47;Dashboard1&#47;1_rss.png' style='border: none' /></a></noscript><object class='tableauViz'  style='display:none;'><param name='host_url' value='https%3A%2F%2Fpublic.tableau.com%2F' /> <param name='embed_code_version' value='3' /> <param name='site_root' value='' /><param name='name' value='Titanic_data_mining&#47;Dashboard1' /><param name='tabs' value='no' /><param name='toolbar' value='yes' /><param name='static_image' value='https:&#47;&#47;public.tableau.com&#47;static&#47;images&#47;Ti&#47;Titanic_data_mining&#47;Dashboard1&#47;1.png' /> <param name='animate_transition' value='yes' /><param name='display_static_image' value='yes' /><param name='display_spinner' value='yes' /><param name='display_overlay' value='yes' /><param name='display_count' value='yes' /><param name='filter' value='publish=yes' /></object></div>                <script type='text/javascript'>                    var divElement = document.getElementById('viz1516349898238');                    var vizElement = divElement.getElementsByTagName('object')[0];                    vizElement.style.width='100%';vizElement.style.height=(divElement.offsetWidth*0.75)+'px';                    var scriptElement = document.createElement('script');                    scriptElement.src = 'https://public.tableau.com/javascripts/api/viz_v1.js';                    vizElement.parentNode.insertBefore(scriptElement, vizElement);                </script>"
   ]
  },
  {
   "cell_type": "markdown",
   "metadata": {
    "_cell_guid": "2b6ce9bc-8210-433d-ab4b-d8afe93c3810",
    "_uuid": "b46be01bb1ba3ff4f23c72038679542ba3f780de"
   },
   "source": [
    "We want to see how the left bar(with green and red) changes when we filter out specific values. We can use multiple filters to see if there are any correlations among them. For example, if we click on **upper** and **Female** tab, we would see that green color dominates the bar with 91 survived female passengers with only three female passengers that did not survive. The age distribution chart on top provides us with some more info such as, what was the age range of those three unlucky females as the red color give away the unsurvived once. "
   ]
  },
  {
   "cell_type": "markdown",
   "metadata": {
    "_cell_guid": "24dfbb58-4708-42a1-9122-c7e0b96ad0e9",
    "_uuid": "e789474652ddf03c65e7bb8f17f69544b907cecb"
   },
   "source": [
    "# Part 2: Overview and Cleaning the Data\n",
    "<a id=\"cleaningthedata\"></a>\n",
    "***\n",
    "## 2a. Overview"
   ]
  },
  {
   "cell_type": "markdown",
   "metadata": {
    "_cell_guid": "359e6e3e-3a27-45aa-b6cf-ec18b8220eae",
    "_uuid": "f0ec8e9300f40427a2a53f9c3e3f92e120ce786b"
   },
   "source": [
    "This dataset is almost clean. However, before we jump into EDA, lets analyze and see what we have here."
   ]
  },
  {
   "cell_type": "code",
   "execution_count": 7,
   "metadata": {
    "_cell_guid": "bf19c831-fbe0-49b6-8bf8-d7db118f40b1",
    "_uuid": "5a0593fb4564f0284ca7fdf5c006020cb288db95",
    "scrolled": true
   },
   "outputs": [
    {
     "name": "stdout",
     "output_type": "stream",
     "text": [
      "<class 'pandas.core.frame.DataFrame'>\n",
      "RangeIndex: 891 entries, 0 to 890\n",
      "Data columns (total 11 columns):\n",
      "Survived    891 non-null int64\n",
      "Pclass      891 non-null int64\n",
      "Name        891 non-null object\n",
      "Sex         891 non-null object\n",
      "Age         714 non-null float64\n",
      "SibSp       891 non-null int64\n",
      "Parch       891 non-null int64\n",
      "Ticket      891 non-null object\n",
      "Fare        891 non-null float64\n",
      "Cabin       204 non-null object\n",
      "Embarked    889 non-null object\n",
      "dtypes: float64(2), int64(4), object(5)\n",
      "memory usage: 76.6+ KB\n",
      "None\n",
      "****************************************\n",
      "<class 'pandas.core.frame.DataFrame'>\n",
      "RangeIndex: 418 entries, 0 to 417\n",
      "Data columns (total 10 columns):\n",
      "Pclass      418 non-null int64\n",
      "Name        418 non-null object\n",
      "Sex         418 non-null object\n",
      "Age         332 non-null float64\n",
      "SibSp       418 non-null int64\n",
      "Parch       418 non-null int64\n",
      "Ticket      418 non-null object\n",
      "Fare        417 non-null float64\n",
      "Cabin       91 non-null object\n",
      "Embarked    418 non-null object\n",
      "dtypes: float64(2), int64(3), object(5)\n",
      "memory usage: 32.7+ KB\n",
      "None\n"
     ]
    }
   ],
   "source": [
    "## saving passenger id in advance in order to submit later. \n",
    "passengerid = test.PassengerId\n",
    "## We will drop PassengerID and Ticket since it will be useless for our data. \n",
    "train.drop(['PassengerId'], axis=1, inplace=True)\n",
    "test.drop(['PassengerId'], axis=1, inplace=True)\n",
    "\n",
    "print (train.info())\n",
    "print (\"*\"*40)\n",
    "print (test.info())"
   ]
  },
  {
   "cell_type": "markdown",
   "metadata": {
    "_cell_guid": "f9b2f56f-e95c-478d-aa49-3f6cb277830f",
    "_uuid": "b5accab7fc7471fea224dcae81683b9f3c0f617b"
   },
   "source": [
    "It looks like, the features have unequal amount of data entries and they have many different types of variables. This can happen for the following reasons...\n",
    "* We may have missing values in our features.\n",
    "* We may have categorical features. \n",
    "* We may have alphanumerical or/and text features. \n"
   ]
  },
  {
   "cell_type": "markdown",
   "metadata": {
    "_cell_guid": "9912539a-12b5-4739-bc2c-e1cecf758dca",
    "_uuid": "6105e90cd8f0e8d49ae188edad65414678a7be23"
   },
   "source": [
    "## 2b. Dealing with Missing values\n",
    "<a id=\"dealwithnullvalues\"></a>\n",
    "***\n",
    "**Missing values in *train* dataset.**"
   ]
  },
  {
   "cell_type": "code",
   "execution_count": 8,
   "metadata": {
    "_cell_guid": "0697eeff-646c-40f7-85f6-7e4a2b8d348f",
    "_kg_hide-input": true,
    "_uuid": "cd80d32deb4afd854d02905cab26fc81feaa4d18"
   },
   "outputs": [
    {
     "data": {
      "text/html": [
       "<div>\n",
       "<style scoped>\n",
       "    .dataframe tbody tr th:only-of-type {\n",
       "        vertical-align: middle;\n",
       "    }\n",
       "\n",
       "    .dataframe tbody tr th {\n",
       "        vertical-align: top;\n",
       "    }\n",
       "\n",
       "    .dataframe thead th {\n",
       "        text-align: right;\n",
       "    }\n",
       "</style>\n",
       "<table border=\"1\" class=\"dataframe\">\n",
       "  <thead>\n",
       "    <tr style=\"text-align: right;\">\n",
       "      <th></th>\n",
       "      <th>Total</th>\n",
       "      <th>Percent</th>\n",
       "    </tr>\n",
       "  </thead>\n",
       "  <tbody>\n",
       "    <tr>\n",
       "      <th>Cabin</th>\n",
       "      <td>687</td>\n",
       "      <td>77.10</td>\n",
       "    </tr>\n",
       "    <tr>\n",
       "      <th>Age</th>\n",
       "      <td>177</td>\n",
       "      <td>19.87</td>\n",
       "    </tr>\n",
       "    <tr>\n",
       "      <th>Embarked</th>\n",
       "      <td>2</td>\n",
       "      <td>0.22</td>\n",
       "    </tr>\n",
       "    <tr>\n",
       "      <th>Fare</th>\n",
       "      <td>0</td>\n",
       "      <td>0.00</td>\n",
       "    </tr>\n",
       "    <tr>\n",
       "      <th>Ticket</th>\n",
       "      <td>0</td>\n",
       "      <td>0.00</td>\n",
       "    </tr>\n",
       "    <tr>\n",
       "      <th>Parch</th>\n",
       "      <td>0</td>\n",
       "      <td>0.00</td>\n",
       "    </tr>\n",
       "    <tr>\n",
       "      <th>SibSp</th>\n",
       "      <td>0</td>\n",
       "      <td>0.00</td>\n",
       "    </tr>\n",
       "    <tr>\n",
       "      <th>Sex</th>\n",
       "      <td>0</td>\n",
       "      <td>0.00</td>\n",
       "    </tr>\n",
       "    <tr>\n",
       "      <th>Name</th>\n",
       "      <td>0</td>\n",
       "      <td>0.00</td>\n",
       "    </tr>\n",
       "    <tr>\n",
       "      <th>Pclass</th>\n",
       "      <td>0</td>\n",
       "      <td>0.00</td>\n",
       "    </tr>\n",
       "    <tr>\n",
       "      <th>Survived</th>\n",
       "      <td>0</td>\n",
       "      <td>0.00</td>\n",
       "    </tr>\n",
       "  </tbody>\n",
       "</table>\n",
       "</div>"
      ],
      "text/plain": [
       "          Total  Percent\n",
       "Cabin       687    77.10\n",
       "Age         177    19.87\n",
       "Embarked      2     0.22\n",
       "Fare          0     0.00\n",
       "Ticket        0     0.00\n",
       "Parch         0     0.00\n",
       "SibSp         0     0.00\n",
       "Sex           0     0.00\n",
       "Name          0     0.00\n",
       "Pclass        0     0.00\n",
       "Survived      0     0.00"
      ]
     },
     "execution_count": 8,
     "metadata": {},
     "output_type": "execute_result"
    }
   ],
   "source": [
    "total = train.isnull().sum().sort_values(ascending = False)\n",
    "percent = round(train.isnull().sum().sort_values(ascending = False)/len(train)*100, 2)\n",
    "pd.concat([total, percent], axis = 1,keys= ['Total', 'Percent'])"
   ]
  },
  {
   "cell_type": "markdown",
   "metadata": {
    "_cell_guid": "6e1b2b57-78b9-4021-bc53-a7681b63f97c",
    "_uuid": "197487867c9d099548c7d009c4a80418927be07c"
   },
   "source": [
    "**Missing values in *test* set.**"
   ]
  },
  {
   "cell_type": "code",
   "execution_count": 9,
   "metadata": {
    "_cell_guid": "073ef91b-e401-47a1-9b0a-d08ad710abce",
    "_kg_hide-input": true,
    "_uuid": "1ec1de271f57c9435ce111261ba08c5d6e34dbcb"
   },
   "outputs": [
    {
     "data": {
      "text/html": [
       "<div>\n",
       "<style scoped>\n",
       "    .dataframe tbody tr th:only-of-type {\n",
       "        vertical-align: middle;\n",
       "    }\n",
       "\n",
       "    .dataframe tbody tr th {\n",
       "        vertical-align: top;\n",
       "    }\n",
       "\n",
       "    .dataframe thead th {\n",
       "        text-align: right;\n",
       "    }\n",
       "</style>\n",
       "<table border=\"1\" class=\"dataframe\">\n",
       "  <thead>\n",
       "    <tr style=\"text-align: right;\">\n",
       "      <th></th>\n",
       "      <th>Total</th>\n",
       "      <th>Percent</th>\n",
       "    </tr>\n",
       "  </thead>\n",
       "  <tbody>\n",
       "    <tr>\n",
       "      <th>Cabin</th>\n",
       "      <td>327</td>\n",
       "      <td>36.70</td>\n",
       "    </tr>\n",
       "    <tr>\n",
       "      <th>Age</th>\n",
       "      <td>86</td>\n",
       "      <td>9.65</td>\n",
       "    </tr>\n",
       "    <tr>\n",
       "      <th>Fare</th>\n",
       "      <td>1</td>\n",
       "      <td>0.11</td>\n",
       "    </tr>\n",
       "    <tr>\n",
       "      <th>Embarked</th>\n",
       "      <td>0</td>\n",
       "      <td>0.00</td>\n",
       "    </tr>\n",
       "    <tr>\n",
       "      <th>Ticket</th>\n",
       "      <td>0</td>\n",
       "      <td>0.00</td>\n",
       "    </tr>\n",
       "    <tr>\n",
       "      <th>Parch</th>\n",
       "      <td>0</td>\n",
       "      <td>0.00</td>\n",
       "    </tr>\n",
       "    <tr>\n",
       "      <th>SibSp</th>\n",
       "      <td>0</td>\n",
       "      <td>0.00</td>\n",
       "    </tr>\n",
       "    <tr>\n",
       "      <th>Sex</th>\n",
       "      <td>0</td>\n",
       "      <td>0.00</td>\n",
       "    </tr>\n",
       "    <tr>\n",
       "      <th>Name</th>\n",
       "      <td>0</td>\n",
       "      <td>0.00</td>\n",
       "    </tr>\n",
       "    <tr>\n",
       "      <th>Pclass</th>\n",
       "      <td>0</td>\n",
       "      <td>0.00</td>\n",
       "    </tr>\n",
       "  </tbody>\n",
       "</table>\n",
       "</div>"
      ],
      "text/plain": [
       "          Total  Percent\n",
       "Cabin       327    36.70\n",
       "Age          86     9.65\n",
       "Fare          1     0.11\n",
       "Embarked      0     0.00\n",
       "Ticket        0     0.00\n",
       "Parch         0     0.00\n",
       "SibSp         0     0.00\n",
       "Sex           0     0.00\n",
       "Name          0     0.00\n",
       "Pclass        0     0.00"
      ]
     },
     "execution_count": 9,
     "metadata": {},
     "output_type": "execute_result"
    }
   ],
   "source": [
    "total = test.isnull().sum().sort_values(ascending = False)\n",
    "percent = round(test.isnull().sum().sort_values(ascending = False)/len(train)*100, 2)\n",
    "pd.concat([total, percent], axis = 1,keys= ['Total', 'Percent'])"
   ]
  },
  {
   "cell_type": "markdown",
   "metadata": {
    "_cell_guid": "0217a17b-8017-4221-a664-dbbc42f7a5eb",
    "_uuid": "2051377dfc36cbeb9fda78cb02d5bd3a00ee2457"
   },
   "source": [
    "We see that in both **train**, and **test** dataset have missing values. Let's make an effort to fill these missing values. "
   ]
  },
  {
   "cell_type": "markdown",
   "metadata": {
    "_cell_guid": "aaf73f0b-ec84-4da1-b424-0170691c50c8",
    "_uuid": "84d3c45c3a59e16ac2c887d6effe71434b2659ef"
   },
   "source": [
    "### Embarked feature\n",
    "***"
   ]
  },
  {
   "cell_type": "code",
   "execution_count": 10,
   "metadata": {
    "_cell_guid": "85e9bf60-49fe-457b-8122-05f593d15644",
    "_kg_hide-input": true,
    "_uuid": "27393f69ab5535756a53ab09d1139309cb80c527"
   },
   "outputs": [
    {
     "data": {
      "text/html": [
       "<div>\n",
       "<style scoped>\n",
       "    .dataframe tbody tr th:only-of-type {\n",
       "        vertical-align: middle;\n",
       "    }\n",
       "\n",
       "    .dataframe tbody tr th {\n",
       "        vertical-align: top;\n",
       "    }\n",
       "\n",
       "    .dataframe thead tr th {\n",
       "        text-align: left;\n",
       "    }\n",
       "</style>\n",
       "<table border=\"1\" class=\"dataframe\">\n",
       "  <thead>\n",
       "    <tr>\n",
       "      <th></th>\n",
       "      <th>Total_per_group</th>\n",
       "      <th>Percent</th>\n",
       "    </tr>\n",
       "    <tr>\n",
       "      <th></th>\n",
       "      <th>Embarked</th>\n",
       "      <th>Embarked</th>\n",
       "    </tr>\n",
       "  </thead>\n",
       "  <tbody>\n",
       "    <tr>\n",
       "      <th>S</th>\n",
       "      <td>644</td>\n",
       "      <td>72.28</td>\n",
       "    </tr>\n",
       "    <tr>\n",
       "      <th>C</th>\n",
       "      <td>168</td>\n",
       "      <td>18.86</td>\n",
       "    </tr>\n",
       "    <tr>\n",
       "      <th>Q</th>\n",
       "      <td>77</td>\n",
       "      <td>8.64</td>\n",
       "    </tr>\n",
       "    <tr>\n",
       "      <th>NaN</th>\n",
       "      <td>2</td>\n",
       "      <td>0.22</td>\n",
       "    </tr>\n",
       "  </tbody>\n",
       "</table>\n",
       "</div>"
      ],
      "text/plain": [
       "    Total_per_group  Percent\n",
       "           Embarked Embarked\n",
       "S               644    72.28\n",
       "C               168    18.86\n",
       "Q                77     8.64\n",
       "NaN               2     0.22"
      ]
     },
     "execution_count": 10,
     "metadata": {},
     "output_type": "execute_result"
    }
   ],
   "source": [
    "percent = pd.DataFrame(round(train.Embarked.value_counts(dropna=False, normalize=True)*100,2))\n",
    "## creating a df with the #\n",
    "total = pd.DataFrame(train.Embarked.value_counts(dropna=False))\n",
    "## concating percent and total dataframe\n",
    "pd.concat([total, percent], axis = 1, keys=['Total_per_group', 'Percent'])"
   ]
  },
  {
   "cell_type": "markdown",
   "metadata": {
    "_cell_guid": "826ae31d-4bd0-45f6-8c05-8b5d12d41144",
    "_uuid": "174873ebdb2cd6c23777d464103afa26c0183ab2"
   },
   "source": [
    "It looks like there are only two null values( ~ 0.22 %) in the Embarked feature, we can replace these with the mode value \"S.\" \n",
    "\n",
    "**Let's see what are those two null values**"
   ]
  },
  {
   "cell_type": "code",
   "execution_count": 11,
   "metadata": {
    "_cell_guid": "000ebdd7-ff57-48d9-91bf-a29ba79f1a1c",
    "_kg_hide-input": true,
    "_uuid": "6b9cb050e9dae424bb738ba9cdf3c84715887fa3"
   },
   "outputs": [
    {
     "data": {
      "text/html": [
       "<div>\n",
       "<style scoped>\n",
       "    .dataframe tbody tr th:only-of-type {\n",
       "        vertical-align: middle;\n",
       "    }\n",
       "\n",
       "    .dataframe tbody tr th {\n",
       "        vertical-align: top;\n",
       "    }\n",
       "\n",
       "    .dataframe thead th {\n",
       "        text-align: right;\n",
       "    }\n",
       "</style>\n",
       "<table border=\"1\" class=\"dataframe\">\n",
       "  <thead>\n",
       "    <tr style=\"text-align: right;\">\n",
       "      <th></th>\n",
       "      <th>Survived</th>\n",
       "      <th>Pclass</th>\n",
       "      <th>Name</th>\n",
       "      <th>Sex</th>\n",
       "      <th>Age</th>\n",
       "      <th>SibSp</th>\n",
       "      <th>Parch</th>\n",
       "      <th>Ticket</th>\n",
       "      <th>Fare</th>\n",
       "      <th>Cabin</th>\n",
       "      <th>Embarked</th>\n",
       "    </tr>\n",
       "  </thead>\n",
       "  <tbody>\n",
       "    <tr>\n",
       "      <th>61</th>\n",
       "      <td>1</td>\n",
       "      <td>1</td>\n",
       "      <td>Icard, Miss. Amelie</td>\n",
       "      <td>female</td>\n",
       "      <td>38.0</td>\n",
       "      <td>0</td>\n",
       "      <td>0</td>\n",
       "      <td>113572</td>\n",
       "      <td>80.0</td>\n",
       "      <td>B28</td>\n",
       "      <td>NaN</td>\n",
       "    </tr>\n",
       "    <tr>\n",
       "      <th>829</th>\n",
       "      <td>1</td>\n",
       "      <td>1</td>\n",
       "      <td>Stone, Mrs. George Nelson (Martha Evelyn)</td>\n",
       "      <td>female</td>\n",
       "      <td>62.0</td>\n",
       "      <td>0</td>\n",
       "      <td>0</td>\n",
       "      <td>113572</td>\n",
       "      <td>80.0</td>\n",
       "      <td>B28</td>\n",
       "      <td>NaN</td>\n",
       "    </tr>\n",
       "  </tbody>\n",
       "</table>\n",
       "</div>"
      ],
      "text/plain": [
       "     Survived  Pclass                                       Name     Sex  \\\n",
       "61          1       1                        Icard, Miss. Amelie  female   \n",
       "829         1       1  Stone, Mrs. George Nelson (Martha Evelyn)  female   \n",
       "\n",
       "      Age  SibSp  Parch  Ticket  Fare Cabin Embarked  \n",
       "61   38.0      0      0  113572  80.0   B28      NaN  \n",
       "829  62.0      0      0  113572  80.0   B28      NaN  "
      ]
     },
     "execution_count": 11,
     "metadata": {},
     "output_type": "execute_result"
    }
   ],
   "source": [
    "train[train.Embarked.isnull()]"
   ]
  },
  {
   "cell_type": "markdown",
   "metadata": {
    "_cell_guid": "306da283-fbd9-45fc-a79e-ac4a3fa7d396",
    "_uuid": "57a4016a0ff673cdf5716310d42d7f142d275132"
   },
   "source": [
    "We may be able to solve these two missing values by looking at other independent variables of the two raws. Both passengers paid a fare of $80, are of Pclass 1 and female Sex. Let's see how the **Fare** is distributed among all **Pclass** and **Embarked** feature values"
   ]
  },
  {
   "cell_type": "code",
   "execution_count": 12,
   "metadata": {
    "_cell_guid": "bf257322-0c9c-4fc5-8790-87d8c94ad28a",
    "_kg_hide-input": true,
    "_uuid": "ad15052fe6cebe37161c6e01e33a5c083dc2b558"
   },
   "outputs": [
    {
     "data": {
      "image/png": "[encoded data removed]",
      "text/plain": [
       "<Figure size 1152x864 with 2 Axes>"
      ]
     },
     "metadata": {},
     "output_type": "display_data"
    }
   ],
   "source": [
    "fig, ax = plt.subplots(figsize=(16,12),ncols=2)\n",
    "ax1 = sns.boxplot(x=\"Embarked\", y=\"Fare\", hue=\"Pclass\", data=train, ax = ax[0]);\n",
    "ax2 = sns.boxplot(x=\"Embarked\", y=\"Fare\", hue=\"Pclass\", data=test, ax = ax[1]);\n",
    "ax1.set_title(\"Training Set\", fontsize = 18)\n",
    "ax2.set_title('Test Set',  fontsize = 18)\n",
    "fig.show()"
   ]
  },
  {
   "cell_type": "raw",
   "metadata": {
    "_cell_guid": "0e353881-a7d7-4fbf-bfd3-874479c0a650",
    "_uuid": "c8a7f8c033f571d2fc8986009765ac4a78d3b6a7"
   },
   "source": [
    "Here, in both training set and test set, the average fare closest to $80 are in the **C** Embarked values. So, let's fill in the missing values as \"C\" "
   ]
  },
  {
   "cell_type": "code",
   "execution_count": 13,
   "metadata": {
    "_cell_guid": "2f5f3c63-d22c-483c-a688-a5ec2a477330",
    "_kg_hide-input": true,
    "_uuid": "52e51ada5dfeb700bf775c66e9307d6d1e2233de",
    "scrolled": true
   },
   "outputs": [],
   "source": [
    "## Replacing the null values in the Embarked column with the mode. \n",
    "train.Embarked.fillna(\"C\", inplace=True)"
   ]
  },
  {
   "cell_type": "markdown",
   "metadata": {
    "_cell_guid": "47c17b1e-9486-43da-84ad-f91014225e88",
    "_uuid": "44af808c1563671899ee498c9df12312c294277c"
   },
   "source": [
    "### Cabin Feature\n",
    "***\n"
   ]
  },
  {
   "cell_type": "code",
   "execution_count": 14,
   "metadata": {
    "_cell_guid": "e76cd770-b498-4444-b47a-4ac6ae63193b",
    "_kg_hide-input": true,
    "_uuid": "b809a788784e2fb443457d7ef4ca17a896bf58b4",
    "scrolled": true
   },
   "outputs": [
    {
     "name": "stdout",
     "output_type": "stream",
     "text": [
      "Train Cabin missing: 0.7710437710437711\n",
      "Test Cabin missing: 0.7822966507177034\n"
     ]
    }
   ],
   "source": [
    "print(\"Train Cabin missing: \" + str(train.Cabin.isnull().sum()/len(train.Cabin)))\n",
    "print(\"Test Cabin missing: \" + str(test.Cabin.isnull().sum()/len(test.Cabin)))"
   ]
  },
  {
   "cell_type": "markdown",
   "metadata": {
    "_cell_guid": "47d450a8-0692-4403-8447-ab09d6dd0b8f",
    "_uuid": "e61d1e4613dd4f51970d504e93ae30c072ca9d98"
   },
   "source": [
    "Approximately 77% of Cabin feature is missing in the training data and 78% missing on the test data. \n",
    "We have two choices, \n",
    "* we can either get rid of the whole feature, or \n",
    "* we can brainstorm a little and find an appropriate way to put them in use. For example, We may say passengers with cabin records had a higher socio-economic-status then others. We may also say passengers with cabin records were more likely to be taken into consideration for the rescue mission. \n",
    "\n",
    "I think it's would be wise to keep the data. We will assign all the null values as **\"N\"**"
   ]
  },
  {
   "cell_type": "code",
   "execution_count": 15,
   "metadata": {
    "_cell_guid": "ddb293d8-b8a8-442a-ae0a-0a6b18e93b03",
    "_uuid": "248bb0001b18338fd7dabd3334b0b41c09bdbb31"
   },
   "outputs": [],
   "source": [
    "## Assigning all the null values as \"N\"\n",
    "train.Cabin.fillna(\"N\", inplace=True)\n",
    "test.Cabin.fillna(\"N\", inplace=True)"
   ]
  },
  {
   "cell_type": "markdown",
   "metadata": {
    "_cell_guid": "dae4beab-8c5a-4192-a460-e9abc6f14d3e",
    "_uuid": "e2d84eff7cafdd68a471876b65e0ae866151d6d2"
   },
   "source": [
    "All the cabin names start with an English alphabet following by digits. We can group these cabins by naming these cabins with that first alphabet. "
   ]
  },
  {
   "cell_type": "code",
   "execution_count": 16,
   "metadata": {
    "_cell_guid": "87995359-8a77-4e38-b8bb-e9b4bdeb17ed",
    "_kg_hide-input": true,
    "_uuid": "c1e9e06eb7f2a6eeb1a6d69f000217e7de7d5f25"
   },
   "outputs": [
    {
     "data": {
      "text/html": [
       "<div>\n",
       "<style scoped>\n",
       "    .dataframe tbody tr th:only-of-type {\n",
       "        vertical-align: middle;\n",
       "    }\n",
       "\n",
       "    .dataframe tbody tr th {\n",
       "        vertical-align: top;\n",
       "    }\n",
       "\n",
       "    .dataframe thead th {\n",
       "        text-align: right;\n",
       "    }\n",
       "</style>\n",
       "<table border=\"1\" class=\"dataframe\">\n",
       "  <thead>\n",
       "    <tr style=\"text-align: right;\">\n",
       "      <th></th>\n",
       "      <th>Cabin</th>\n",
       "    </tr>\n",
       "  </thead>\n",
       "  <tbody>\n",
       "    <tr>\n",
       "      <th>N</th>\n",
       "      <td>687</td>\n",
       "    </tr>\n",
       "    <tr>\n",
       "      <th>C</th>\n",
       "      <td>59</td>\n",
       "    </tr>\n",
       "    <tr>\n",
       "      <th>B</th>\n",
       "      <td>47</td>\n",
       "    </tr>\n",
       "    <tr>\n",
       "      <th>D</th>\n",
       "      <td>33</td>\n",
       "    </tr>\n",
       "    <tr>\n",
       "      <th>E</th>\n",
       "      <td>32</td>\n",
       "    </tr>\n",
       "    <tr>\n",
       "      <th>A</th>\n",
       "      <td>15</td>\n",
       "    </tr>\n",
       "    <tr>\n",
       "      <th>F</th>\n",
       "      <td>13</td>\n",
       "    </tr>\n",
       "    <tr>\n",
       "      <th>G</th>\n",
       "      <td>4</td>\n",
       "    </tr>\n",
       "    <tr>\n",
       "      <th>T</th>\n",
       "      <td>1</td>\n",
       "    </tr>\n",
       "  </tbody>\n",
       "</table>\n",
       "</div>"
      ],
      "text/plain": [
       "   Cabin\n",
       "N    687\n",
       "C     59\n",
       "B     47\n",
       "D     33\n",
       "E     32\n",
       "A     15\n",
       "F     13\n",
       "G      4\n",
       "T      1"
      ]
     },
     "execution_count": 16,
     "metadata": {},
     "output_type": "execute_result"
    }
   ],
   "source": [
    "train.Cabin = [i[0] for i in train.Cabin]\n",
    "test.Cabin = [i[0] for i in test.Cabin]\n",
    "\n",
    "## Let's see the value counts now\n",
    "pd.DataFrame(train.Cabin.value_counts())"
   ]
  },
  {
   "cell_type": "markdown",
   "metadata": {
    "_cell_guid": "26d918c2-3c6b-48e8-8e2b-fc4531e8c59e",
    "_uuid": "05a777057d9803235a17d79b72eefe7085ebf2e5"
   },
   "source": [
    "### Fare Feature\n",
    "***"
   ]
  },
  {
   "cell_type": "code",
   "execution_count": 17,
   "metadata": {
    "_cell_guid": "2c75f369-e781-43df-be06-32585b372a0a",
    "_kg_hide-input": true,
    "_uuid": "020cafd121f2e6cbed89265c993ef3d76566cd6b"
   },
   "outputs": [
    {
     "data": {
      "text/html": [
       "<div>\n",
       "<style scoped>\n",
       "    .dataframe tbody tr th:only-of-type {\n",
       "        vertical-align: middle;\n",
       "    }\n",
       "\n",
       "    .dataframe tbody tr th {\n",
       "        vertical-align: top;\n",
       "    }\n",
       "\n",
       "    .dataframe thead th {\n",
       "        text-align: right;\n",
       "    }\n",
       "</style>\n",
       "<table border=\"1\" class=\"dataframe\">\n",
       "  <thead>\n",
       "    <tr style=\"text-align: right;\">\n",
       "      <th></th>\n",
       "      <th>Pclass</th>\n",
       "      <th>Name</th>\n",
       "      <th>Sex</th>\n",
       "      <th>Age</th>\n",
       "      <th>SibSp</th>\n",
       "      <th>Parch</th>\n",
       "      <th>Ticket</th>\n",
       "      <th>Fare</th>\n",
       "      <th>Cabin</th>\n",
       "      <th>Embarked</th>\n",
       "    </tr>\n",
       "  </thead>\n",
       "  <tbody>\n",
       "    <tr>\n",
       "      <th>152</th>\n",
       "      <td>3</td>\n",
       "      <td>Storey, Mr. Thomas</td>\n",
       "      <td>male</td>\n",
       "      <td>60.5</td>\n",
       "      <td>0</td>\n",
       "      <td>0</td>\n",
       "      <td>3701</td>\n",
       "      <td>NaN</td>\n",
       "      <td>N</td>\n",
       "      <td>S</td>\n",
       "    </tr>\n",
       "  </tbody>\n",
       "</table>\n",
       "</div>"
      ],
      "text/plain": [
       "     Pclass                Name   Sex   Age  SibSp  Parch Ticket  Fare Cabin  \\\n",
       "152       3  Storey, Mr. Thomas  male  60.5      0      0   3701   NaN     N   \n",
       "\n",
       "    Embarked  \n",
       "152        S  "
      ]
     },
     "execution_count": 17,
     "metadata": {},
     "output_type": "execute_result"
    }
   ],
   "source": [
    "test[test.Fare.isnull()]"
   ]
  },
  {
   "cell_type": "markdown",
   "metadata": {
    "_cell_guid": "0ffece2f-9df0-44e5-80cc-84894a8d0d45",
    "_uuid": "bce23c7620db2cde9bae8efa04b00c78819f0268"
   },
   "source": [
    "Here, We can take the average of the **Fare** column with all the values to fill in for Nan Fare value. However, that might not be the best way to fill in this value. We can be a little more specific and take the average of the values where**Pclass** is ***3***, **Sex** is ***male*** and **Embarked** is ***S***"
   ]
  },
  {
   "cell_type": "code",
   "execution_count": 18,
   "metadata": {
    "_cell_guid": "e742aa76-b6f8-4882-8bd6-aa10b96f06aa",
    "_uuid": "f1dc8c6c33ba7df075ee608467be2a83dc1764fd"
   },
   "outputs": [],
   "source": [
    "missing_value = test[(test.Pclass == 3) & (test.Embarked == \"S\") & (test.Sex == \"male\")].Fare.mean()\n",
    "## replace the test.fare null values with test.fare mean\n",
    "test.Fare.fillna(missing_value, inplace=True)"
   ]
  },
  {
   "cell_type": "markdown",
   "metadata": {
    "_cell_guid": "3ff2fbe3-9858-4aad-9e33-e909d5128879",
    "_uuid": "e04222497a5dfd77ac07dbcacbdc10dc1732da21"
   },
   "source": [
    "### Age Feature\n",
    "***"
   ]
  },
  {
   "cell_type": "code",
   "execution_count": 19,
   "metadata": {
    "_cell_guid": "8ff25fb3-7a4a-4e06-b48f-a06b8d844917",
    "_kg_hide-input": true,
    "_uuid": "c356e8e85f53a27e44b5f28936773a289592c5eb"
   },
   "outputs": [
    {
     "name": "stdout",
     "output_type": "stream",
     "text": [
      "Train age missing value: 19.865319865319865%\n",
      "Test age missing value: 20.574162679425836%\n"
     ]
    }
   ],
   "source": [
    "print (\"Train age missing value: \" + str((train.Age.isnull().sum()/len(train))*100)+str(\"%\"))\n",
    "print (\"Test age missing value: \" + str((test.Age.isnull().sum()/len(test))*100)+str(\"%\"))"
   ]
  },
  {
   "cell_type": "markdown",
   "metadata": {
    "_cell_guid": "105d0bf8-dada-4499-8a41-499caf20fa81",
    "_uuid": "8678df259a8f4e7f85f92603f312e1df76a26589"
   },
   "source": [
    "Some standard approaches of dealing with null values are mean, median and mode. However, we will take a different approach since **~20% data in the Age column is missing** in both train and test dataset. It would be unwise to replace the missing values with median, mean or mode. We will use pythons library **fancyimpute** where we will use **K Nearest neighbors(KNN)** machine learning model to impute nearest neighbor value instead of  Null value. In order to run the fancyimpute we will first have to convert categorical variables into numerical variables. We will keep the age column unchanged for now and work on that in the feature engineering section. "
   ]
  },
  {
   "cell_type": "markdown",
   "metadata": {
    "_cell_guid": "81537f22-2c69-45f2-90d3-a2a8790cb2fd",
    "_uuid": "84518982b94e7e811bf3560a3862f06a46f1b530"
   },
   "source": [
    "# Part 3. Visualization and Feature Relations\n",
    "<a id=\"visualization_and_feature_relations\" ></a>\n",
    "***\n",
    "Before we dive into finding relations between different features and our dependent variable(survivor) let us create some predictions about how the relations may turnout among features.\n",
    "\n",
    "**Predictions:**\n",
    "- Gender: More female survived than male\n",
    "- Pclass: Higher socio-economic status passenger survived more than others. \n",
    "- Age: Younger passenger survived more than other passengers. \n",
    "\n",
    "Now, let's see how the features are related to each other by creating some visualizations. \n",
    "\n"
   ]
  },
  {
   "cell_type": "markdown",
   "metadata": {
    "_cell_guid": "63420775-00e1-4650-a2f3-2ae6eebab23c",
    "_uuid": "ca8bfb1bfe4d1079635a54c8daec3399b8355749"
   },
   "source": [
    "## 3a. Gender and Survived\n",
    "<a id=\"gender_and_survived\"></a>\n",
    "***"
   ]
  },
  {
   "cell_type": "code",
   "execution_count": 20,
   "metadata": {
    "_cell_guid": "78322e76-ccaa-4bb9-9cc2-7a3394ddfe8c",
    "_kg_hide-input": true,
    "_uuid": "6008755b1522e2a849b6e1ccbb7da57270293ca4"
   },
   "outputs": [
    {
     "data": {
      "image/png": "[encoded data removed]",
      "text/plain": [
       "<Figure size 1080x576 with 1 Axes>"
      ]
     },
     "metadata": {},
     "output_type": "display_data"
    }
   ],
   "source": [
    "pal = {'male':\"green\", 'female':\"Pink\"}\n",
    "plt.subplots(figsize = (15,8))\n",
    "ax = sns.barplot(x = \"Sex\", \n",
    "            y = \"Survived\", \n",
    "            data=train, \n",
    "            palette = pal,\n",
    "            linewidth=2 )\n",
    "plt.title(\"Survived/Non-Survived Passenger Gender Distribution\", fontsize = 25)\n",
    "plt.ylabel(\"% of passenger survived\", fontsize = 15)\n",
    "plt.xlabel(\"Sex\",fontsize = 15);\n",
    "\n"
   ]
  },
  {
   "cell_type": "markdown",
   "metadata": {
    "_cell_guid": "fa7cb175-3c4d-4367-8b35-d3b43fb7d07d",
    "_uuid": "ef171de53cb343da95d1ba82ebd961b1ff1756c3"
   },
   "source": [
    "This bar plot above shows the distribution of female and male survived. The ***x_label*** represents **Sex** feature while the ***y_label*** represents the % of **passenger survived**. This bar plot shows that ~74% female passenger survived while only ~19% male passenger survived."
   ]
  },
  {
   "cell_type": "code",
   "execution_count": 21,
   "metadata": {
    "_cell_guid": "6e303476-c1ed-49bb-8b9d-14659dd5739d",
    "_kg_hide-input": true,
    "_uuid": "163515a4c926323f7288f385795ea7b1ea545d7a"
   },
   "outputs": [
    {
     "data": {
      "image/png": "[encoded data removed]",
      "text/plain": [
       "<Figure size 1080x576 with 1 Axes>"
      ]
     },
     "metadata": {},
     "output_type": "display_data"
    }
   ],
   "source": [
    "pal = {1:\"seagreen\", 0:\"gray\"}\n",
    "sns.set(style=\"darkgrid\")\n",
    "plt.subplots(figsize = (15,8))\n",
    "ax = sns.countplot(x = \"Sex\", \n",
    "                   hue=\"Survived\",\n",
    "                   data = train, \n",
    "                   linewidth=2, \n",
    "                   palette = pal\n",
    ")\n",
    "\n",
    "## Fixing title, xlabel and ylabel\n",
    "plt.title(\"Passenger Gender Distribution - Survived vs Not-survived\", fontsize = 25)\n",
    "plt.xlabel(\"Sex\", fontsize = 15);\n",
    "plt.ylabel(\"# of Passenger Survived\", fontsize = 15)\n",
    "\n",
    "## Fixing xticks\n",
    "#labels = ['Female', 'Male']\n",
    "#plt.xticks(sorted(train.Sex.unique()), labels)\n",
    "\n",
    "## Fixing legends\n",
    "leg = ax.get_legend()\n",
    "leg.set_title(\"Survived\")\n",
    "legs = leg.texts\n",
    "legs[0].set_text(\"No\")\n",
    "legs[1].set_text(\"Yes\")\n",
    "plt.show()"
   ]
  },
  {
   "cell_type": "markdown",
   "metadata": {
    "_cell_guid": "0835c20e-f155-4bd7-8032-895d8c8042e6",
    "_uuid": "bf15a586513bdde73dfa2279b739ffca040e71e4"
   },
   "source": [
    "This count plot shows the actual distribution of male and female passengers that survived and did not survive. It shows that among all the females ~ 230 survived and ~ 70 did not survive. While among male passengers ~110 survived and ~480 did not survive. \n",
    "\n",
    "**Summary**\n",
    "***\n",
    "- As we suspected, female passengers have survived at a much better rate than male passengers. \n",
    "- It seems about right since females and children were the priority. "
   ]
  },
  {
   "cell_type": "markdown",
   "metadata": {
    "_cell_guid": "2daa3614-866c-48d7-a8cb-26ee8126a806",
    "_uuid": "e746a4be3c0ed3d94a7a4366a5bff565c7bc9834"
   },
   "source": [
    "## 3b. Pclass and Survived\n",
    "<a id=\"pcalss_and_survived\"></a>\n",
    "***"
   ]
  },
  {
   "cell_type": "code",
   "execution_count": 22,
   "metadata": {
    "_cell_guid": "93a3a621-7be8-4f28-960d-939068944d3f",
    "_kg_hide-input": true,
    "_uuid": "61543e636b742647f90ea778f30a178a84e50533"
   },
   "outputs": [
    {
     "data": {
      "image/png": "[encoded data removed]",
      "text/plain": [
       "<Figure size 1080x720 with 1 Axes>"
      ]
     },
     "metadata": {},
     "output_type": "display_data"
    }
   ],
   "source": [
    "plt.subplots(figsize = (15,10))\n",
    "sns.barplot(x = \"Pclass\", \n",
    "            y = \"Survived\", \n",
    "            data=train, \n",
    "            linewidth=2)\n",
    "plt.title(\"Passenger Class Distribution - Survived vs Non-Survived\", fontsize = 25)\n",
    "plt.xlabel(\"Socio-Economic class\", fontsize = 15);\n",
    "plt.ylabel(\"% of Passenger Survived\", fontsize = 15);\n",
    "labels = ['Upper', 'Middle', 'Lower']\n",
    "#val = sorted(train.Pclass.unique())\n",
    "val = [0,1,2] ## this is just a temporary trick to get the label right. \n",
    "plt.xticks(val, labels);"
   ]
  },
  {
   "cell_type": "markdown",
   "metadata": {
    "_cell_guid": "e2c5ce9f-9759-43b6-b286-ec771a5a64c1",
    "_uuid": "6faf3d5f770c23febb20cdc81cc079ed37d59959"
   },
   "source": [
    "- It looks like ...\n",
    "    - ~ 63% first class passenger survived titanic tragedy, while \n",
    "    - ~ 48% second class and \n",
    "    - ~ only  24% third class passenger survived. \n",
    "\n"
   ]
  },
  {
   "cell_type": "code",
   "execution_count": 23,
   "metadata": {
    "_cell_guid": "f6eba487-9c63-4cd8-908a-393e2c277e45",
    "_kg_hide-input": true,
    "_uuid": "10867e6cb57231ae599406d827ba5e3f13ccb088"
   },
   "outputs": [
    {
     "data": {
      "image/png": "[encoded data removed]",
      "text/plain": [
       "<Figure size 1080x576 with 1 Axes>"
      ]
     },
     "metadata": {},
     "output_type": "display_data"
    }
   ],
   "source": [
    "# Kernel Density Plot\n",
    "fig = plt.figure(figsize=(15,8),)\n",
    "## I have included to different ways to code a plot below, choose the one that suites you. \n",
    "ax=sns.kdeplot(train.Pclass[train.Survived == 0] , \n",
    "               color='gray',\n",
    "               shade=True,\n",
    "               label='not survived')\n",
    "ax=sns.kdeplot(train.loc[(train['Survived'] == 1),'Pclass'] , \n",
    "               color='g',\n",
    "               shade=True, \n",
    "               label='survived')\n",
    "plt.title('Passenger Class Distribution - Survived vs Non-Survived', fontsize = 25)\n",
    "plt.ylabel(\"Frequency of Passenger Survived\", fontsize = 15)\n",
    "plt.xlabel(\"Passenger Class\", fontsize = 15)\n",
    "## Converting xticks into words for better understanding\n",
    "labels = ['Upper', 'Middle', 'Lower']\n",
    "plt.xticks(sorted(train.Pclass.unique()), labels);"
   ]
  },
  {
   "cell_type": "markdown",
   "metadata": {
    "_cell_guid": "43ffcf43-2d0c-4033-8112-9edcca3576f1",
    "_uuid": "f397633bae24a35d3fbe87d1ca54023356e065f9"
   },
   "source": [
    "This KDE plot is pretty self-explanatory with all the labels and colors. Something I have noticed that some readers might find questionable is that the lower class passengers have survived more than second-class passengers. It is true since there were a lot more third-class passengers than first and second. \n",
    "\n",
    "**Summary**\n",
    "***\n",
    "The first class passengers had the upper hand during the tragedy than second and third. You can probably agree with me more on this, in the next section of visualizations where we look at the distribution of ticket fare and survived column. "
   ]
  },
  {
   "cell_type": "markdown",
   "metadata": {
    "_cell_guid": "1cb9d740-749b-4700-b9e9-973dbcad6aab",
    "_uuid": "8eeb41d08ce680d51452deeb0ad054b184d67e16"
   },
   "source": [
    "## 3c. Fare and Survived\n",
    "<a id=\"fare_and_survived\"></a>\n",
    "***"
   ]
  },
  {
   "cell_type": "code",
   "execution_count": 24,
   "metadata": {
    "_cell_guid": "cd6eb8a9-10a6-4ab8-aaec-4820df35f4c1",
    "_kg_hide-input": true,
    "_uuid": "85737078f0e84fe972a5ddb81b29e114fcfb54be"
   },
   "outputs": [
    {
     "data": {
      "text/plain": [
       "Text(0.5,0,'Fare')"
      ]
     },
     "execution_count": 24,
     "metadata": {},
     "output_type": "execute_result"
    },
    {
     "data": {
      "image/png": "[encoded data removed]",
      "text/plain": [
       "<Figure size 1080x576 with 1 Axes>"
      ]
     },
     "metadata": {},
     "output_type": "display_data"
    }
   ],
   "source": [
    "# Kernel Density Plot\n",
    "fig = plt.figure(figsize=(15,8),)\n",
    "ax=sns.kdeplot(train.loc[(train['Survived'] == 0),'Fare'] , color='gray',shade=True,label='not survived')\n",
    "ax=sns.kdeplot(train.loc[(train['Survived'] == 1),'Fare'] , color='g',shade=True, label='survived')\n",
    "plt.title('Fare Distribution Survived vs Non Survived', fontsize = 25)\n",
    "plt.ylabel(\"Frequency of Passenger Survived\", fontsize = 15)\n",
    "plt.xlabel(\"Fare\", fontsize = 15)\n",
    "\n"
   ]
  },
  {
   "cell_type": "markdown",
   "metadata": {
    "_cell_guid": "6073f329-df80-4ab9-b99b-72e6fcdfe0c6",
    "_uuid": "b5eba2b28ea428114d8ffab52feef95484bd76c0"
   },
   "source": [
    "This plot shows something impressive..\n",
    "- The spike in the plot under 100 dollar represents that a lot of passengers who bought the ticket within that range did not survive. \n",
    "- When fare is approximately more than 280 dollars, there is no gray shade which means, either everyone passed that fare point survived or maybe there is an outlier that clouds our judgment. Let's check..."
   ]
  },
  {
   "cell_type": "code",
   "execution_count": 25,
   "metadata": {
    "_cell_guid": "bee8b01b-a56a-4762-bde0-4404a1c5ac1a",
    "_kg_hide-input": true,
    "_uuid": "916ab9dc56a05105afa80127d69deb9fc0095ba2"
   },
   "outputs": [
    {
     "data": {
      "text/html": [
       "<div>\n",
       "<style scoped>\n",
       "    .dataframe tbody tr th:only-of-type {\n",
       "        vertical-align: middle;\n",
       "    }\n",
       "\n",
       "    .dataframe tbody tr th {\n",
       "        vertical-align: top;\n",
       "    }\n",
       "\n",
       "    .dataframe thead th {\n",
       "        text-align: right;\n",
       "    }\n",
       "</style>\n",
       "<table border=\"1\" class=\"dataframe\">\n",
       "  <thead>\n",
       "    <tr style=\"text-align: right;\">\n",
       "      <th></th>\n",
       "      <th>Survived</th>\n",
       "      <th>Pclass</th>\n",
       "      <th>Name</th>\n",
       "      <th>Sex</th>\n",
       "      <th>Age</th>\n",
       "      <th>SibSp</th>\n",
       "      <th>Parch</th>\n",
       "      <th>Ticket</th>\n",
       "      <th>Fare</th>\n",
       "      <th>Cabin</th>\n",
       "      <th>Embarked</th>\n",
       "    </tr>\n",
       "  </thead>\n",
       "  <tbody>\n",
       "    <tr>\n",
       "      <th>258</th>\n",
       "      <td>1</td>\n",
       "      <td>1</td>\n",
       "      <td>Ward, Miss. Anna</td>\n",
       "      <td>female</td>\n",
       "      <td>35.0</td>\n",
       "      <td>0</td>\n",
       "      <td>0</td>\n",
       "      <td>PC 17755</td>\n",
       "      <td>512.3292</td>\n",
       "      <td>N</td>\n",
       "      <td>C</td>\n",
       "    </tr>\n",
       "    <tr>\n",
       "      <th>679</th>\n",
       "      <td>1</td>\n",
       "      <td>1</td>\n",
       "      <td>Cardeza, Mr. Thomas Drake Martinez</td>\n",
       "      <td>male</td>\n",
       "      <td>36.0</td>\n",
       "      <td>0</td>\n",
       "      <td>1</td>\n",
       "      <td>PC 17755</td>\n",
       "      <td>512.3292</td>\n",
       "      <td>B</td>\n",
       "      <td>C</td>\n",
       "    </tr>\n",
       "    <tr>\n",
       "      <th>737</th>\n",
       "      <td>1</td>\n",
       "      <td>1</td>\n",
       "      <td>Lesurer, Mr. Gustave J</td>\n",
       "      <td>male</td>\n",
       "      <td>35.0</td>\n",
       "      <td>0</td>\n",
       "      <td>0</td>\n",
       "      <td>PC 17755</td>\n",
       "      <td>512.3292</td>\n",
       "      <td>B</td>\n",
       "      <td>C</td>\n",
       "    </tr>\n",
       "  </tbody>\n",
       "</table>\n",
       "</div>"
      ],
      "text/plain": [
       "     Survived  Pclass                                Name     Sex   Age  \\\n",
       "258         1       1                    Ward, Miss. Anna  female  35.0   \n",
       "679         1       1  Cardeza, Mr. Thomas Drake Martinez    male  36.0   \n",
       "737         1       1              Lesurer, Mr. Gustave J    male  35.0   \n",
       "\n",
       "     SibSp  Parch    Ticket      Fare Cabin Embarked  \n",
       "258      0      0  PC 17755  512.3292     N        C  \n",
       "679      0      1  PC 17755  512.3292     B        C  \n",
       "737      0      0  PC 17755  512.3292     B        C  "
      ]
     },
     "execution_count": 25,
     "metadata": {},
     "output_type": "execute_result"
    }
   ],
   "source": [
    "train[train.Fare > 280]"
   ]
  },
  {
   "cell_type": "markdown",
   "metadata": {
    "_cell_guid": "3467e2d8-315c-4223-9166-0aca54543cdd",
    "_uuid": "443d93fcfbad82fc611ce88e12556a6325ccd15c"
   },
   "source": [
    "As we assumed, it looks like an outlier with a fare of $512. We sure can delete this point. However, we will keep it for now. "
   ]
  },
  {
   "cell_type": "markdown",
   "metadata": {
    "_cell_guid": "95c27d94-fa65-4bf9-a855-8e5dab17704e",
    "_uuid": "64ff8df884805f04692dc601da1ef99527309d54"
   },
   "source": [
    "## 3d. Age and Survived\n",
    "<a id=\"age_and_survived\"></a>\n",
    "***"
   ]
  },
  {
   "cell_type": "code",
   "execution_count": 26,
   "metadata": {
    "_cell_guid": "9eb6733b-7577-4360-8252-e6d97c78b7db",
    "_kg_hide-input": true,
    "_uuid": "c6a4f46a7ce0e197f72abe293b69100c29a044ca"
   },
   "outputs": [
    {
     "data": {
      "image/png": "[encoded data removed]",
      "text/plain": [
       "<Figure size 1080x576 with 1 Axes>"
      ]
     },
     "metadata": {},
     "output_type": "display_data"
    }
   ],
   "source": [
    "# Kernel Density Plot\n",
    "fig = plt.figure(figsize=(15,8),)\n",
    "ax=sns.kdeplot(train.loc[(train['Survived'] == 0),'Age'] , color='gray',shade=True,label='not survived')\n",
    "ax=sns.kdeplot(train.loc[(train['Survived'] == 1),'Age'] , color='g',shade=True, label='survived')\n",
    "plt.title('Age Distribution - Surviver V.S. Non Survivors', fontsize = 25)\n",
    "plt.xlabel(\"Age\", fontsize = 15)\n",
    "plt.ylabel('Frequency', fontsize = 15);"
   ]
  },
  {
   "cell_type": "markdown",
   "metadata": {
    "_cell_guid": "a9aab64c-6170-4c8d-8446-cecdc9804b55",
    "_uuid": "5238df80f5454d29e3793596a21fd0c00cb64a6c"
   },
   "source": [
    "There is nothing out of the ordinary of about this plot, except the very left part of the distribution. It proves that children and infants were the priority, therefore, a good chunk of infant/children were saved. "
   ]
  },
  {
   "cell_type": "markdown",
   "metadata": {
    "_cell_guid": "077605b2-e9b4-4c45-8c5a-188508165f10",
    "_uuid": "f8245da79c5394f7665d0b5429cb2fe4c4d0b057"
   },
   "source": [
    "## 3e. Combined Feature Relations\n",
    "<a id='combined_feature_relations'></a>\n",
    "***\n",
    "In this section, we are going to discover more than two feature relations in a single graph. I will try my best to illustrate most of the feature relations. Let's get to it. "
   ]
  },
  {
   "cell_type": "code",
   "execution_count": 27,
   "metadata": {
    "_cell_guid": "924e19c4-8d58-404c-9a84-02f096269351",
    "_kg_hide-input": true,
    "_uuid": "71fc1c9843f789e19a5e8b2929579914d8ecdb3f"
   },
   "outputs": [
    {
     "data": {
      "image/png": "[encoded data removed]",
      "text/plain": [
       "<Figure size 720x720 with 4 Axes>"
      ]
     },
     "metadata": {},
     "output_type": "display_data"
    }
   ],
   "source": [
    "pal = {1:\"seagreen\", 0:\"gray\"}\n",
    "g = sns.FacetGrid(train,size=5, col=\"Sex\", row=\"Survived\", margin_titles=True, hue = \"Survived\",\n",
    "                  palette=pal)\n",
    "g = g.map(plt.hist, \"Age\", edgecolor = 'white');\n",
    "g.fig.suptitle(\"Survived by Sex and Age\", size = 25)\n",
    "plt.subplots_adjust(top=0.90)\n"
   ]
  },
  {
   "cell_type": "markdown",
   "metadata": {
    "_cell_guid": "089999b4-bc44-49c6-9f86-aaaccabaa224",
    "_uuid": "6aac036e1b235e5b10bc6a153ed226acfce2cfcb"
   },
   "source": [
    "Facetgrid is a great way to visualize multiple variables and their relationships at once. From section 3a we have a bright idea of females being more of a priority then males. However, from this facet grid, we can also understand which age range groups survived more than others or were not so lucky"
   ]
  },
  {
   "cell_type": "code",
   "execution_count": 28,
   "metadata": {
    "_cell_guid": "dcc34a91-261d-4929-a4eb-5072fcaf86ce",
    "_kg_hide-input": true,
    "_uuid": "b2ad776bf0254be1ccf76f46a40db7960aa3db24",
    "scrolled": true
   },
   "outputs": [
    {
     "data": {
      "image/png": "[encoded data removed]",
      "text/plain": [
       "<Figure size 764.5x1080 with 6 Axes>"
      ]
     },
     "metadata": {},
     "output_type": "display_data"
    }
   ],
   "source": [
    "g = sns.FacetGrid(train,size=5, col=\"Sex\", row=\"Embarked\", margin_titles=True, hue = \"Survived\",\n",
    "                  palette = pal\n",
    "                  )\n",
    "g = g.map(plt.hist, \"Age\", edgecolor = 'white').add_legend();\n",
    "g.fig.suptitle(\"Survived by Sex and Age\", size = 25)\n",
    "plt.subplots_adjust(top=0.90)"
   ]
  },
  {
   "cell_type": "markdown",
   "metadata": {
    "_cell_guid": "b9b9906c-805d-438b-b72e-a57cc60d5ae8",
    "_uuid": "4070616f2637a720a3cb580264cfaed9235b9020"
   },
   "source": [
    "This is another compelling facet grid illustrating four features relationship at once. They are **Embarked, Age, Survived & Sex**. \n",
    "* The color illustrates passengers survival status(green represents survived, gray represents not survived)\n",
    "* The column represents Sex(left being male, right stands for female)\n",
    "* The row represents Embarked(from top to bottom: S, C, Q)\n",
    "***\n",
    "Now that I have steered out the apparent let's see if we can get some insights that are not so obvious as we look at the data. \n",
    "* Most passengers seem to be boarded on Southampton(S).\n",
    "* More than 60% of the passengers died boarded on Southampton. \n",
    "* More than 60% of the passengers lived boarded on Cherbourg(C).\n",
    "* Pretty much every male that boarded on Queenstown(Q) did not survive. \n",
    "* There were very few females boarded on Queenstown, however, most of them survived. "
   ]
  },
  {
   "cell_type": "code",
   "execution_count": 29,
   "metadata": {
    "_cell_guid": "fd9fe9e2-f7d4-4f83-9ce4-0a22160ef4fe",
    "_kg_hide-input": true,
    "_uuid": "f4d77506cabc7150466fa5bda64585d15814d48c"
   },
   "outputs": [
    {
     "data": {
      "image/png": "[encoded data removed]",
      "text/plain": [
       "<Figure size 764.5x360 with 2 Axes>"
      ]
     },
     "metadata": {},
     "output_type": "display_data"
    }
   ],
   "source": [
    "g = sns.FacetGrid(train, size=5,hue=\"Survived\", col =\"Sex\", margin_titles=True,\n",
    "                palette=pal,)\n",
    "g.map(plt.scatter, \"Fare\", \"Age\",edgecolor=\"w\").add_legend()\n",
    "g.fig.suptitle(\"Survived by Sex, Fare and Age\", size = 25)\n",
    "plt.subplots_adjust(top=0.85)"
   ]
  },
  {
   "cell_type": "markdown",
   "metadata": {
    "_cell_guid": "1c309d4b-3e24-406b-bd28-d5055a660f16",
    "_uuid": "90bbc6e6edbf6188170a4de1b38732d009f7afae"
   },
   "source": [
    "This grid unveils a couple of interesting insights. Let's find out.\n",
    "* The facet grid above clearly demonstrates the three outliers with Fare of over \\$500. At this point, I think we are quite confident that these outliers should be deleted.\n",
    "* Most of the passengers were with in the Fare range of \\$100. "
   ]
  },
  {
   "cell_type": "code",
   "execution_count": 30,
   "metadata": {
    "_cell_guid": "783403f6-9d3c-4a12-8505-cf321bd1a1ef",
    "_kg_hide-input": true,
    "_uuid": "75c41c85dc76c9749e5c417e1ed0425eed9c55e0"
   },
   "outputs": [
    {
     "data": {
      "image/png": "[encoded data removed]",
      "text/plain": [
       "<Figure size 576x576 with 1 Axes>"
      ]
     },
     "metadata": {},
     "output_type": "display_data"
    }
   ],
   "source": [
    "## dropping the three outliers where Fare is over $500 \n",
    "train = train[train.Fare < 500]\n",
    "## factor plot\n",
    "sns.factorplot(x = \"Parch\", y = \"Survived\", data = train,kind = \"point\",size = 8)\n",
    "plt.title(\"Factorplot of Parents/Children survived\", fontsize = 25)\n",
    "plt.subplots_adjust(top=0.85)"
   ]
  },
  {
   "cell_type": "markdown",
   "metadata": {
    "_cell_guid": "33916321-237d-4381-990f-0faa11723c20",
    "_uuid": "263113f38121c9e5f14247f05c262ee218be87f2"
   },
   "source": [
    "**Passenger who traveled in big groups with parents/children had less survival rate than other passengers.**"
   ]
  },
  {
   "cell_type": "code",
   "execution_count": 31,
   "metadata": {
    "_cell_guid": "f6ed143e-3e02-4e97-a255-73807018f0d1",
    "_kg_hide-input": true,
    "_uuid": "4ce5a4a6cff3966ac1811ee95f81c81fe4861a51"
   },
   "outputs": [
    {
     "data": {
      "image/png": "[encoded data removed]",
      "text/plain": [
       "<Figure size 576x576 with 1 Axes>"
      ]
     },
     "metadata": {},
     "output_type": "display_data"
    }
   ],
   "source": [
    "sns.factorplot(x =  \"SibSp\", y = \"Survived\", data = train,kind = \"point\",size = 8)\n",
    "plt.title('Factorplot of Sibilings/Spouses survived', fontsize = 25)\n",
    "plt.subplots_adjust(top=0.85)"
   ]
  },
  {
   "cell_type": "markdown",
   "metadata": {
    "_cell_guid": "ee5b61b4-67d3-46b4-847d-4b5b85a8c791",
    "_uuid": "c7a045b78e6b5f45ad891cf0515a6a4b2534d2ff"
   },
   "source": [
    "**While, passenger who traveled in small groups with sibilings/spouses had more survival rate than other passengers.**"
   ]
  },
  {
   "cell_type": "code",
   "execution_count": 32,
   "metadata": {
    "_cell_guid": "50a0920d-556b-4439-a67f-384ce793d094",
    "_kg_hide-input": true,
    "_uuid": "dfe723c71d4d29f599701d806ca97cd01a60142f"
   },
   "outputs": [],
   "source": [
    "# Placing 0 for female and \n",
    "# 1 for male in the \"Sex\" column. \n",
    "train['Sex'] = train.Sex.apply(lambda x: 0 if x == \"female\" else 1)\n",
    "test['Sex'] = test.Sex.apply(lambda x: 0 if x == \"female\" else 1)"
   ]
  },
  {
   "cell_type": "markdown",
   "metadata": {
    "_cell_guid": "003a7779-5966-45f8-a711-67e67234a654",
    "_uuid": "402cd49464156ead61d5dd5698ffeb00eb71d0d3"
   },
   "source": [
    "# Part 4: Statistical Overview\n",
    "<a id=\"statisticaloverview\"></a>\n",
    "***"
   ]
  },
  {
   "cell_type": "markdown",
   "metadata": {
    "_cell_guid": "91eba73b-f744-478b-bd6b-13da6cff000b",
    "_uuid": "3e8b752c8963a76a86c8b1db80783c644090bdfa"
   },
   "source": [
    "![title](https://cdn-images-1.medium.com/max/400/1*hFJ-LI7IXcWpxSLtaC0dfg.png)"
   ]
  },
  {
   "cell_type": "markdown",
   "metadata": {
    "_cell_guid": "7b7e6e77-50bf-469f-b92b-73056224bc61",
    "_uuid": "797aa171f2e13ea965cb9a352fcfd2001e119747"
   },
   "source": [
    "**Train info**"
   ]
  },
  {
   "cell_type": "code",
   "execution_count": 33,
   "metadata": {
    "_cell_guid": "e2b455e8-9ba2-4578-b7eb-f7de7cdf8a1a",
    "_kg_hide-input": true,
    "_uuid": "9538a9dcab78dab00c34aecec6fe17b6c7c287f4"
   },
   "outputs": [
    {
     "name": "stdout",
     "output_type": "stream",
     "text": [
      "<class 'pandas.core.frame.DataFrame'>\n",
      "Int64Index: 888 entries, 0 to 890\n",
      "Data columns (total 11 columns):\n",
      "Survived    888 non-null int64\n",
      "Pclass      888 non-null int64\n",
      "Name        888 non-null object\n",
      "Sex         888 non-null int64\n",
      "Age         711 non-null float64\n",
      "SibSp       888 non-null int64\n",
      "Parch       888 non-null int64\n",
      "Ticket      888 non-null object\n",
      "Fare        888 non-null float64\n",
      "Cabin       888 non-null object\n",
      "Embarked    888 non-null object\n",
      "dtypes: float64(2), int64(5), object(4)\n",
      "memory usage: 123.2+ KB\n"
     ]
    }
   ],
   "source": [
    "train.info()"
   ]
  },
  {
   "cell_type": "code",
   "execution_count": 34,
   "metadata": {
    "_cell_guid": "ad856ee6-b1ec-445d-92b0-cd6a83d58301",
    "_kg_hide-input": true,
    "_uuid": "35fc657641cc24aff89ade7d83d8b92e472dc3e6"
   },
   "outputs": [
    {
     "data": {
      "text/html": [
       "<div>\n",
       "<style scoped>\n",
       "    .dataframe tbody tr th:only-of-type {\n",
       "        vertical-align: middle;\n",
       "    }\n",
       "\n",
       "    .dataframe tbody tr th {\n",
       "        vertical-align: top;\n",
       "    }\n",
       "\n",
       "    .dataframe thead th {\n",
       "        text-align: right;\n",
       "    }\n",
       "</style>\n",
       "<table border=\"1\" class=\"dataframe\">\n",
       "  <thead>\n",
       "    <tr style=\"text-align: right;\">\n",
       "      <th></th>\n",
       "      <th>Survived</th>\n",
       "      <th>Pclass</th>\n",
       "      <th>Sex</th>\n",
       "      <th>Age</th>\n",
       "      <th>SibSp</th>\n",
       "      <th>Parch</th>\n",
       "      <th>Fare</th>\n",
       "    </tr>\n",
       "  </thead>\n",
       "  <tbody>\n",
       "    <tr>\n",
       "      <th>count</th>\n",
       "      <td>888.000000</td>\n",
       "      <td>888.000000</td>\n",
       "      <td>888.000000</td>\n",
       "      <td>711.000000</td>\n",
       "      <td>888.000000</td>\n",
       "      <td>888.000000</td>\n",
       "      <td>888.000000</td>\n",
       "    </tr>\n",
       "    <tr>\n",
       "      <th>mean</th>\n",
       "      <td>0.381757</td>\n",
       "      <td>2.313063</td>\n",
       "      <td>0.647523</td>\n",
       "      <td>29.675345</td>\n",
       "      <td>0.524775</td>\n",
       "      <td>0.381757</td>\n",
       "      <td>30.582164</td>\n",
       "    </tr>\n",
       "    <tr>\n",
       "      <th>std</th>\n",
       "      <td>0.486091</td>\n",
       "      <td>0.834007</td>\n",
       "      <td>0.478011</td>\n",
       "      <td>14.552495</td>\n",
       "      <td>1.104186</td>\n",
       "      <td>0.806949</td>\n",
       "      <td>41.176366</td>\n",
       "    </tr>\n",
       "    <tr>\n",
       "      <th>min</th>\n",
       "      <td>0.000000</td>\n",
       "      <td>1.000000</td>\n",
       "      <td>0.000000</td>\n",
       "      <td>0.420000</td>\n",
       "      <td>0.000000</td>\n",
       "      <td>0.000000</td>\n",
       "      <td>0.000000</td>\n",
       "    </tr>\n",
       "    <tr>\n",
       "      <th>25%</th>\n",
       "      <td>0.000000</td>\n",
       "      <td>2.000000</td>\n",
       "      <td>0.000000</td>\n",
       "      <td>20.000000</td>\n",
       "      <td>0.000000</td>\n",
       "      <td>0.000000</td>\n",
       "      <td>7.895800</td>\n",
       "    </tr>\n",
       "    <tr>\n",
       "      <th>50%</th>\n",
       "      <td>0.000000</td>\n",
       "      <td>3.000000</td>\n",
       "      <td>1.000000</td>\n",
       "      <td>28.000000</td>\n",
       "      <td>0.000000</td>\n",
       "      <td>0.000000</td>\n",
       "      <td>14.454200</td>\n",
       "    </tr>\n",
       "    <tr>\n",
       "      <th>75%</th>\n",
       "      <td>1.000000</td>\n",
       "      <td>3.000000</td>\n",
       "      <td>1.000000</td>\n",
       "      <td>38.000000</td>\n",
       "      <td>1.000000</td>\n",
       "      <td>0.000000</td>\n",
       "      <td>30.771850</td>\n",
       "    </tr>\n",
       "    <tr>\n",
       "      <th>max</th>\n",
       "      <td>1.000000</td>\n",
       "      <td>3.000000</td>\n",
       "      <td>1.000000</td>\n",
       "      <td>80.000000</td>\n",
       "      <td>8.000000</td>\n",
       "      <td>6.000000</td>\n",
       "      <td>263.000000</td>\n",
       "    </tr>\n",
       "  </tbody>\n",
       "</table>\n",
       "</div>"
      ],
      "text/plain": [
       "         Survived      Pclass         Sex         Age       SibSp       Parch  \\\n",
       "count  888.000000  888.000000  888.000000  711.000000  888.000000  888.000000   \n",
       "mean     0.381757    2.313063    0.647523   29.675345    0.524775    0.381757   \n",
       "std      0.486091    0.834007    0.478011   14.552495    1.104186    0.806949   \n",
       "min      0.000000    1.000000    0.000000    0.420000    0.000000    0.000000   \n",
       "25%      0.000000    2.000000    0.000000   20.000000    0.000000    0.000000   \n",
       "50%      0.000000    3.000000    1.000000   28.000000    0.000000    0.000000   \n",
       "75%      1.000000    3.000000    1.000000   38.000000    1.000000    0.000000   \n",
       "max      1.000000    3.000000    1.000000   80.000000    8.000000    6.000000   \n",
       "\n",
       "             Fare  \n",
       "count  888.000000  \n",
       "mean    30.582164  \n",
       "std     41.176366  \n",
       "min      0.000000  \n",
       "25%      7.895800  \n",
       "50%     14.454200  \n",
       "75%     30.771850  \n",
       "max    263.000000  "
      ]
     },
     "execution_count": 34,
     "metadata": {},
     "output_type": "execute_result"
    }
   ],
   "source": [
    "train.describe()"
   ]
  },
  {
   "cell_type": "code",
   "execution_count": 35,
   "metadata": {
    "_cell_guid": "327c6775-9ba4-4d65-8c97-304cc9512e6a",
    "_kg_hide-input": true,
    "_uuid": "2f9f5fb7bade4d82d7b5a564a8ac91123b4921d2"
   },
   "outputs": [
    {
     "data": {
      "text/html": [
       "<div>\n",
       "<style scoped>\n",
       "    .dataframe tbody tr th:only-of-type {\n",
       "        vertical-align: middle;\n",
       "    }\n",
       "\n",
       "    .dataframe tbody tr th {\n",
       "        vertical-align: top;\n",
       "    }\n",
       "\n",
       "    .dataframe thead th {\n",
       "        text-align: right;\n",
       "    }\n",
       "</style>\n",
       "<table border=\"1\" class=\"dataframe\">\n",
       "  <thead>\n",
       "    <tr style=\"text-align: right;\">\n",
       "      <th></th>\n",
       "      <th>Name</th>\n",
       "      <th>Ticket</th>\n",
       "      <th>Cabin</th>\n",
       "      <th>Embarked</th>\n",
       "    </tr>\n",
       "  </thead>\n",
       "  <tbody>\n",
       "    <tr>\n",
       "      <th>count</th>\n",
       "      <td>888</td>\n",
       "      <td>888</td>\n",
       "      <td>888</td>\n",
       "      <td>888</td>\n",
       "    </tr>\n",
       "    <tr>\n",
       "      <th>unique</th>\n",
       "      <td>888</td>\n",
       "      <td>680</td>\n",
       "      <td>9</td>\n",
       "      <td>3</td>\n",
       "    </tr>\n",
       "    <tr>\n",
       "      <th>top</th>\n",
       "      <td>Kelly, Miss. Anna Katherine \"Annie Kate\"</td>\n",
       "      <td>347082</td>\n",
       "      <td>N</td>\n",
       "      <td>S</td>\n",
       "    </tr>\n",
       "    <tr>\n",
       "      <th>freq</th>\n",
       "      <td>1</td>\n",
       "      <td>7</td>\n",
       "      <td>686</td>\n",
       "      <td>644</td>\n",
       "    </tr>\n",
       "  </tbody>\n",
       "</table>\n",
       "</div>"
      ],
      "text/plain": [
       "                                            Name  Ticket Cabin Embarked\n",
       "count                                        888     888   888      888\n",
       "unique                                       888     680     9        3\n",
       "top     Kelly, Miss. Anna Katherine \"Annie Kate\"  347082     N        S\n",
       "freq                                           1       7   686      644"
      ]
     },
     "execution_count": 35,
     "metadata": {},
     "output_type": "execute_result"
    }
   ],
   "source": [
    "train.describe(include =['O'])"
   ]
  },
  {
   "cell_type": "code",
   "execution_count": 36,
   "metadata": {
    "_cell_guid": "3059c03d-e758-43c8-aaf6-72bcfc776931",
    "_kg_hide-input": true,
    "_uuid": "88316f3c3db91e543d1f5ed6f46761106e09497a"
   },
   "outputs": [
    {
     "data": {
      "text/html": [
       "<div>\n",
       "<style scoped>\n",
       "    .dataframe tbody tr th:only-of-type {\n",
       "        vertical-align: middle;\n",
       "    }\n",
       "\n",
       "    .dataframe tbody tr th {\n",
       "        vertical-align: top;\n",
       "    }\n",
       "\n",
       "    .dataframe thead th {\n",
       "        text-align: right;\n",
       "    }\n",
       "</style>\n",
       "<table border=\"1\" class=\"dataframe\">\n",
       "  <thead>\n",
       "    <tr style=\"text-align: right;\">\n",
       "      <th></th>\n",
       "      <th>Pclass</th>\n",
       "      <th>Survived</th>\n",
       "    </tr>\n",
       "  </thead>\n",
       "  <tbody>\n",
       "    <tr>\n",
       "      <th>0</th>\n",
       "      <td>1</td>\n",
       "      <td>0.624413</td>\n",
       "    </tr>\n",
       "    <tr>\n",
       "      <th>1</th>\n",
       "      <td>2</td>\n",
       "      <td>0.472826</td>\n",
       "    </tr>\n",
       "    <tr>\n",
       "      <th>2</th>\n",
       "      <td>3</td>\n",
       "      <td>0.242363</td>\n",
       "    </tr>\n",
       "  </tbody>\n",
       "</table>\n",
       "</div>"
      ],
      "text/plain": [
       "   Pclass  Survived\n",
       "0       1  0.624413\n",
       "1       2  0.472826\n",
       "2       3  0.242363"
      ]
     },
     "execution_count": 36,
     "metadata": {},
     "output_type": "execute_result"
    }
   ],
   "source": [
    "train[['Pclass', 'Survived']].groupby(\"Pclass\").mean().reset_index()"
   ]
  },
  {
   "cell_type": "code",
   "execution_count": 37,
   "metadata": {
    "_cell_guid": "5b817552-ecb8-4f6e-9950-6697d4c44d1f",
    "_kg_hide-input": true,
    "_uuid": "c88dcae6209f02226f2e772b42616b5650d108f4"
   },
   "outputs": [
    {
     "data": {
      "text/html": [
       "<div>\n",
       "<style scoped>\n",
       "    .dataframe tbody tr th:only-of-type {\n",
       "        vertical-align: middle;\n",
       "    }\n",
       "\n",
       "    .dataframe tbody tr th {\n",
       "        vertical-align: top;\n",
       "    }\n",
       "\n",
       "    .dataframe thead th {\n",
       "        text-align: right;\n",
       "    }\n",
       "</style>\n",
       "<table border=\"1\" class=\"dataframe\">\n",
       "  <thead>\n",
       "    <tr style=\"text-align: right;\">\n",
       "      <th></th>\n",
       "      <th>Survived</th>\n",
       "      <th>Pclass</th>\n",
       "      <th>Sex</th>\n",
       "      <th>Age</th>\n",
       "      <th>SibSp</th>\n",
       "      <th>Parch</th>\n",
       "      <th>Fare</th>\n",
       "    </tr>\n",
       "  </thead>\n",
       "  <tbody>\n",
       "    <tr>\n",
       "      <th>0</th>\n",
       "      <td>0</td>\n",
       "      <td>2.531876</td>\n",
       "      <td>0.852459</td>\n",
       "      <td>30.626179</td>\n",
       "      <td>0.553734</td>\n",
       "      <td>0.329690</td>\n",
       "      <td>22.117887</td>\n",
       "    </tr>\n",
       "    <tr>\n",
       "      <th>1</th>\n",
       "      <td>1</td>\n",
       "      <td>1.958702</td>\n",
       "      <td>0.315634</td>\n",
       "      <td>28.270627</td>\n",
       "      <td>0.477876</td>\n",
       "      <td>0.466077</td>\n",
       "      <td>44.289799</td>\n",
       "    </tr>\n",
       "  </tbody>\n",
       "</table>\n",
       "</div>"
      ],
      "text/plain": [
       "   Survived    Pclass       Sex        Age     SibSp     Parch       Fare\n",
       "0         0  2.531876  0.852459  30.626179  0.553734  0.329690  22.117887\n",
       "1         1  1.958702  0.315634  28.270627  0.477876  0.466077  44.289799"
      ]
     },
     "execution_count": 37,
     "metadata": {},
     "output_type": "execute_result"
    }
   ],
   "source": [
    "# Overview(Survived vs non survied)\n",
    "survived_summary = train.groupby(\"Survived\")\n",
    "survived_summary.mean().reset_index()"
   ]
  },
  {
   "cell_type": "code",
   "execution_count": 38,
   "metadata": {
    "_cell_guid": "502dd0d2-a51a-47da-904c-66c9840a1b74",
    "_kg_hide-input": true,
    "_uuid": "65f9a660b942a8f92db94fe8fc41ccfa76a354cd"
   },
   "outputs": [
    {
     "data": {
      "text/html": [
       "<div>\n",
       "<style scoped>\n",
       "    .dataframe tbody tr th:only-of-type {\n",
       "        vertical-align: middle;\n",
       "    }\n",
       "\n",
       "    .dataframe tbody tr th {\n",
       "        vertical-align: top;\n",
       "    }\n",
       "\n",
       "    .dataframe thead th {\n",
       "        text-align: right;\n",
       "    }\n",
       "</style>\n",
       "<table border=\"1\" class=\"dataframe\">\n",
       "  <thead>\n",
       "    <tr style=\"text-align: right;\">\n",
       "      <th></th>\n",
       "      <th>Sex</th>\n",
       "      <th>Survived</th>\n",
       "      <th>Pclass</th>\n",
       "      <th>Age</th>\n",
       "      <th>SibSp</th>\n",
       "      <th>Parch</th>\n",
       "      <th>Fare</th>\n",
       "    </tr>\n",
       "  </thead>\n",
       "  <tbody>\n",
       "    <tr>\n",
       "      <th>0</th>\n",
       "      <td>0</td>\n",
       "      <td>0.741214</td>\n",
       "      <td>2.162939</td>\n",
       "      <td>27.888462</td>\n",
       "      <td>0.696486</td>\n",
       "      <td>0.651757</td>\n",
       "      <td>42.985091</td>\n",
       "    </tr>\n",
       "    <tr>\n",
       "      <th>1</th>\n",
       "      <td>1</td>\n",
       "      <td>0.186087</td>\n",
       "      <td>2.394783</td>\n",
       "      <td>30.705477</td>\n",
       "      <td>0.431304</td>\n",
       "      <td>0.234783</td>\n",
       "      <td>23.830658</td>\n",
       "    </tr>\n",
       "  </tbody>\n",
       "</table>\n",
       "</div>"
      ],
      "text/plain": [
       "   Sex  Survived    Pclass        Age     SibSp     Parch       Fare\n",
       "0    0  0.741214  2.162939  27.888462  0.696486  0.651757  42.985091\n",
       "1    1  0.186087  2.394783  30.705477  0.431304  0.234783  23.830658"
      ]
     },
     "execution_count": 38,
     "metadata": {},
     "output_type": "execute_result"
    }
   ],
   "source": [
    "survived_summary = train.groupby(\"Sex\")\n",
    "survived_summary.mean().reset_index()"
   ]
  },
  {
   "cell_type": "code",
   "execution_count": 39,
   "metadata": {
    "_cell_guid": "68cb2dac-6295-44d6-8aa0-5cddb53dd72c",
    "_kg_hide-input": true,
    "_uuid": "e49170e6e56329f68aba07a36389883ee1bee5ca"
   },
   "outputs": [
    {
     "data": {
      "text/html": [
       "<div>\n",
       "<style scoped>\n",
       "    .dataframe tbody tr th:only-of-type {\n",
       "        vertical-align: middle;\n",
       "    }\n",
       "\n",
       "    .dataframe tbody tr th {\n",
       "        vertical-align: top;\n",
       "    }\n",
       "\n",
       "    .dataframe thead th {\n",
       "        text-align: right;\n",
       "    }\n",
       "</style>\n",
       "<table border=\"1\" class=\"dataframe\">\n",
       "  <thead>\n",
       "    <tr style=\"text-align: right;\">\n",
       "      <th></th>\n",
       "      <th>Pclass</th>\n",
       "      <th>Survived</th>\n",
       "      <th>Sex</th>\n",
       "      <th>Age</th>\n",
       "      <th>SibSp</th>\n",
       "      <th>Parch</th>\n",
       "      <th>Fare</th>\n",
       "    </tr>\n",
       "  </thead>\n",
       "  <tbody>\n",
       "    <tr>\n",
       "      <th>0</th>\n",
       "      <td>1</td>\n",
       "      <td>0.624413</td>\n",
       "      <td>0.563380</td>\n",
       "      <td>38.280984</td>\n",
       "      <td>0.422535</td>\n",
       "      <td>0.356808</td>\n",
       "      <td>78.124061</td>\n",
       "    </tr>\n",
       "    <tr>\n",
       "      <th>1</th>\n",
       "      <td>2</td>\n",
       "      <td>0.472826</td>\n",
       "      <td>0.586957</td>\n",
       "      <td>29.877630</td>\n",
       "      <td>0.402174</td>\n",
       "      <td>0.380435</td>\n",
       "      <td>20.662183</td>\n",
       "    </tr>\n",
       "    <tr>\n",
       "      <th>2</th>\n",
       "      <td>3</td>\n",
       "      <td>0.242363</td>\n",
       "      <td>0.706721</td>\n",
       "      <td>25.140620</td>\n",
       "      <td>0.615071</td>\n",
       "      <td>0.393075</td>\n",
       "      <td>13.675550</td>\n",
       "    </tr>\n",
       "  </tbody>\n",
       "</table>\n",
       "</div>"
      ],
      "text/plain": [
       "   Pclass  Survived       Sex        Age     SibSp     Parch       Fare\n",
       "0       1  0.624413  0.563380  38.280984  0.422535  0.356808  78.124061\n",
       "1       2  0.472826  0.586957  29.877630  0.402174  0.380435  20.662183\n",
       "2       3  0.242363  0.706721  25.140620  0.615071  0.393075  13.675550"
      ]
     },
     "execution_count": 39,
     "metadata": {},
     "output_type": "execute_result"
    }
   ],
   "source": [
    "survived_summary = train.groupby(\"Pclass\")\n",
    "survived_summary.mean().reset_index()"
   ]
  },
  {
   "cell_type": "markdown",
   "metadata": {
    "_cell_guid": "89ba2894-b129-4709-913d-f8cb35815925",
    "_uuid": "e310c182f3541069329efcdd37373235fb144567"
   },
   "source": [
    "I have gathered a small summary from the statistical overview above. Let's see what they are...\n",
    "- This data set has 891 raw and 9 columns. \n",
    "- only 38% passenger survived during that tragedy.\n",
    "- ~74% female passenger survived, while only ~19% male passenger survived. \n",
    "- ~63% first class passengers survived, while only 24% lower class passenger survived.\n",
    "\n"
   ]
  },
  {
   "cell_type": "markdown",
   "metadata": {
    "_cell_guid": "5454218c-0a45-4a89-96fe-83d89b588183",
    "_uuid": "d00b4e471e863f766c4aad7b88e1e6d9e57d6423"
   },
   "source": [
    "## 4a. Correlation Matrix and Heatmap\n",
    "<a id=\"heatmap\"></a>\n",
    "***\n",
    "### Correlations"
   ]
  },
  {
   "cell_type": "code",
   "execution_count": 40,
   "metadata": {
    "_cell_guid": "d0acfa7a-6f3e-4783-925d-6e443a9a5baa",
    "_kg_hide-input": true,
    "_uuid": "c4057023aa30d3ce1befae168c00f3cb8491804b"
   },
   "outputs": [
    {
     "data": {
      "text/html": [
       "<div>\n",
       "<style scoped>\n",
       "    .dataframe tbody tr th:only-of-type {\n",
       "        vertical-align: middle;\n",
       "    }\n",
       "\n",
       "    .dataframe tbody tr th {\n",
       "        vertical-align: top;\n",
       "    }\n",
       "\n",
       "    .dataframe thead th {\n",
       "        text-align: right;\n",
       "    }\n",
       "</style>\n",
       "<table border=\"1\" class=\"dataframe\">\n",
       "  <thead>\n",
       "    <tr style=\"text-align: right;\">\n",
       "      <th></th>\n",
       "      <th>Survived</th>\n",
       "    </tr>\n",
       "  </thead>\n",
       "  <tbody>\n",
       "    <tr>\n",
       "      <th>Survived</th>\n",
       "      <td>1.000000</td>\n",
       "    </tr>\n",
       "    <tr>\n",
       "      <th>Sex</th>\n",
       "      <td>0.545899</td>\n",
       "    </tr>\n",
       "    <tr>\n",
       "      <th>Pclass</th>\n",
       "      <td>0.334068</td>\n",
       "    </tr>\n",
       "    <tr>\n",
       "      <th>Fare</th>\n",
       "      <td>0.261742</td>\n",
       "    </tr>\n",
       "    <tr>\n",
       "      <th>Parch</th>\n",
       "      <td>0.082157</td>\n",
       "    </tr>\n",
       "    <tr>\n",
       "      <th>Age</th>\n",
       "      <td>0.079472</td>\n",
       "    </tr>\n",
       "    <tr>\n",
       "      <th>SibSp</th>\n",
       "      <td>0.033395</td>\n",
       "    </tr>\n",
       "  </tbody>\n",
       "</table>\n",
       "</div>"
      ],
      "text/plain": [
       "          Survived\n",
       "Survived  1.000000\n",
       "Sex       0.545899\n",
       "Pclass    0.334068\n",
       "Fare      0.261742\n",
       "Parch     0.082157\n",
       "Age       0.079472\n",
       "SibSp     0.033395"
      ]
     },
     "execution_count": 40,
     "metadata": {},
     "output_type": "execute_result"
    }
   ],
   "source": [
    "pd.DataFrame(abs(train.corr()['Survived']).sort_values(ascending = False))"
   ]
  },
  {
   "cell_type": "markdown",
   "metadata": {
    "_cell_guid": "92a69940-78f8-4139-a9a7-24ccf5f6afe7",
    "_uuid": "211c5e2e817f4b10e64a28f5f8ce1d7eec9761fc"
   },
   "source": [
    "** Sex is the most important correlated feature with *Survived(dependent variable)* feature followed by Pclass.** "
   ]
  },
  {
   "cell_type": "code",
   "execution_count": 41,
   "metadata": {
    "_cell_guid": "3e9fdd2e-f081-48ad-9c0f-afa475b15dfe",
    "_kg_hide-input": true,
    "_uuid": "c3212c222341c250aacee47c43b1a023b9b65857"
   },
   "outputs": [
    {
     "data": {
      "text/plain": [
       "Survived    1.000000\n",
       "Sex         0.298006\n",
       "Pclass      0.111601\n",
       "Fare        0.068509\n",
       "Parch       0.006750\n",
       "Age         0.006316\n",
       "SibSp       0.001115\n",
       "Name: Survived, dtype: float64"
      ]
     },
     "execution_count": 41,
     "metadata": {},
     "output_type": "execute_result"
    }
   ],
   "source": [
    "## get the most important variables. \n",
    "corr = train.corr()**2\n",
    "corr.Survived.sort_values(ascending=False)"
   ]
  },
  {
   "cell_type": "markdown",
   "metadata": {
    "_cell_guid": "f5f257ef-88b1-4302-ad41-d90892fbe4e9",
    "_uuid": "1837acd3898d4787c9011e353dfc4dc15fd1abb2"
   },
   "source": [
    "**Squaring the correlation feature gives us an amplified version of only positive correlation, which in turns makes it easy for us.**"
   ]
  },
  {
   "cell_type": "code",
   "execution_count": 42,
   "metadata": {
    "_cell_guid": "eee23849-a390-4d16-a8df-d29c6f575413",
    "_kg_hide-input": true,
    "_uuid": "285660c315b854497fe00847d051ceac5c9ec298",
    "scrolled": false
   },
   "outputs": [
    {
     "data": {
      "image/png": "[encoded data removed]",
      "text/plain": [
       "<Figure size 1080x864 with 2 Axes>"
      ]
     },
     "metadata": {},
     "output_type": "display_data"
    }
   ],
   "source": [
    "## heatmeap to see the correlation between features. \n",
    "# Generate a mask for the upper triangle (taken from seaborn example gallery)\n",
    "mask = np.zeros_like(train.corr(), dtype=np.bool)\n",
    "mask[np.triu_indices_from(mask)] = True\n",
    "\n",
    "plt.subplots(figsize = (15,12))\n",
    "sns.heatmap(train.corr(), \n",
    "            annot=True,\n",
    "            mask = mask,\n",
    "            cmap = 'RdBu_r',\n",
    "            linewidths=0.1, \n",
    "            linecolor='white',\n",
    "            vmax = .9,\n",
    "            square=True)\n",
    "plt.title(\"Correlations Among Features\", y = 1.03,fontsize = 20);"
   ]
  },
  {
   "cell_type": "markdown",
   "metadata": {
    "_cell_guid": "b217deeb-2394-42f9-a9b5-91e43d6d8fb7",
    "_uuid": "7fa19033d2065e04443f16a473111351ee8f55e0"
   },
   "source": [
    "**"
   ]
  },
  {
   "cell_type": "markdown",
   "metadata": {
    "_cell_guid": "0e0b5ceb-fde5-40a7-b33b-b44e8f04189a",
    "_uuid": "41e2bc2eff5699b14a0f47d5bd2e428ee5bec3b8"
   },
   "source": [
    "#### Positive Correlation Features:\n",
    "- Fare and Survived: 0.26\n",
    "\n",
    "#### Negative Correlation Features:\n",
    "- Fare and Pclass: -0.6\n",
    "- Sex and Survived: -0.55\n",
    "- Pclass and Survived: -0.33\n",
    "\n",
    "\n",
    "**So, Let's analyze these correlations a bit.** We have found some moderately strong relationships between different features. There is a definite positive correlation between Fare and Survived rated. This relationship reveals that the passenger who paid more money for their ticket were more likely to survive. This theory aligns with one other correlation which is the correlation between Fare and Pclass(-0.6). This relationship can be explained by saying that first class passenger(1) paid more for fare then second class passenger(2), similarly second class passenger paid more than the third class passenger(3). This theory can also be supported by mentioning another Pclass correlation with our dependent variable, Survived. The correlation between Pclass and Survived is -0.33. This can also be explained by saying that first class passenger had a better chance of surviving than the second or the third and so on.\n",
    "\n",
    "However, the most significant correlation with our dependent variable is the Sex variable, which is the info on whether the passenger was male or female. This negative correlation with a magnitude of -0.54 which points towards some undeniable insights. Let's do some statistics to see how statistically significant this correlation is. "
   ]
  },
  {
   "cell_type": "markdown",
   "metadata": {
    "_cell_guid": "85faf680-5f78-414f-87b9-b72ef6d6ffc2",
    "_uuid": "18c908fdbe16ae939827ec12a4ce028094a8a587"
   },
   "source": [
    "## 4b. Statistical Test for Correlation\n",
    "<a id=\"statistical_test\"></a>\n",
    "***\n",
    "\n",
    "Statistical tests are the scientific way to prove the validation of theories. In any case, when we look at the data, we seem to have an intuitive understanding of where data is leading us. However, when we do statistical tests, we get a scientific or mathematical perspective of how significant these results are. Let's apply some of the tests and see how we are doing with our predictions.\n",
    "\n",
    "###  Hypothesis Testing Outline\n",
    "\n",
    "A hypothesis test compares the mean of a control group and experimental group and tries to find out whether the two sample means are different from each other and if they are different, how significant that difference is.\n",
    " \n",
    "A **hypothesis test** usually consists of multiple parts: \n",
    "\n",
    "1. Formulate a well developed research problem or question: The hypothesis test usually starts with a concrete and well-developed researched problem. We need to ask the right question that can be answered using statistical tests. \n",
    "2. The null hypothesis ($H_0$) and Alternating hypothesis($H_1$):\n",
    "> * The **null hypothesis($H_0$)** is something that is assumed to be true. It is the status quo. In a null hypothesis, the observations are the result of pure chance. When we set out to experiment, we form the null hypothesis by saying that there is no difference between the means of the control group and the experimental group.\n",
    "> *  An **Alternative hypothesis($H_A$)** is a claim and the opposite of the null hypothesis.  It is a going against a status quo. In an alternative hypothesis, the observations show a real effect combined with a component of chance variation.\n",
    "    \n",
    "3. Determine the **test statistic**: test statistic can be used to assess the truth of the null hypothesis. Depending on the standard deviation we either use t-statistics or z-statistics. In addition to that, we want to identify whether the test is a one-tailed test or two-tailed test. \n",
    "\n",
    "4. Specify a **Significance level**: The significance level($\\alpha$) is the probability of rejecting a null hypothesis when it is true. In other words, we are ***comfortable/confident*** with rejecting the null hypothesis a significant amount of times even though it is true. This significant amount is our significant level. In addition to that significance level is one minus our Confidence interval. For example, if we say, our significance level is 5%, then our confidence interval would be (1 - 0.05) = 0.95 or 95%. \n",
    "\n",
    "5. Compute the **T-statistics**: Computing the t-statistics follows a simple equation. This equation slightly differs depending on one sample test or two sample test  \n",
    "\n",
    "6. Compute the **P-value**: P-value is the probability that a test statistic at least as significant as the one observed would be obtained assuming that the null hypothesis was correct. The p-value is known to be unintuitive, and even many professors are known to explain it wrong. I think this [video](https://www.youtube.com/watch?v=E4KCfcVwzyw) explains the p-value really well. **The smaller the P-value, the stronger the evidence against the null hypothesis.**\n",
    "\n",
    "7. **Describe the result and compare the p-value with the significance value($\\alpha$)**: If p<= $\\alpha$, then the observed effect is statistically significant, the null hypothesis is ruled out, and the alternative hypothesis is valid. However if the p> $\\alpha$, we say that, we fail to reject the null hypothesis. Even though this sentence is grammatically wrong, it is logically right. We never accept the null hypothesis simply because we are doing statistical test with sample data points.\n",
    "\n",
    "We will follow each of these steps above to do your hypothesis testing below.\n",
    "\n",
    "***"
   ]
  },
  {
   "cell_type": "markdown",
   "metadata": {
    "_uuid": "f3b49278bd1b8eff8fe1b14c1506d73cf53bd859"
   },
   "source": [
    "### Hypothesis testing\n",
    "#### Formulating a well developed researched question: \n",
    "Regarding this dataset, we can formulate the null hypothesis and alternative hypothesis by asking the following questions. \n",
    "> * **Is there a significant difference in the mean sex between the passenger who survived and passenger who did not survive?**. \n",
    "> * **Is there a significant difference in the survival rate between the male and female passengers?**\n",
    "#### The Null Hypothesis and The Alternative Hypothesis\n",
    "We can formulate our hypothesis by asking questions differently. However, it is essential to understand what our end goal is. Here our dependent variable or target variable is **Survived**. Therefore, we say\n",
    "\n",
    "> ** Null Hypothesis($H_0$)** There is no difference in the survival rate between the male and female passengers. or the mean difference between male and female passenger in the survival rate is zero.  \n",
    ">  ** Alternative Hypothesis($H_A$):** There is a difference in the survival rate between the male and female passengers. or the mean difference in the survival rate between male and female is not zero. \n",
    "\n",
    "#### Determine the test statistics\n",
    "> This will be a two tailed test since the difference between male and female passenger in the survival rate could be higher or lower than 0. \n",
    "> Since we do not know the standard deviation($\\sigma$) and n is small, we will use the t-distribution. \n",
    "\n",
    "#### Specify the significance level\n",
    "> Specifying a significance level is an important step of the hypothesis test. It is an ultimate balance between type 1 error and type 2 error. We will discuss more indepth about those in another lesson. For now, we have decided to make our significance level($\\alpha$) = 0.05. So, our confidence intervel or non-rejection region would be (1 - $\\alpha$) =   95%. \n",
    "\n",
    "#### Computing T-statistics and P-value\n",
    "Let's take a random sample and see the difference.\n",
    "    \n",
    "    "
   ]
  },
  {
   "cell_type": "code",
   "execution_count": 43,
   "metadata": {
    "_uuid": "abd034cffc591bf1ef2b4a8ed3e5a65eb133d61e"
   },
   "outputs": [
    {
     "name": "stdout",
     "output_type": "stream",
     "text": [
      "Male survival mean: 0.18608695652173912\n",
      "female survival mean: 0.7412140575079872\n",
      "The mean difference between male and female survival rate: 0.5551271009862481\n"
     ]
    }
   ],
   "source": [
    "male_mean = train[train['Sex'] == 1].Survived.mean()\n",
    "\n",
    "female_mean = train[train['Sex'] == 0].Survived.mean()\n",
    "print (\"Male survival mean: \" + str(male_mean))\n",
    "print (\"female survival mean: \" + str(female_mean))\n",
    "\n",
    "print (\"The mean difference between male and female survival rate: \" + str(female_mean - male_mean))"
   ]
  },
  {
   "cell_type": "markdown",
   "metadata": {
    "_uuid": "0c1c27af262ba094ff1fd02867b1a41d5369720f"
   },
   "source": [
    "Now, we have to understand that those two means are not  **the population mean**.  *The population mean is a statistical term statistician uses to indicate the actual average of the entire group. The group can be any gathering of multiple numbers such as animal, human, plants, money, stocks.* For example, To find the age population mean of Bulgaria; we have to account for every single person's age and take their age. Which is almost impossible and if we were to go that route; there is no point of doing statistics in the first place. Therefore we approach this problem using sample sets. The idea of using sample set is that; if we take multiple samples of the same population and take the mean of them and put them in a distribution; eventually our distribution start to look more like a **normal distribution**. The more samples we take and the more sample means with be added and the closer the normal distribution with reach towards population mean. This is where **Central limit theory** comes from. We will go into this topic later on. \n",
    "\n",
    "Going back to our dataset, like we are saying these means above are part of the whole story. We were given part of the data to train our machine learning models, and the other part of the data was held back for testing. Therefore, It is impossible for us to know the population means of survival for male and females. Situation like this calls for a statistical approach. We will use the sampling distribution approach to do the test. let's take 50 random sample of male and female from our train data."
   ]
  },
  {
   "cell_type": "code",
   "execution_count": 44,
   "metadata": {
    "_kg_hide-input": true,
    "_uuid": "5fecb72a097cca56483bca00a730a646aa5b0120"
   },
   "outputs": [
    {
     "name": "stdout",
     "output_type": "stream",
     "text": [
      "Male sample mean: 0.14\n",
      "Female sample mean: 0.7\n",
      "Difference between male and female sample mean: 0.5599999999999999\n"
     ]
    }
   ],
   "source": [
    "# separating male and female dataframe. \n",
    "male = train[train['Sex'] == 1]\n",
    "female = train[train['Sex'] == 0]\n",
    "\n",
    "# getting 50 random sample for male and female. \n",
    "import random\n",
    "male_sample = random.sample(list(male['Survived']),50)\n",
    "female_sample = random.sample(list(female['Survived']),50)\n",
    "\n",
    "# Taking a sample means of survival feature from male and female\n",
    "male_sample_mean = np.mean(male_sample)\n",
    "female_sample_mean = np.mean(female_sample)\n",
    "\n",
    "# Print them out\n",
    "print (\"Male sample mean: \" + str(male_sample_mean))\n",
    "print (\"Female sample mean: \" + str(female_sample_mean))\n",
    "print (\"Difference between male and female sample mean: \" + str(female_sample_mean - male_sample_mean))"
   ]
  },
  {
   "cell_type": "markdown",
   "metadata": {
    "_uuid": "706d89356793f306d807c3fb277963e07181915c"
   },
   "source": [
    "According to the samples our male and female mean measured difference is 0.58, keeping in mind that...\n",
    "* We randomly select 50 people to be in the male group and 50 people to be in the female group. \n",
    "* We know our sample is selected from a broader population(whole dataset of titanic). \n",
    "* We know we could have ended up with a different random sample of males or females from the total dataset. \n",
    "***\n",
    "With all three points above in mind, how confident are we that, the measured difference is real or statistically significant? we can perform a **t-test** to evaluate that. When we perform a **t-test** we are usually trying to find out **an evidence of significant difference between population mean with hypothesized mean(1 sample t-test) or in our case difference between two population means(2 sample t-test).** \n",
    "\n",
    "\n",
    "\n",
    "The **t-statistics** is the measure of a degree to which our groups differ standardized by the variance of our measurements. In order words, it is basically the measure of signal over noise. Let us describe the previous sentence a bit more for clarification. I am going to use [this post](http://blog.minitab.com/blog/statistics-and-quality-data-analysis/what-is-a-t-test-and-why-is-it-like-telling-a-kid-to-clean-up-that-mess-in-the-kitchen) as reference to describe the t-statistics here. \n",
    "\n",
    "\n",
    "#### Calculating the t-statistics\n",
    "# $$t = \\frac{\\bar{x}-\\mu}{\\frac{S} {\\sqrt{n}} }$$\n",
    "\n",
    "Here..\n",
    "* $\\bar{x}$ is the sample mean. \n",
    "* $\\mu$ is the hypothesized mean. \n",
    "* S is the standard devaition. \n",
    "* n is the sample size. \n",
    "\n",
    "\n",
    "Now, the denominator of this fraction $(\\bar{x}-\\mu)$ is basically the strength of the signal. where we calculate the difference between hypothesized mean and sample mean. If the mean difference is higher, then the signal is stronger. \n",
    "\n",
    "the numerator of this fraction ** ${S}/ {\\sqrt{n}}$ ** calculates the amount of variation or noise of the data set. Here S is standard deviation, which tells us how much variation is there in the data. n is the sample size. \n",
    "\n",
    "So, according to the explanation above, the t-value or t-statistics is basically measures the strength of the signal(the difference) to the amount of noise(the variation) in the data and that is how we calculate the t-value in one sample t-test. However, in order to calculate between two sample population mean or in our case we will use the follow equation. \n",
    "\n",
    "# $$t = \\frac{\\bar{x}_M - \\bar{x}_F}{\\sqrt {s^2 (\\frac{1}{n_M} + \\frac{1}{n_F})}}$$\n",
    "\n",
    "This equation may seem too complex, however, the idea behind these two are similar. Both of them have the concept of signal/noise. The only difference is that we replace our hypothesis mean with another sample mean and the two sample sizes repalce one sample size. \n",
    "\n",
    "Here..\n",
    "* $\\bar{x}_M$ is the mean of our male group sample measurements. \n",
    "* $ \\bar{x}_F$ is the mean of female group samples. \n",
    "* $ n_M$ and $n_F$ are the sample number of observations in each group. \n",
    "* $ S^2$ is the sample variance.\n",
    "\n",
    "It is good to have an understanding of what going on in the background. However, we will use **scipy.stats** to find the t-statistics. \n"
   ]
  },
  {
   "cell_type": "code",
   "execution_count": 45,
   "metadata": {
    "_uuid": "52f37896d52d56f3f54208301f2b020f08b1fe92"
   },
   "outputs": [
    {
     "name": "stdout",
     "output_type": "stream",
     "text": [
      "Ttest_indResult(statistic=-6.819712206264365, pvalue=7.550631455261786e-10)\n",
      "This is the p-value when we break it into standard form: 0.00000000075506314552617860998318\n"
     ]
    }
   ],
   "source": [
    "import scipy.stats as stats\n",
    "\n",
    "print (stats.ttest_ind(male_sample, female_sample))\n",
    "print (\"This is the p-value when we break it into standard form: \" + format(stats.ttest_ind(male_sample, female_sample).pvalue, '.32f'))"
   ]
  },
  {
   "cell_type": "markdown",
   "metadata": {
    "_uuid": "44e9000aefed8ea0125463486cc4a00c17e580e5"
   },
   "source": [
    "#### Compare P-value with $\\alpha$\n",
    "> It looks like the p-value is very small compared to our significance level($\\alpha$)of (0.05). Our observation sample is statistically significant. Therefore, our null hypothesis is ruled out, and our alternative hypothesis is valid, which is \"**There is a significant difference in the survival rate between the male and female passengers.\"**"
   ]
  },
  {
   "cell_type": "markdown",
   "metadata": {
    "_cell_guid": "df06b6c8-daf6-4f5b-af51-9c1dfbac7a68",
    "_uuid": "34869ce4ce852633b1f4a5cd111b98841982cc19"
   },
   "source": [
    "# Part 5: Feature Engineering\n",
    "<a id=\"feature_engineering\"></a>\n",
    "***\n",
    "In this section we are going to create a new features from the feature we already have. It is important to remember that we will create new features in such ways that will not cause **multicollinearity(when there is a relationship among independent variables)** to occur. "
   ]
  },
  {
   "cell_type": "markdown",
   "metadata": {
    "_cell_guid": "8c439069-6168-4cda-846f-db4c21265089",
    "_uuid": "3ca0785fe824c6ea471b2bcf9600007ed238d450"
   },
   "source": [
    "## name_length\n",
    "***"
   ]
  },
  {
   "cell_type": "code",
   "execution_count": 46,
   "metadata": {
    "_cell_guid": "d30d71c1-55bc-41c8-8536-9909d9f02538",
    "_kg_hide-input": true,
    "_uuid": "cb17c6f59bb2123cbf2cbc9c282b4d70ee283a86"
   },
   "outputs": [],
   "source": [
    "# Creating a new colomn with a \n",
    "train['name_length'] = [len(i) for i in train.Name]\n",
    "test['name_length'] = [len(i) for i in test.Name]\n",
    "\n",
    "def name_length_group(size):\n",
    "    a = ''\n",
    "    if (size <=20):\n",
    "        a = 'short'\n",
    "    elif (size <=35):\n",
    "        a = 'medium'\n",
    "    elif (size <=45):\n",
    "        a = 'good'\n",
    "    else:\n",
    "        a = 'long'\n",
    "    return a"
   ]
  },
  {
   "cell_type": "code",
   "execution_count": 47,
   "metadata": {
    "_cell_guid": "ce166cd1-86aa-4b84-84db-23143fe86785",
    "_uuid": "d170084acdcc559bd9376a4e73b7276e8cc28e42"
   },
   "outputs": [],
   "source": [
    "train['nLength_group'] = train['name_length'].map(name_length_group)\n",
    "test['nLength_group'] = test['name_length'].map(name_length_group)"
   ]
  },
  {
   "cell_type": "code",
   "execution_count": 48,
   "metadata": {
    "_cell_guid": "19dbe40a-aa95-48af-abc4-291cab9d24b0",
    "_uuid": "cc3d7d3e2dd73f06eec76bad44610be8cae5f667"
   },
   "outputs": [],
   "source": [
    "## cuts the column by given bins based on the range of name_length\n",
    "#group_names = ['short', 'medium', 'good', 'long']\n",
    "#train['name_len_group'] = pd.cut(train['name_length'], bins = 4, labels=group_names)"
   ]
  },
  {
   "cell_type": "markdown",
   "metadata": {
    "_cell_guid": "43f09c93-87c9-4944-bfee-08f26e8b39b4",
    "_uuid": "7bc4cc4b7b1d6f4e775c2d48fa7ffbfe2acd37c7"
   },
   "source": [
    "## title"
   ]
  },
  {
   "cell_type": "code",
   "execution_count": 49,
   "metadata": {
    "_cell_guid": "ded64d5f-43de-4a9e-b9c5-ec4d2869387a",
    "_uuid": "9c23229f7d06a1303a04b4a81c927453686ffec9"
   },
   "outputs": [],
   "source": [
    "## get the title from the name\n",
    "train[\"title\"] = [i.split('.')[0] for i in train.Name]\n",
    "train[\"title\"] = [i.split(',')[1] for i in train.title]\n",
    "test[\"title\"] = [i.split('.')[0] for i in test.Name]\n",
    "test[\"title\"]= [i.split(',')[1] for i in test.title]"
   ]
  },
  {
   "cell_type": "code",
   "execution_count": 50,
   "metadata": {
    "_cell_guid": "5310efe8-5dcf-4d9f-a34f-5792bd9d12ea",
    "_uuid": "f450efdfa802f9d0d2e36dd1d90f1a3eb09e5be3"
   },
   "outputs": [
    {
     "data": {
      "text/plain": [
       " Mr              515\n",
       " Miss            181\n",
       " Mrs             125\n",
       " Master           40\n",
       " Dr                7\n",
       " Rev               6\n",
       " Major             2\n",
       " Col               2\n",
       " Mlle              2\n",
       " Sir               1\n",
       " Lady              1\n",
       " the Countess      1\n",
       " Don               1\n",
       " Ms                1\n",
       " Mme               1\n",
       " Capt              1\n",
       " Jonkheer          1\n",
       "Name: title, dtype: int64"
      ]
     },
     "execution_count": 50,
     "metadata": {},
     "output_type": "execute_result"
    }
   ],
   "source": [
    "train.title.value_counts()"
   ]
  },
  {
   "cell_type": "code",
   "execution_count": 51,
   "metadata": {
    "_cell_guid": "82e13bfe-5792-462c-be4d-4d786663fe48",
    "_uuid": "e475416e3e0c80c554b9a0990134128d219779c7"
   },
   "outputs": [],
   "source": [
    "#rare_title = ['the Countess','Capt','Lady','Sir','Jonkheer','Don','Major','Col']\n",
    "#train.Name = ['rare' for i in train.Name for j in rare_title if i == j]\n",
    "## train Data\n",
    "train[\"title\"] = [i.replace('Ms', 'Miss') for i in train.title]\n",
    "train[\"title\"] = [i.replace('Mlle', 'Miss') for i in train.title]\n",
    "train[\"title\"] = [i.replace('Mme', 'Mrs') for i in train.title]\n",
    "train[\"title\"] = [i.replace('Dr', 'rare') for i in train.title]\n",
    "train[\"title\"] = [i.replace('Col', 'rare') for i in train.title]\n",
    "train[\"title\"] = [i.replace('Major', 'rare') for i in train.title]\n",
    "train[\"title\"] = [i.replace('Don', 'rare') for i in train.title]\n",
    "train[\"title\"] = [i.replace('Jonkheer', 'rare') for i in train.title]\n",
    "train[\"title\"] = [i.replace('Sir', 'rare') for i in train.title]\n",
    "train[\"title\"] = [i.replace('Lady', 'rare') for i in train.title]\n",
    "train[\"title\"] = [i.replace('Capt', 'rare') for i in train.title]\n",
    "train[\"title\"] = [i.replace('the Countess', 'rare') for i in train.title]\n",
    "train[\"title\"] = [i.replace('Rev', 'rare') for i in train.title]\n",
    "\n",
    "\n",
    "\n",
    "#rare_title = ['the Countess','Capt','Lady','Sir','Jonkheer','Don','Major','Col']\n",
    "#train.Name = ['rare' for i in train.Name for j in rare_title if i == j]\n",
    "## test data\n",
    "test['title'] = [i.replace('Ms', 'Miss') for i in test.title]\n",
    "test['title'] = [i.replace('Dr', 'rare') for i in test.title]\n",
    "test['title'] = [i.replace('Col', 'rare') for i in test.title]\n",
    "test['title'] = [i.replace('Dona', 'rare') for i in test.title]\n",
    "test['title'] = [i.replace('Rev', 'rare') for i in test.title]"
   ]
  },
  {
   "cell_type": "markdown",
   "metadata": {
    "_cell_guid": "678a52da-9b47-4209-9472-bccca7eb28f9",
    "_uuid": "bfb57228beaf6fd8b2e1fb29a1c2cd7b56680cc2"
   },
   "source": [
    "## has_cabin"
   ]
  },
  {
   "cell_type": "code",
   "execution_count": 52,
   "metadata": {
    "_cell_guid": "056eabf3-0593-43fe-b9c7-5dc899c72ceb",
    "_kg_hide-input": true,
    "_uuid": "c9e5892184d280993f08975d8e3a60dc08e19fc0"
   },
   "outputs": [],
   "source": [
    "train[\"has_cabin\"] = [0 if i == 'N'else 1 for i in train.Cabin]\n",
    "test[\"has_cabin\"] = [0 if i == 'N'else 1 for i in test.Cabin]"
   ]
  },
  {
   "cell_type": "markdown",
   "metadata": {
    "_cell_guid": "db4ed92c-8b39-40a4-8467-abc4cf0defdf",
    "_uuid": "347b5a9c17e362564336843ec41153f015a07fd9"
   },
   "source": [
    "## Cabin feature"
   ]
  },
  {
   "cell_type": "code",
   "execution_count": 53,
   "metadata": {
    "_cell_guid": "c10b0c9b-e609-4926-9da8-9e394e8cb35d",
    "_uuid": "e4748acbc5fd69e4065653e4639328cf3bd695b1"
   },
   "outputs": [
    {
     "name": "stdout",
     "output_type": "stream",
     "text": [
      "['A', 'B', 'C', 'D', 'E', 'F', 'G', 'N', 'T']\n",
      "*********************************************\n",
      "['A', 'B', 'C', 'D', 'E', 'F', 'G', 'N']\n"
     ]
    }
   ],
   "source": [
    "print (sorted(train.Cabin.unique()))\n",
    "print (''.center(45,'*'))\n",
    "print(sorted(test.Cabin.unique()))"
   ]
  },
  {
   "cell_type": "markdown",
   "metadata": {
    "_cell_guid": "c44568a3-9a0f-43bb-b056-6bdeb9f43895",
    "_uuid": "bf5c892287a8ebb933d5ec4d5710bbf641f7bf5b"
   },
   "source": [
    "It looks like there is one more unique values in the training data. This will complicate running machine learning models. therefore when you create dummy variables, we will have to make sure to drop **T** column from training data. "
   ]
  },
  {
   "cell_type": "markdown",
   "metadata": {
    "_cell_guid": "cd7eac84-8e77-449a-abd8-6b40f9b3a383",
    "_uuid": "1229a18918e013432c6195c9de242ed90ef70c3d"
   },
   "source": [
    "## child feature"
   ]
  },
  {
   "cell_type": "code",
   "execution_count": 54,
   "metadata": {
    "_cell_guid": "aa9afcef-27e9-452b-9ff1-0d13155e6eb7",
    "_uuid": "99d6b96cc812a8a3bca7b9b96d3749ab944de40a"
   },
   "outputs": [],
   "source": [
    "## We are going to create a new feature \"age\" from the Age feature. \n",
    "train['child'] = [1 if i<16 else 0 for i in train.Age]\n",
    "test['child'] = [1 if i<16 else 0 for i in test.Age]"
   ]
  },
  {
   "cell_type": "code",
   "execution_count": 55,
   "metadata": {
    "_cell_guid": "7fd10211-25c9-4095-a645-fbf806678fad",
    "_uuid": "8992fdc0503ca344a576ab5b2987c1eec1b38040"
   },
   "outputs": [
    {
     "data": {
      "text/plain": [
       "0    805\n",
       "1     83\n",
       "Name: child, dtype: int64"
      ]
     },
     "execution_count": 55,
     "metadata": {},
     "output_type": "execute_result"
    }
   ],
   "source": [
    "train.child.value_counts()"
   ]
  },
  {
   "cell_type": "markdown",
   "metadata": {
    "_cell_guid": "42ccf293-04c7-4bea-9570-4cce9227b8af",
    "_uuid": "e870c4fc44de4b2395963e583c84d2cae83c004b"
   },
   "source": [
    "## family_size feature\n"
   ]
  },
  {
   "cell_type": "code",
   "execution_count": 56,
   "metadata": {
    "_cell_guid": "7083a7e7-d1d5-4cc1-ad67-c454b139f5f1",
    "_uuid": "cdfd54429cb235dd3b73535518950b2e515e54f2"
   },
   "outputs": [],
   "source": [
    "## Family_size seems like a good feature to create\n",
    "train['family_size'] = train.SibSp + train.Parch+1\n",
    "test['family_size'] = test.SibSp + test.Parch+1"
   ]
  },
  {
   "cell_type": "code",
   "execution_count": 57,
   "metadata": {
    "_cell_guid": "3d471d07-7735-4aab-8b26-3f26e481dc49",
    "_uuid": "2e23467af7a2e85fcaa06b52b303daf2e5e44250"
   },
   "outputs": [],
   "source": [
    "def family_group(size):\n",
    "    a = ''\n",
    "    if (size <= 1):\n",
    "        a = 'loner'\n",
    "    elif (size <= 4):\n",
    "        a = 'small'\n",
    "    else:\n",
    "        a = 'large'\n",
    "    return a"
   ]
  },
  {
   "cell_type": "code",
   "execution_count": 58,
   "metadata": {
    "_cell_guid": "82f3cf5a-7e8d-42c3-a06b-56e17e890358",
    "_uuid": "549239812f919f5348da08db4264632d2b21b587"
   },
   "outputs": [],
   "source": [
    "train['family_group'] = train['family_size'].map(family_group)\n",
    "test['family_group'] = test['family_size'].map(family_group)"
   ]
  },
  {
   "cell_type": "markdown",
   "metadata": {
    "_cell_guid": "d827a2d9-8ca5-454a-8323-90c397b25ccf",
    "_uuid": "3aa4ad0fac364f8f3c04e240841ee097baa3c871"
   },
   "source": [
    "## is_alone feature"
   ]
  },
  {
   "cell_type": "code",
   "execution_count": 59,
   "metadata": {
    "_cell_guid": "298b28d6-75a7-4e49-b1c3-7755f1727327",
    "_uuid": "45315bb62f69e94e66109e7da06c6c5ade578398"
   },
   "outputs": [],
   "source": [
    "train['is_alone'] = [1 if i<2 else 0 for i in train.family_size]\n",
    "test['is_alone'] = [1 if i<2 else 0 for i in test.family_size]"
   ]
  },
  {
   "cell_type": "markdown",
   "metadata": {
    "_cell_guid": "fee91907-4197-46c2-92c1-92474565e9a0",
    "_uuid": "0a6032d2746a7cf75e2cc899615d72433572fd6d"
   },
   "source": [
    "## Ticket feature"
   ]
  },
  {
   "cell_type": "code",
   "execution_count": 60,
   "metadata": {
    "_cell_guid": "352c794d-728d-44de-9160-25da7abe0c06",
    "_uuid": "5b99e1f7d7757f11e6dd6dbc627f3bd6e2fbd874"
   },
   "outputs": [
    {
     "data": {
      "text/plain": [
       "347082          7\n",
       "CA. 2343        7\n",
       "1601            7\n",
       "CA 2144         6\n",
       "3101295         6\n",
       "347088          6\n",
       "382652          5\n",
       "S.O.C. 14879    5\n",
       "113760          4\n",
       "17421           4\n",
       "Name: Ticket, dtype: int64"
      ]
     },
     "execution_count": 60,
     "metadata": {},
     "output_type": "execute_result"
    }
   ],
   "source": [
    "train.Ticket.value_counts().head(10)"
   ]
  },
  {
   "cell_type": "markdown",
   "metadata": {
    "_cell_guid": "531a129f-7974-4bed-ae9c-52fa9bd27cc9",
    "_uuid": "35274703b81b0a10907638b43cb291e2367dbfba"
   },
   "source": []
  },
  {
   "cell_type": "markdown",
   "metadata": {
    "_cell_guid": "60cb16dc-9bc3-4ff3-93b8-e3b3d4bcc0c8",
    "_uuid": "800052abc32a56c5f5f875bb3652c02e93c6b0a8"
   },
   "source": [
    "## fare feature"
   ]
  },
  {
   "cell_type": "markdown",
   "metadata": {
    "_cell_guid": "2d3997eb-8b27-441d-b4c2-cb6db05c96b6",
    "_uuid": "3f897da7b6f8117232216c0c803c1341ee85f63c"
   },
   "source": [
    "### calculated_fare feature"
   ]
  },
  {
   "cell_type": "code",
   "execution_count": 61,
   "metadata": {
    "_cell_guid": "adaa30fe-cb0f-4666-bf95-505f1dcce188",
    "_uuid": "9374a6357551a7551e71731d72f5ceb3144856df"
   },
   "outputs": [],
   "source": [
    "## \n",
    "train['calculated_fare'] = train.Fare/train.family_size\n",
    "test['calculated_fare'] = test.Fare/test.family_size"
   ]
  },
  {
   "cell_type": "code",
   "execution_count": 62,
   "metadata": {
    "_cell_guid": "d30628b2-9eb9-490e-b765-431e21f6b791",
    "_uuid": "154f5e86a66ac1533b3574823b36696979947222"
   },
   "outputs": [
    {
     "data": {
      "text/plain": [
       "18.54129191972815"
      ]
     },
     "execution_count": 62,
     "metadata": {},
     "output_type": "execute_result"
    }
   ],
   "source": [
    "train.calculated_fare.mean()"
   ]
  },
  {
   "cell_type": "code",
   "execution_count": 63,
   "metadata": {
    "_cell_guid": "aeea54ab-465f-42eb-929e-4fc9a07e9f54",
    "_uuid": "a725505e7aedfc5616eab8ca77be45697ca5ead5"
   },
   "outputs": [
    {
     "data": {
      "text/plain": [
       "0    13.0\n",
       "dtype: float64"
      ]
     },
     "execution_count": 63,
     "metadata": {},
     "output_type": "execute_result"
    }
   ],
   "source": [
    "train.calculated_fare.mode()"
   ]
  },
  {
   "cell_type": "markdown",
   "metadata": {
    "_cell_guid": "60579ed1-9978-4d4a-aea0-79c75b6b1376",
    "_uuid": "c0e1c25bc6a7717646a5d0d063acae220e496e9e"
   },
   "source": [
    "### fare_group"
   ]
  },
  {
   "cell_type": "code",
   "execution_count": 64,
   "metadata": {
    "_cell_guid": "8c33b78c-14cb-4cc2-af0f-65079a741570",
    "_uuid": "35685a6ca28651eab389c4673c21da2ea5ba4187"
   },
   "outputs": [],
   "source": [
    "def fare_group(fare):\n",
    "    a= ''\n",
    "    if fare <= 4:\n",
    "        a = 'Very_low'\n",
    "    elif fare <= 10:\n",
    "        a = 'low'\n",
    "    elif fare <= 20:\n",
    "        a = 'mid'\n",
    "    elif fare <= 45:\n",
    "        a = 'high'\n",
    "    else:\n",
    "        a = \"very_high\"\n",
    "    return a\n",
    "        \n",
    "    "
   ]
  },
  {
   "cell_type": "code",
   "execution_count": 65,
   "metadata": {
    "_cell_guid": "068772c8-b805-4800-8153-27bd7460c659",
    "_uuid": "78357df4a574d26ffc96fb59e070edbdcb648949"
   },
   "outputs": [],
   "source": [
    "train['fare_group'] = train['calculated_fare'].map(fare_group)\n",
    "test['fare_group'] = test['calculated_fare'].map(fare_group)"
   ]
  },
  {
   "cell_type": "code",
   "execution_count": 66,
   "metadata": {
    "_cell_guid": "4851b8f9-4249-4167-b981-0449a987dfce",
    "_uuid": "f5d08e66c2bcdf2c698eb057a5f352165734076f"
   },
   "outputs": [],
   "source": [
    "#train['fare_group'] = pd.cut(train['calculated_fare'], bins = 4, labels=groups)"
   ]
  },
  {
   "cell_type": "markdown",
   "metadata": {
    "_cell_guid": "5f5072cf-2234-425e-b91d-9609971117a0",
    "_uuid": "907614ee16efce8cbcc32b5535648688d23271eb"
   },
   "source": [
    "Some people have travelled in groups like family or friends. It seems like Fare column kept a record of the total fare rather  than the fare of individual passenger, therefore calculated fare will be much handy in this situation. "
   ]
  },
  {
   "cell_type": "markdown",
   "metadata": {
    "_cell_guid": "6a494c58-c1cf-44e9-be41-f404626ab299",
    "_uuid": "704994b577f803ae51c5c6473a2d96f49bdd12ea"
   },
   "source": [
    "## Creating dummy variables"
   ]
  },
  {
   "cell_type": "code",
   "execution_count": 67,
   "metadata": {
    "_cell_guid": "9243ac8c-be44-46d0-a0ca-ee5f19b89bd4",
    "_uuid": "7b8db3930fb1bfb91db16686223dfc6d8e77744d",
    "scrolled": false
   },
   "outputs": [],
   "source": [
    "train = pd.get_dummies(train, columns=['title',\"Pclass\", 'Cabin','Embarked','nLength_group', 'family_group', 'fare_group'], drop_first=True)\n",
    "test = pd.get_dummies(test, columns=['title',\"Pclass\",'Cabin','Embarked','nLength_group', 'family_group', 'fare_group'], drop_first=True)\n",
    "train.drop(['Cabin_T', 'family_size','Ticket','Name', 'Fare','name_length'], axis=1, inplace=True)\n",
    "test.drop(['Ticket','Name','family_size',\"Fare\",'name_length'], axis=1, inplace=True)"
   ]
  },
  {
   "cell_type": "markdown",
   "metadata": {
    "_cell_guid": "67dc98ce-bedc-456d-bdbb-9684bbd88d66",
    "_uuid": "23586743d94d093f76f05a2fd3ca0ae75c0d663c"
   },
   "source": [
    "## Age feature"
   ]
  },
  {
   "cell_type": "code",
   "execution_count": 68,
   "metadata": {
    "_cell_guid": "77b96a60-406b-46bd-ab48-6316a299a64b",
    "_uuid": "4c41d6777e22b808753819351580d4e9f5942e12"
   },
   "outputs": [
    {
     "data": {
      "text/html": [
       "<div>\n",
       "<style scoped>\n",
       "    .dataframe tbody tr th:only-of-type {\n",
       "        vertical-align: middle;\n",
       "    }\n",
       "\n",
       "    .dataframe tbody tr th {\n",
       "        vertical-align: top;\n",
       "    }\n",
       "\n",
       "    .dataframe thead th {\n",
       "        text-align: right;\n",
       "    }\n",
       "</style>\n",
       "<table border=\"1\" class=\"dataframe\">\n",
       "  <thead>\n",
       "    <tr style=\"text-align: right;\">\n",
       "      <th></th>\n",
       "      <th>Survived</th>\n",
       "      <th>Sex</th>\n",
       "      <th>Age</th>\n",
       "      <th>SibSp</th>\n",
       "      <th>Parch</th>\n",
       "      <th>has_cabin</th>\n",
       "      <th>child</th>\n",
       "      <th>is_alone</th>\n",
       "      <th>calculated_fare</th>\n",
       "      <th>title_ Miss</th>\n",
       "      <th>title_ Mr</th>\n",
       "      <th>title_ Mrs</th>\n",
       "      <th>title_ rare</th>\n",
       "      <th>Pclass_2</th>\n",
       "      <th>Pclass_3</th>\n",
       "      <th>Cabin_B</th>\n",
       "      <th>Cabin_C</th>\n",
       "      <th>Cabin_D</th>\n",
       "      <th>Cabin_E</th>\n",
       "      <th>Cabin_F</th>\n",
       "      <th>Cabin_G</th>\n",
       "      <th>Cabin_N</th>\n",
       "      <th>Embarked_Q</th>\n",
       "      <th>Embarked_S</th>\n",
       "      <th>nLength_group_long</th>\n",
       "      <th>nLength_group_medium</th>\n",
       "      <th>nLength_group_short</th>\n",
       "      <th>family_group_loner</th>\n",
       "      <th>family_group_small</th>\n",
       "      <th>fare_group_high</th>\n",
       "      <th>fare_group_low</th>\n",
       "      <th>fare_group_mid</th>\n",
       "      <th>fare_group_very_high</th>\n",
       "    </tr>\n",
       "  </thead>\n",
       "  <tbody>\n",
       "    <tr>\n",
       "      <th>0</th>\n",
       "      <td>0</td>\n",
       "      <td>1</td>\n",
       "      <td>22.0</td>\n",
       "      <td>1</td>\n",
       "      <td>0</td>\n",
       "      <td>0</td>\n",
       "      <td>0</td>\n",
       "      <td>0</td>\n",
       "      <td>3.62500</td>\n",
       "      <td>0</td>\n",
       "      <td>1</td>\n",
       "      <td>0</td>\n",
       "      <td>0</td>\n",
       "      <td>0</td>\n",
       "      <td>1</td>\n",
       "      <td>0</td>\n",
       "      <td>0</td>\n",
       "      <td>0</td>\n",
       "      <td>0</td>\n",
       "      <td>0</td>\n",
       "      <td>0</td>\n",
       "      <td>1</td>\n",
       "      <td>0</td>\n",
       "      <td>1</td>\n",
       "      <td>0</td>\n",
       "      <td>1</td>\n",
       "      <td>0</td>\n",
       "      <td>0</td>\n",
       "      <td>1</td>\n",
       "      <td>0</td>\n",
       "      <td>0</td>\n",
       "      <td>0</td>\n",
       "      <td>0</td>\n",
       "    </tr>\n",
       "    <tr>\n",
       "      <th>1</th>\n",
       "      <td>1</td>\n",
       "      <td>0</td>\n",
       "      <td>38.0</td>\n",
       "      <td>1</td>\n",
       "      <td>0</td>\n",
       "      <td>1</td>\n",
       "      <td>0</td>\n",
       "      <td>0</td>\n",
       "      <td>35.64165</td>\n",
       "      <td>0</td>\n",
       "      <td>0</td>\n",
       "      <td>1</td>\n",
       "      <td>0</td>\n",
       "      <td>0</td>\n",
       "      <td>0</td>\n",
       "      <td>0</td>\n",
       "      <td>1</td>\n",
       "      <td>0</td>\n",
       "      <td>0</td>\n",
       "      <td>0</td>\n",
       "      <td>0</td>\n",
       "      <td>0</td>\n",
       "      <td>0</td>\n",
       "      <td>0</td>\n",
       "      <td>1</td>\n",
       "      <td>0</td>\n",
       "      <td>0</td>\n",
       "      <td>0</td>\n",
       "      <td>1</td>\n",
       "      <td>1</td>\n",
       "      <td>0</td>\n",
       "      <td>0</td>\n",
       "      <td>0</td>\n",
       "    </tr>\n",
       "    <tr>\n",
       "      <th>2</th>\n",
       "      <td>1</td>\n",
       "      <td>0</td>\n",
       "      <td>26.0</td>\n",
       "      <td>0</td>\n",
       "      <td>0</td>\n",
       "      <td>0</td>\n",
       "      <td>0</td>\n",
       "      <td>1</td>\n",
       "      <td>7.92500</td>\n",
       "      <td>1</td>\n",
       "      <td>0</td>\n",
       "      <td>0</td>\n",
       "      <td>0</td>\n",
       "      <td>0</td>\n",
       "      <td>1</td>\n",
       "      <td>0</td>\n",
       "      <td>0</td>\n",
       "      <td>0</td>\n",
       "      <td>0</td>\n",
       "      <td>0</td>\n",
       "      <td>0</td>\n",
       "      <td>1</td>\n",
       "      <td>0</td>\n",
       "      <td>1</td>\n",
       "      <td>0</td>\n",
       "      <td>1</td>\n",
       "      <td>0</td>\n",
       "      <td>1</td>\n",
       "      <td>0</td>\n",
       "      <td>0</td>\n",
       "      <td>1</td>\n",
       "      <td>0</td>\n",
       "      <td>0</td>\n",
       "    </tr>\n",
       "    <tr>\n",
       "      <th>3</th>\n",
       "      <td>1</td>\n",
       "      <td>0</td>\n",
       "      <td>35.0</td>\n",
       "      <td>1</td>\n",
       "      <td>0</td>\n",
       "      <td>1</td>\n",
       "      <td>0</td>\n",
       "      <td>0</td>\n",
       "      <td>26.55000</td>\n",
       "      <td>0</td>\n",
       "      <td>0</td>\n",
       "      <td>1</td>\n",
       "      <td>0</td>\n",
       "      <td>0</td>\n",
       "      <td>0</td>\n",
       "      <td>0</td>\n",
       "      <td>1</td>\n",
       "      <td>0</td>\n",
       "      <td>0</td>\n",
       "      <td>0</td>\n",
       "      <td>0</td>\n",
       "      <td>0</td>\n",
       "      <td>0</td>\n",
       "      <td>1</td>\n",
       "      <td>0</td>\n",
       "      <td>0</td>\n",
       "      <td>0</td>\n",
       "      <td>0</td>\n",
       "      <td>1</td>\n",
       "      <td>1</td>\n",
       "      <td>0</td>\n",
       "      <td>0</td>\n",
       "      <td>0</td>\n",
       "    </tr>\n",
       "    <tr>\n",
       "      <th>4</th>\n",
       "      <td>0</td>\n",
       "      <td>1</td>\n",
       "      <td>35.0</td>\n",
       "      <td>0</td>\n",
       "      <td>0</td>\n",
       "      <td>0</td>\n",
       "      <td>0</td>\n",
       "      <td>1</td>\n",
       "      <td>8.05000</td>\n",
       "      <td>0</td>\n",
       "      <td>1</td>\n",
       "      <td>0</td>\n",
       "      <td>0</td>\n",
       "      <td>0</td>\n",
       "      <td>1</td>\n",
       "      <td>0</td>\n",
       "      <td>0</td>\n",
       "      <td>0</td>\n",
       "      <td>0</td>\n",
       "      <td>0</td>\n",
       "      <td>0</td>\n",
       "      <td>1</td>\n",
       "      <td>0</td>\n",
       "      <td>1</td>\n",
       "      <td>0</td>\n",
       "      <td>1</td>\n",
       "      <td>0</td>\n",
       "      <td>1</td>\n",
       "      <td>0</td>\n",
       "      <td>0</td>\n",
       "      <td>1</td>\n",
       "      <td>0</td>\n",
       "      <td>0</td>\n",
       "    </tr>\n",
       "  </tbody>\n",
       "</table>\n",
       "</div>"
      ],
      "text/plain": [
       "   Survived  Sex   Age  SibSp  Parch  has_cabin  child  is_alone  \\\n",
       "0         0    1  22.0      1      0          0      0         0   \n",
       "1         1    0  38.0      1      0          1      0         0   \n",
       "2         1    0  26.0      0      0          0      0         1   \n",
       "3         1    0  35.0      1      0          1      0         0   \n",
       "4         0    1  35.0      0      0          0      0         1   \n",
       "\n",
       "   calculated_fare  title_ Miss  title_ Mr  title_ Mrs  title_ rare  Pclass_2  \\\n",
       "0          3.62500            0          1           0            0         0   \n",
       "1         35.64165            0          0           1            0         0   \n",
       "2          7.92500            1          0           0            0         0   \n",
       "3         26.55000            0          0           1            0         0   \n",
       "4          8.05000            0          1           0            0         0   \n",
       "\n",
       "   Pclass_3  Cabin_B  Cabin_C  Cabin_D  Cabin_E  Cabin_F  Cabin_G  Cabin_N  \\\n",
       "0         1        0        0        0        0        0        0        1   \n",
       "1         0        0        1        0        0        0        0        0   \n",
       "2         1        0        0        0        0        0        0        1   \n",
       "3         0        0        1        0        0        0        0        0   \n",
       "4         1        0        0        0        0        0        0        1   \n",
       "\n",
       "   Embarked_Q  Embarked_S  nLength_group_long  nLength_group_medium  \\\n",
       "0           0           1                   0                     1   \n",
       "1           0           0                   1                     0   \n",
       "2           0           1                   0                     1   \n",
       "3           0           1                   0                     0   \n",
       "4           0           1                   0                     1   \n",
       "\n",
       "   nLength_group_short  family_group_loner  family_group_small  \\\n",
       "0                    0                   0                   1   \n",
       "1                    0                   0                   1   \n",
       "2                    0                   1                   0   \n",
       "3                    0                   0                   1   \n",
       "4                    0                   1                   0   \n",
       "\n",
       "   fare_group_high  fare_group_low  fare_group_mid  fare_group_very_high  \n",
       "0                0               0               0                     0  \n",
       "1                1               0               0                     0  \n",
       "2                0               1               0                     0  \n",
       "3                1               0               0                     0  \n",
       "4                0               1               0                     0  "
      ]
     },
     "execution_count": 68,
     "metadata": {},
     "output_type": "execute_result"
    }
   ],
   "source": [
    "pd.options.display.max_columns = 99\n",
    "train.head()"
   ]
  },
  {
   "cell_type": "code",
   "execution_count": 69,
   "metadata": {
    "_cell_guid": "5589b4ed-912e-4024-8a37-18f422c2c8cc",
    "_uuid": "7158d48bad5630700448e7e10408fee86377c083"
   },
   "outputs": [
    {
     "data": {
      "text/html": [
       "<div>\n",
       "<style scoped>\n",
       "    .dataframe tbody tr th:only-of-type {\n",
       "        vertical-align: middle;\n",
       "    }\n",
       "\n",
       "    .dataframe tbody tr th {\n",
       "        vertical-align: top;\n",
       "    }\n",
       "\n",
       "    .dataframe thead th {\n",
       "        text-align: right;\n",
       "    }\n",
       "</style>\n",
       "<table border=\"1\" class=\"dataframe\">\n",
       "  <thead>\n",
       "    <tr style=\"text-align: right;\">\n",
       "      <th></th>\n",
       "      <th>Age</th>\n",
       "      <th>Survived</th>\n",
       "      <th>Sex</th>\n",
       "      <th>SibSp</th>\n",
       "      <th>Parch</th>\n",
       "      <th>has_cabin</th>\n",
       "      <th>child</th>\n",
       "      <th>is_alone</th>\n",
       "      <th>calculated_fare</th>\n",
       "      <th>title_ Miss</th>\n",
       "      <th>title_ Mr</th>\n",
       "      <th>title_ Mrs</th>\n",
       "      <th>title_ rare</th>\n",
       "      <th>Pclass_2</th>\n",
       "      <th>Pclass_3</th>\n",
       "      <th>Cabin_B</th>\n",
       "      <th>Cabin_C</th>\n",
       "      <th>Cabin_D</th>\n",
       "      <th>Cabin_E</th>\n",
       "      <th>Cabin_F</th>\n",
       "      <th>Cabin_G</th>\n",
       "      <th>Cabin_N</th>\n",
       "      <th>Embarked_Q</th>\n",
       "      <th>Embarked_S</th>\n",
       "      <th>nLength_group_long</th>\n",
       "      <th>nLength_group_medium</th>\n",
       "      <th>nLength_group_short</th>\n",
       "      <th>family_group_loner</th>\n",
       "      <th>family_group_small</th>\n",
       "      <th>fare_group_high</th>\n",
       "      <th>fare_group_low</th>\n",
       "      <th>fare_group_mid</th>\n",
       "      <th>fare_group_very_high</th>\n",
       "    </tr>\n",
       "  </thead>\n",
       "  <tbody>\n",
       "    <tr>\n",
       "      <th>0</th>\n",
       "      <td>22.0</td>\n",
       "      <td>0</td>\n",
       "      <td>1</td>\n",
       "      <td>1</td>\n",
       "      <td>0</td>\n",
       "      <td>0</td>\n",
       "      <td>0</td>\n",
       "      <td>0</td>\n",
       "      <td>3.62500</td>\n",
       "      <td>0</td>\n",
       "      <td>1</td>\n",
       "      <td>0</td>\n",
       "      <td>0</td>\n",
       "      <td>0</td>\n",
       "      <td>1</td>\n",
       "      <td>0</td>\n",
       "      <td>0</td>\n",
       "      <td>0</td>\n",
       "      <td>0</td>\n",
       "      <td>0</td>\n",
       "      <td>0</td>\n",
       "      <td>1</td>\n",
       "      <td>0</td>\n",
       "      <td>1</td>\n",
       "      <td>0</td>\n",
       "      <td>1</td>\n",
       "      <td>0</td>\n",
       "      <td>0</td>\n",
       "      <td>1</td>\n",
       "      <td>0</td>\n",
       "      <td>0</td>\n",
       "      <td>0</td>\n",
       "      <td>0</td>\n",
       "    </tr>\n",
       "    <tr>\n",
       "      <th>1</th>\n",
       "      <td>38.0</td>\n",
       "      <td>1</td>\n",
       "      <td>0</td>\n",
       "      <td>1</td>\n",
       "      <td>0</td>\n",
       "      <td>1</td>\n",
       "      <td>0</td>\n",
       "      <td>0</td>\n",
       "      <td>35.64165</td>\n",
       "      <td>0</td>\n",
       "      <td>0</td>\n",
       "      <td>1</td>\n",
       "      <td>0</td>\n",
       "      <td>0</td>\n",
       "      <td>0</td>\n",
       "      <td>0</td>\n",
       "      <td>1</td>\n",
       "      <td>0</td>\n",
       "      <td>0</td>\n",
       "      <td>0</td>\n",
       "      <td>0</td>\n",
       "      <td>0</td>\n",
       "      <td>0</td>\n",
       "      <td>0</td>\n",
       "      <td>1</td>\n",
       "      <td>0</td>\n",
       "      <td>0</td>\n",
       "      <td>0</td>\n",
       "      <td>1</td>\n",
       "      <td>1</td>\n",
       "      <td>0</td>\n",
       "      <td>0</td>\n",
       "      <td>0</td>\n",
       "    </tr>\n",
       "    <tr>\n",
       "      <th>2</th>\n",
       "      <td>26.0</td>\n",
       "      <td>1</td>\n",
       "      <td>0</td>\n",
       "      <td>0</td>\n",
       "      <td>0</td>\n",
       "      <td>0</td>\n",
       "      <td>0</td>\n",
       "      <td>1</td>\n",
       "      <td>7.92500</td>\n",
       "      <td>1</td>\n",
       "      <td>0</td>\n",
       "      <td>0</td>\n",
       "      <td>0</td>\n",
       "      <td>0</td>\n",
       "      <td>1</td>\n",
       "      <td>0</td>\n",
       "      <td>0</td>\n",
       "      <td>0</td>\n",
       "      <td>0</td>\n",
       "      <td>0</td>\n",
       "      <td>0</td>\n",
       "      <td>1</td>\n",
       "      <td>0</td>\n",
       "      <td>1</td>\n",
       "      <td>0</td>\n",
       "      <td>1</td>\n",
       "      <td>0</td>\n",
       "      <td>1</td>\n",
       "      <td>0</td>\n",
       "      <td>0</td>\n",
       "      <td>1</td>\n",
       "      <td>0</td>\n",
       "      <td>0</td>\n",
       "    </tr>\n",
       "    <tr>\n",
       "      <th>3</th>\n",
       "      <td>35.0</td>\n",
       "      <td>1</td>\n",
       "      <td>0</td>\n",
       "      <td>1</td>\n",
       "      <td>0</td>\n",
       "      <td>1</td>\n",
       "      <td>0</td>\n",
       "      <td>0</td>\n",
       "      <td>26.55000</td>\n",
       "      <td>0</td>\n",
       "      <td>0</td>\n",
       "      <td>1</td>\n",
       "      <td>0</td>\n",
       "      <td>0</td>\n",
       "      <td>0</td>\n",
       "      <td>0</td>\n",
       "      <td>1</td>\n",
       "      <td>0</td>\n",
       "      <td>0</td>\n",
       "      <td>0</td>\n",
       "      <td>0</td>\n",
       "      <td>0</td>\n",
       "      <td>0</td>\n",
       "      <td>1</td>\n",
       "      <td>0</td>\n",
       "      <td>0</td>\n",
       "      <td>0</td>\n",
       "      <td>0</td>\n",
       "      <td>1</td>\n",
       "      <td>1</td>\n",
       "      <td>0</td>\n",
       "      <td>0</td>\n",
       "      <td>0</td>\n",
       "    </tr>\n",
       "    <tr>\n",
       "      <th>4</th>\n",
       "      <td>35.0</td>\n",
       "      <td>0</td>\n",
       "      <td>1</td>\n",
       "      <td>0</td>\n",
       "      <td>0</td>\n",
       "      <td>0</td>\n",
       "      <td>0</td>\n",
       "      <td>1</td>\n",
       "      <td>8.05000</td>\n",
       "      <td>0</td>\n",
       "      <td>1</td>\n",
       "      <td>0</td>\n",
       "      <td>0</td>\n",
       "      <td>0</td>\n",
       "      <td>1</td>\n",
       "      <td>0</td>\n",
       "      <td>0</td>\n",
       "      <td>0</td>\n",
       "      <td>0</td>\n",
       "      <td>0</td>\n",
       "      <td>0</td>\n",
       "      <td>1</td>\n",
       "      <td>0</td>\n",
       "      <td>1</td>\n",
       "      <td>0</td>\n",
       "      <td>1</td>\n",
       "      <td>0</td>\n",
       "      <td>1</td>\n",
       "      <td>0</td>\n",
       "      <td>0</td>\n",
       "      <td>1</td>\n",
       "      <td>0</td>\n",
       "      <td>0</td>\n",
       "    </tr>\n",
       "  </tbody>\n",
       "</table>\n",
       "</div>"
      ],
      "text/plain": [
       "    Age  Survived  Sex  SibSp  Parch  has_cabin  child  is_alone  \\\n",
       "0  22.0         0    1      1      0          0      0         0   \n",
       "1  38.0         1    0      1      0          1      0         0   \n",
       "2  26.0         1    0      0      0          0      0         1   \n",
       "3  35.0         1    0      1      0          1      0         0   \n",
       "4  35.0         0    1      0      0          0      0         1   \n",
       "\n",
       "   calculated_fare  title_ Miss  title_ Mr  title_ Mrs  title_ rare  Pclass_2  \\\n",
       "0          3.62500            0          1           0            0         0   \n",
       "1         35.64165            0          0           1            0         0   \n",
       "2          7.92500            1          0           0            0         0   \n",
       "3         26.55000            0          0           1            0         0   \n",
       "4          8.05000            0          1           0            0         0   \n",
       "\n",
       "   Pclass_3  Cabin_B  Cabin_C  Cabin_D  Cabin_E  Cabin_F  Cabin_G  Cabin_N  \\\n",
       "0         1        0        0        0        0        0        0        1   \n",
       "1         0        0        1        0        0        0        0        0   \n",
       "2         1        0        0        0        0        0        0        1   \n",
       "3         0        0        1        0        0        0        0        0   \n",
       "4         1        0        0        0        0        0        0        1   \n",
       "\n",
       "   Embarked_Q  Embarked_S  nLength_group_long  nLength_group_medium  \\\n",
       "0           0           1                   0                     1   \n",
       "1           0           0                   1                     0   \n",
       "2           0           1                   0                     1   \n",
       "3           0           1                   0                     0   \n",
       "4           0           1                   0                     1   \n",
       "\n",
       "   nLength_group_short  family_group_loner  family_group_small  \\\n",
       "0                    0                   0                   1   \n",
       "1                    0                   0                   1   \n",
       "2                    0                   1                   0   \n",
       "3                    0                   0                   1   \n",
       "4                    0                   1                   0   \n",
       "\n",
       "   fare_group_high  fare_group_low  fare_group_mid  fare_group_very_high  \n",
       "0                0               0               0                     0  \n",
       "1                1               0               0                     0  \n",
       "2                0               1               0                     0  \n",
       "3                1               0               0                     0  \n",
       "4                0               1               0                     0  "
      ]
     },
     "execution_count": 69,
     "metadata": {},
     "output_type": "execute_result"
    }
   ],
   "source": [
    "front = train['Age']\n",
    "train.drop(labels=['Age'], axis=1,inplace = True)\n",
    "train.insert(0, 'Age', front)\n",
    "train.head()"
   ]
  },
  {
   "cell_type": "code",
   "execution_count": 70,
   "metadata": {
    "_cell_guid": "71210f46-0e80-4a23-81d7-5faf3f2d9c23",
    "_uuid": "fe9c95b446e438df502af84471d33ababab28e0c"
   },
   "outputs": [
    {
     "data": {
      "text/html": [
       "<div>\n",
       "<style scoped>\n",
       "    .dataframe tbody tr th:only-of-type {\n",
       "        vertical-align: middle;\n",
       "    }\n",
       "\n",
       "    .dataframe tbody tr th {\n",
       "        vertical-align: top;\n",
       "    }\n",
       "\n",
       "    .dataframe thead th {\n",
       "        text-align: right;\n",
       "    }\n",
       "</style>\n",
       "<table border=\"1\" class=\"dataframe\">\n",
       "  <thead>\n",
       "    <tr style=\"text-align: right;\">\n",
       "      <th></th>\n",
       "      <th>Age</th>\n",
       "      <th>Sex</th>\n",
       "      <th>SibSp</th>\n",
       "      <th>Parch</th>\n",
       "      <th>has_cabin</th>\n",
       "      <th>child</th>\n",
       "      <th>is_alone</th>\n",
       "      <th>calculated_fare</th>\n",
       "      <th>title_ Miss</th>\n",
       "      <th>title_ Mr</th>\n",
       "      <th>title_ Mrs</th>\n",
       "      <th>title_ rare</th>\n",
       "      <th>Pclass_2</th>\n",
       "      <th>Pclass_3</th>\n",
       "      <th>Cabin_B</th>\n",
       "      <th>Cabin_C</th>\n",
       "      <th>Cabin_D</th>\n",
       "      <th>Cabin_E</th>\n",
       "      <th>Cabin_F</th>\n",
       "      <th>Cabin_G</th>\n",
       "      <th>Cabin_N</th>\n",
       "      <th>Embarked_Q</th>\n",
       "      <th>Embarked_S</th>\n",
       "      <th>nLength_group_long</th>\n",
       "      <th>nLength_group_medium</th>\n",
       "      <th>nLength_group_short</th>\n",
       "      <th>family_group_loner</th>\n",
       "      <th>family_group_small</th>\n",
       "      <th>fare_group_high</th>\n",
       "      <th>fare_group_low</th>\n",
       "      <th>fare_group_mid</th>\n",
       "      <th>fare_group_very_high</th>\n",
       "    </tr>\n",
       "  </thead>\n",
       "  <tbody>\n",
       "    <tr>\n",
       "      <th>0</th>\n",
       "      <td>34.5</td>\n",
       "      <td>1</td>\n",
       "      <td>0</td>\n",
       "      <td>0</td>\n",
       "      <td>0</td>\n",
       "      <td>0</td>\n",
       "      <td>1</td>\n",
       "      <td>7.829200</td>\n",
       "      <td>0</td>\n",
       "      <td>1</td>\n",
       "      <td>0</td>\n",
       "      <td>0</td>\n",
       "      <td>0</td>\n",
       "      <td>1</td>\n",
       "      <td>0</td>\n",
       "      <td>0</td>\n",
       "      <td>0</td>\n",
       "      <td>0</td>\n",
       "      <td>0</td>\n",
       "      <td>0</td>\n",
       "      <td>1</td>\n",
       "      <td>1</td>\n",
       "      <td>0</td>\n",
       "      <td>0</td>\n",
       "      <td>0</td>\n",
       "      <td>1</td>\n",
       "      <td>1</td>\n",
       "      <td>0</td>\n",
       "      <td>0</td>\n",
       "      <td>1</td>\n",
       "      <td>0</td>\n",
       "      <td>0</td>\n",
       "    </tr>\n",
       "    <tr>\n",
       "      <th>1</th>\n",
       "      <td>47.0</td>\n",
       "      <td>0</td>\n",
       "      <td>1</td>\n",
       "      <td>0</td>\n",
       "      <td>0</td>\n",
       "      <td>0</td>\n",
       "      <td>0</td>\n",
       "      <td>3.500000</td>\n",
       "      <td>0</td>\n",
       "      <td>0</td>\n",
       "      <td>1</td>\n",
       "      <td>0</td>\n",
       "      <td>0</td>\n",
       "      <td>1</td>\n",
       "      <td>0</td>\n",
       "      <td>0</td>\n",
       "      <td>0</td>\n",
       "      <td>0</td>\n",
       "      <td>0</td>\n",
       "      <td>0</td>\n",
       "      <td>1</td>\n",
       "      <td>0</td>\n",
       "      <td>1</td>\n",
       "      <td>0</td>\n",
       "      <td>1</td>\n",
       "      <td>0</td>\n",
       "      <td>0</td>\n",
       "      <td>1</td>\n",
       "      <td>0</td>\n",
       "      <td>0</td>\n",
       "      <td>0</td>\n",
       "      <td>0</td>\n",
       "    </tr>\n",
       "    <tr>\n",
       "      <th>2</th>\n",
       "      <td>62.0</td>\n",
       "      <td>1</td>\n",
       "      <td>0</td>\n",
       "      <td>0</td>\n",
       "      <td>0</td>\n",
       "      <td>0</td>\n",
       "      <td>1</td>\n",
       "      <td>9.687500</td>\n",
       "      <td>0</td>\n",
       "      <td>1</td>\n",
       "      <td>0</td>\n",
       "      <td>0</td>\n",
       "      <td>1</td>\n",
       "      <td>0</td>\n",
       "      <td>0</td>\n",
       "      <td>0</td>\n",
       "      <td>0</td>\n",
       "      <td>0</td>\n",
       "      <td>0</td>\n",
       "      <td>0</td>\n",
       "      <td>1</td>\n",
       "      <td>1</td>\n",
       "      <td>0</td>\n",
       "      <td>0</td>\n",
       "      <td>1</td>\n",
       "      <td>0</td>\n",
       "      <td>1</td>\n",
       "      <td>0</td>\n",
       "      <td>0</td>\n",
       "      <td>1</td>\n",
       "      <td>0</td>\n",
       "      <td>0</td>\n",
       "    </tr>\n",
       "    <tr>\n",
       "      <th>3</th>\n",
       "      <td>27.0</td>\n",
       "      <td>1</td>\n",
       "      <td>0</td>\n",
       "      <td>0</td>\n",
       "      <td>0</td>\n",
       "      <td>0</td>\n",
       "      <td>1</td>\n",
       "      <td>8.662500</td>\n",
       "      <td>0</td>\n",
       "      <td>1</td>\n",
       "      <td>0</td>\n",
       "      <td>0</td>\n",
       "      <td>0</td>\n",
       "      <td>1</td>\n",
       "      <td>0</td>\n",
       "      <td>0</td>\n",
       "      <td>0</td>\n",
       "      <td>0</td>\n",
       "      <td>0</td>\n",
       "      <td>0</td>\n",
       "      <td>1</td>\n",
       "      <td>0</td>\n",
       "      <td>1</td>\n",
       "      <td>0</td>\n",
       "      <td>0</td>\n",
       "      <td>1</td>\n",
       "      <td>1</td>\n",
       "      <td>0</td>\n",
       "      <td>0</td>\n",
       "      <td>1</td>\n",
       "      <td>0</td>\n",
       "      <td>0</td>\n",
       "    </tr>\n",
       "    <tr>\n",
       "      <th>4</th>\n",
       "      <td>22.0</td>\n",
       "      <td>0</td>\n",
       "      <td>1</td>\n",
       "      <td>1</td>\n",
       "      <td>0</td>\n",
       "      <td>0</td>\n",
       "      <td>0</td>\n",
       "      <td>4.095833</td>\n",
       "      <td>0</td>\n",
       "      <td>0</td>\n",
       "      <td>1</td>\n",
       "      <td>0</td>\n",
       "      <td>0</td>\n",
       "      <td>1</td>\n",
       "      <td>0</td>\n",
       "      <td>0</td>\n",
       "      <td>0</td>\n",
       "      <td>0</td>\n",
       "      <td>0</td>\n",
       "      <td>0</td>\n",
       "      <td>1</td>\n",
       "      <td>0</td>\n",
       "      <td>1</td>\n",
       "      <td>0</td>\n",
       "      <td>0</td>\n",
       "      <td>0</td>\n",
       "      <td>0</td>\n",
       "      <td>1</td>\n",
       "      <td>0</td>\n",
       "      <td>1</td>\n",
       "      <td>0</td>\n",
       "      <td>0</td>\n",
       "    </tr>\n",
       "  </tbody>\n",
       "</table>\n",
       "</div>"
      ],
      "text/plain": [
       "    Age  Sex  SibSp  Parch  has_cabin  child  is_alone  calculated_fare  \\\n",
       "0  34.5    1      0      0          0      0         1         7.829200   \n",
       "1  47.0    0      1      0          0      0         0         3.500000   \n",
       "2  62.0    1      0      0          0      0         1         9.687500   \n",
       "3  27.0    1      0      0          0      0         1         8.662500   \n",
       "4  22.0    0      1      1          0      0         0         4.095833   \n",
       "\n",
       "   title_ Miss  title_ Mr  title_ Mrs  title_ rare  Pclass_2  Pclass_3  \\\n",
       "0            0          1           0            0         0         1   \n",
       "1            0          0           1            0         0         1   \n",
       "2            0          1           0            0         1         0   \n",
       "3            0          1           0            0         0         1   \n",
       "4            0          0           1            0         0         1   \n",
       "\n",
       "   Cabin_B  Cabin_C  Cabin_D  Cabin_E  Cabin_F  Cabin_G  Cabin_N  Embarked_Q  \\\n",
       "0        0        0        0        0        0        0        1           1   \n",
       "1        0        0        0        0        0        0        1           0   \n",
       "2        0        0        0        0        0        0        1           1   \n",
       "3        0        0        0        0        0        0        1           0   \n",
       "4        0        0        0        0        0        0        1           0   \n",
       "\n",
       "   Embarked_S  nLength_group_long  nLength_group_medium  nLength_group_short  \\\n",
       "0           0                   0                     0                    1   \n",
       "1           1                   0                     1                    0   \n",
       "2           0                   0                     1                    0   \n",
       "3           1                   0                     0                    1   \n",
       "4           1                   0                     0                    0   \n",
       "\n",
       "   family_group_loner  family_group_small  fare_group_high  fare_group_low  \\\n",
       "0                   1                   0                0               1   \n",
       "1                   0                   1                0               0   \n",
       "2                   1                   0                0               1   \n",
       "3                   1                   0                0               1   \n",
       "4                   0                   1                0               1   \n",
       "\n",
       "   fare_group_mid  fare_group_very_high  \n",
       "0               0                     0  \n",
       "1               0                     0  \n",
       "2               0                     0  \n",
       "3               0                     0  \n",
       "4               0                     0  "
      ]
     },
     "execution_count": 70,
     "metadata": {},
     "output_type": "execute_result"
    }
   ],
   "source": [
    "front = test['Age']\n",
    "test.drop(labels=['Age'], axis=1,inplace = True)\n",
    "test.insert(0, 'Age', front)\n",
    "test.head()"
   ]
  },
  {
   "cell_type": "code",
   "execution_count": 71,
   "metadata": {
    "_uuid": "d9bec0d150f15ebae0648353b0424657803fa326"
   },
   "outputs": [
    {
     "data": {
      "text/plain": [
       "Age                     177\n",
       "Survived                  0\n",
       "Sex                       0\n",
       "SibSp                     0\n",
       "Parch                     0\n",
       "has_cabin                 0\n",
       "child                     0\n",
       "is_alone                  0\n",
       "calculated_fare           0\n",
       "title_ Miss               0\n",
       "title_ Mr                 0\n",
       "title_ Mrs                0\n",
       "title_ rare               0\n",
       "Pclass_2                  0\n",
       "Pclass_3                  0\n",
       "Cabin_B                   0\n",
       "Cabin_C                   0\n",
       "Cabin_D                   0\n",
       "Cabin_E                   0\n",
       "Cabin_F                   0\n",
       "Cabin_G                   0\n",
       "Cabin_N                   0\n",
       "Embarked_Q                0\n",
       "Embarked_S                0\n",
       "nLength_group_long        0\n",
       "nLength_group_medium      0\n",
       "nLength_group_short       0\n",
       "family_group_loner        0\n",
       "family_group_small        0\n",
       "fare_group_high           0\n",
       "fare_group_low            0\n",
       "fare_group_mid            0\n",
       "fare_group_very_high      0\n",
       "dtype: int64"
      ]
     },
     "execution_count": 71,
     "metadata": {},
     "output_type": "execute_result"
    }
   ],
   "source": [
    "train.isnull().sum()"
   ]
  },
  {
   "cell_type": "code",
   "execution_count": 72,
   "metadata": {
    "_uuid": "257be0f4c021dd8766ba2836a6cc269ae1d7e1f9"
   },
   "outputs": [
    {
     "data": {
      "text/html": [
       "<div>\n",
       "<style scoped>\n",
       "    .dataframe tbody tr th:only-of-type {\n",
       "        vertical-align: middle;\n",
       "    }\n",
       "\n",
       "    .dataframe tbody tr th {\n",
       "        vertical-align: top;\n",
       "    }\n",
       "\n",
       "    .dataframe thead th {\n",
       "        text-align: right;\n",
       "    }\n",
       "</style>\n",
       "<table border=\"1\" class=\"dataframe\">\n",
       "  <thead>\n",
       "    <tr style=\"text-align: right;\">\n",
       "      <th></th>\n",
       "      <th>Age</th>\n",
       "      <th>Survived</th>\n",
       "      <th>Sex</th>\n",
       "      <th>SibSp</th>\n",
       "      <th>Parch</th>\n",
       "      <th>has_cabin</th>\n",
       "      <th>child</th>\n",
       "      <th>is_alone</th>\n",
       "      <th>calculated_fare</th>\n",
       "      <th>title_ Miss</th>\n",
       "      <th>title_ Mr</th>\n",
       "      <th>title_ Mrs</th>\n",
       "      <th>title_ rare</th>\n",
       "      <th>Pclass_2</th>\n",
       "      <th>Pclass_3</th>\n",
       "      <th>Cabin_B</th>\n",
       "      <th>Cabin_C</th>\n",
       "      <th>Cabin_D</th>\n",
       "      <th>Cabin_E</th>\n",
       "      <th>Cabin_F</th>\n",
       "      <th>Cabin_G</th>\n",
       "      <th>Cabin_N</th>\n",
       "      <th>Embarked_Q</th>\n",
       "      <th>Embarked_S</th>\n",
       "      <th>nLength_group_long</th>\n",
       "      <th>nLength_group_medium</th>\n",
       "      <th>nLength_group_short</th>\n",
       "      <th>family_group_loner</th>\n",
       "      <th>family_group_small</th>\n",
       "      <th>fare_group_high</th>\n",
       "      <th>fare_group_low</th>\n",
       "      <th>fare_group_mid</th>\n",
       "      <th>fare_group_very_high</th>\n",
       "    </tr>\n",
       "  </thead>\n",
       "  <tbody>\n",
       "    <tr>\n",
       "      <th>0</th>\n",
       "      <td>22.0</td>\n",
       "      <td>0</td>\n",
       "      <td>1</td>\n",
       "      <td>1</td>\n",
       "      <td>0</td>\n",
       "      <td>0</td>\n",
       "      <td>0</td>\n",
       "      <td>0</td>\n",
       "      <td>3.62500</td>\n",
       "      <td>0</td>\n",
       "      <td>1</td>\n",
       "      <td>0</td>\n",
       "      <td>0</td>\n",
       "      <td>0</td>\n",
       "      <td>1</td>\n",
       "      <td>0</td>\n",
       "      <td>0</td>\n",
       "      <td>0</td>\n",
       "      <td>0</td>\n",
       "      <td>0</td>\n",
       "      <td>0</td>\n",
       "      <td>1</td>\n",
       "      <td>0</td>\n",
       "      <td>1</td>\n",
       "      <td>0</td>\n",
       "      <td>1</td>\n",
       "      <td>0</td>\n",
       "      <td>0</td>\n",
       "      <td>1</td>\n",
       "      <td>0</td>\n",
       "      <td>0</td>\n",
       "      <td>0</td>\n",
       "      <td>0</td>\n",
       "    </tr>\n",
       "    <tr>\n",
       "      <th>1</th>\n",
       "      <td>38.0</td>\n",
       "      <td>1</td>\n",
       "      <td>0</td>\n",
       "      <td>1</td>\n",
       "      <td>0</td>\n",
       "      <td>1</td>\n",
       "      <td>0</td>\n",
       "      <td>0</td>\n",
       "      <td>35.64165</td>\n",
       "      <td>0</td>\n",
       "      <td>0</td>\n",
       "      <td>1</td>\n",
       "      <td>0</td>\n",
       "      <td>0</td>\n",
       "      <td>0</td>\n",
       "      <td>0</td>\n",
       "      <td>1</td>\n",
       "      <td>0</td>\n",
       "      <td>0</td>\n",
       "      <td>0</td>\n",
       "      <td>0</td>\n",
       "      <td>0</td>\n",
       "      <td>0</td>\n",
       "      <td>0</td>\n",
       "      <td>1</td>\n",
       "      <td>0</td>\n",
       "      <td>0</td>\n",
       "      <td>0</td>\n",
       "      <td>1</td>\n",
       "      <td>1</td>\n",
       "      <td>0</td>\n",
       "      <td>0</td>\n",
       "      <td>0</td>\n",
       "    </tr>\n",
       "    <tr>\n",
       "      <th>2</th>\n",
       "      <td>26.0</td>\n",
       "      <td>1</td>\n",
       "      <td>0</td>\n",
       "      <td>0</td>\n",
       "      <td>0</td>\n",
       "      <td>0</td>\n",
       "      <td>0</td>\n",
       "      <td>1</td>\n",
       "      <td>7.92500</td>\n",
       "      <td>1</td>\n",
       "      <td>0</td>\n",
       "      <td>0</td>\n",
       "      <td>0</td>\n",
       "      <td>0</td>\n",
       "      <td>1</td>\n",
       "      <td>0</td>\n",
       "      <td>0</td>\n",
       "      <td>0</td>\n",
       "      <td>0</td>\n",
       "      <td>0</td>\n",
       "      <td>0</td>\n",
       "      <td>1</td>\n",
       "      <td>0</td>\n",
       "      <td>1</td>\n",
       "      <td>0</td>\n",
       "      <td>1</td>\n",
       "      <td>0</td>\n",
       "      <td>1</td>\n",
       "      <td>0</td>\n",
       "      <td>0</td>\n",
       "      <td>1</td>\n",
       "      <td>0</td>\n",
       "      <td>0</td>\n",
       "    </tr>\n",
       "    <tr>\n",
       "      <th>3</th>\n",
       "      <td>35.0</td>\n",
       "      <td>1</td>\n",
       "      <td>0</td>\n",
       "      <td>1</td>\n",
       "      <td>0</td>\n",
       "      <td>1</td>\n",
       "      <td>0</td>\n",
       "      <td>0</td>\n",
       "      <td>26.55000</td>\n",
       "      <td>0</td>\n",
       "      <td>0</td>\n",
       "      <td>1</td>\n",
       "      <td>0</td>\n",
       "      <td>0</td>\n",
       "      <td>0</td>\n",
       "      <td>0</td>\n",
       "      <td>1</td>\n",
       "      <td>0</td>\n",
       "      <td>0</td>\n",
       "      <td>0</td>\n",
       "      <td>0</td>\n",
       "      <td>0</td>\n",
       "      <td>0</td>\n",
       "      <td>1</td>\n",
       "      <td>0</td>\n",
       "      <td>0</td>\n",
       "      <td>0</td>\n",
       "      <td>0</td>\n",
       "      <td>1</td>\n",
       "      <td>1</td>\n",
       "      <td>0</td>\n",
       "      <td>0</td>\n",
       "      <td>0</td>\n",
       "    </tr>\n",
       "    <tr>\n",
       "      <th>4</th>\n",
       "      <td>35.0</td>\n",
       "      <td>0</td>\n",
       "      <td>1</td>\n",
       "      <td>0</td>\n",
       "      <td>0</td>\n",
       "      <td>0</td>\n",
       "      <td>0</td>\n",
       "      <td>1</td>\n",
       "      <td>8.05000</td>\n",
       "      <td>0</td>\n",
       "      <td>1</td>\n",
       "      <td>0</td>\n",
       "      <td>0</td>\n",
       "      <td>0</td>\n",
       "      <td>1</td>\n",
       "      <td>0</td>\n",
       "      <td>0</td>\n",
       "      <td>0</td>\n",
       "      <td>0</td>\n",
       "      <td>0</td>\n",
       "      <td>0</td>\n",
       "      <td>1</td>\n",
       "      <td>0</td>\n",
       "      <td>1</td>\n",
       "      <td>0</td>\n",
       "      <td>1</td>\n",
       "      <td>0</td>\n",
       "      <td>1</td>\n",
       "      <td>0</td>\n",
       "      <td>0</td>\n",
       "      <td>1</td>\n",
       "      <td>0</td>\n",
       "      <td>0</td>\n",
       "    </tr>\n",
       "  </tbody>\n",
       "</table>\n",
       "</div>"
      ],
      "text/plain": [
       "    Age  Survived  Sex  SibSp  Parch  has_cabin  child  is_alone  \\\n",
       "0  22.0         0    1      1      0          0      0         0   \n",
       "1  38.0         1    0      1      0          1      0         0   \n",
       "2  26.0         1    0      0      0          0      0         1   \n",
       "3  35.0         1    0      1      0          1      0         0   \n",
       "4  35.0         0    1      0      0          0      0         1   \n",
       "\n",
       "   calculated_fare  title_ Miss  title_ Mr  title_ Mrs  title_ rare  Pclass_2  \\\n",
       "0          3.62500            0          1           0            0         0   \n",
       "1         35.64165            0          0           1            0         0   \n",
       "2          7.92500            1          0           0            0         0   \n",
       "3         26.55000            0          0           1            0         0   \n",
       "4          8.05000            0          1           0            0         0   \n",
       "\n",
       "   Pclass_3  Cabin_B  Cabin_C  Cabin_D  Cabin_E  Cabin_F  Cabin_G  Cabin_N  \\\n",
       "0         1        0        0        0        0        0        0        1   \n",
       "1         0        0        1        0        0        0        0        0   \n",
       "2         1        0        0        0        0        0        0        1   \n",
       "3         0        0        1        0        0        0        0        0   \n",
       "4         1        0        0        0        0        0        0        1   \n",
       "\n",
       "   Embarked_Q  Embarked_S  nLength_group_long  nLength_group_medium  \\\n",
       "0           0           1                   0                     1   \n",
       "1           0           0                   1                     0   \n",
       "2           0           1                   0                     1   \n",
       "3           0           1                   0                     0   \n",
       "4           0           1                   0                     1   \n",
       "\n",
       "   nLength_group_short  family_group_loner  family_group_small  \\\n",
       "0                    0                   0                   1   \n",
       "1                    0                   0                   1   \n",
       "2                    0                   1                   0   \n",
       "3                    0                   0                   1   \n",
       "4                    0                   1                   0   \n",
       "\n",
       "   fare_group_high  fare_group_low  fare_group_mid  fare_group_very_high  \n",
       "0                0               0               0                     0  \n",
       "1                1               0               0                     0  \n",
       "2                0               1               0                     0  \n",
       "3                1               0               0                     0  \n",
       "4                0               1               0                     0  "
      ]
     },
     "execution_count": 72,
     "metadata": {},
     "output_type": "execute_result"
    }
   ],
   "source": [
    "train.head()"
   ]
  },
  {
   "cell_type": "code",
   "execution_count": 73,
   "metadata": {
    "_uuid": "e5a98a22e2f6e1afc8de8a53ea4759b0766d8706"
   },
   "outputs": [],
   "source": [
    "train.Age.fillna(train.Age.mean(), inplace=True)"
   ]
  },
  {
   "cell_type": "code",
   "execution_count": 74,
   "metadata": {
    "_uuid": "ba7f9eff571fa68515e9512b53460b7a6371aa3f"
   },
   "outputs": [],
   "source": [
    "test.Age.fillna(test.Age.mean(), inplace=True)"
   ]
  },
  {
   "cell_type": "code",
   "execution_count": 75,
   "metadata": {
    "_cell_guid": "3140c968-6755-42ec-aa70-d30c0acede1e",
    "_uuid": "c3bd77bb4d9d5411aa696a605be127db181d2a67"
   },
   "outputs": [],
   "source": [
    "## create bins for age\n",
    "def age_group_fun(age):\n",
    "    a = ''\n",
    "    if age <= 1:\n",
    "        a = 'infant'\n",
    "    elif age <= 4: \n",
    "        a = 'toddler'\n",
    "    elif age <= 13:\n",
    "        a = 'child'\n",
    "    elif age <= 18:\n",
    "        a = 'teenager'\n",
    "    elif age <= 35:\n",
    "        a = 'Young_Adult'\n",
    "    elif age <= 45:\n",
    "        a = 'adult'\n",
    "    elif age <= 55:\n",
    "        a = 'middle_aged'\n",
    "    elif age <= 65:\n",
    "        a = 'senior_citizen'\n",
    "    else:\n",
    "        a = 'old'\n",
    "    return a\n",
    "        "
   ]
  },
  {
   "cell_type": "code",
   "execution_count": 76,
   "metadata": {
    "_cell_guid": "086b9907-d13f-485e-ace1-9316faa7d9c6",
    "_uuid": "cf7bc7bd0aec6387594b3cf5a5b194070972efdb"
   },
   "outputs": [],
   "source": [
    "train['age_group'] = train['Age'].map(age_group_fun)\n",
    "test['age_group'] = test['Age'].map(age_group_fun)"
   ]
  },
  {
   "cell_type": "code",
   "execution_count": 77,
   "metadata": {
    "_cell_guid": "e9e3524e-6ec2-4c2d-bc04-1bad6c345551",
    "_uuid": "6f900463e93cfb2263ac9e08ba5960bdf0974caf"
   },
   "outputs": [],
   "source": [
    "train = pd.get_dummies(train,columns=['age_group'], drop_first=True)\n",
    "test = pd.get_dummies(test,columns=['age_group'], drop_first=True)"
   ]
  },
  {
   "cell_type": "code",
   "execution_count": 78,
   "metadata": {
    "_cell_guid": "8ebf2d48-79e2-41f7-a122-e42299065711",
    "_uuid": "fe218a3f174b191520fe26822a803e47938cdc18"
   },
   "outputs": [
    {
     "data": {
      "text/plain": [
       "\"train.drop('Age', axis=1, inplace=True)\\ntest.drop('Age', axis=1, inplace=True)\""
      ]
     },
     "execution_count": 78,
     "metadata": {},
     "output_type": "execute_result"
    }
   ],
   "source": [
    "\"\"\"train.drop('Age', axis=1, inplace=True)\n",
    "test.drop('Age', axis=1, inplace=True)\"\"\""
   ]
  },
  {
   "cell_type": "markdown",
   "metadata": {
    "_cell_guid": "9de7bf55-edfb-42e0-a235-7fee883001d9",
    "_uuid": "8eb07418adf26340ec68fa41401e68d08603f6d4"
   },
   "source": [
    "# Part 6: Pre-Modeling Tasks"
   ]
  },
  {
   "cell_type": "markdown",
   "metadata": {
    "_cell_guid": "378c509a-3feb-4f88-bf96-9f30408a6a8b",
    "_uuid": "f6dd42c9626f14e638a43d8ce6c97aa582add45f"
   },
   "source": [
    "## 6a. Separating dependent and independent variables\n",
    "<a id=\"dependent_independent\"></a>\n",
    "***"
   ]
  },
  {
   "cell_type": "code",
   "execution_count": 79,
   "metadata": {
    "_cell_guid": "dcb0934f-8e3f-40b6-859e-abf70b0b074e",
    "_uuid": "607db6be6dfacc7385e5adcc0feeee28c50c99c5"
   },
   "outputs": [],
   "source": [
    "# separating our independent and dependent variable\n",
    "X = train.drop(['Survived'], axis=1)\n",
    "y = train[\"Survived\"]"
   ]
  },
  {
   "cell_type": "code",
   "execution_count": 80,
   "metadata": {
    "_cell_guid": "56d13f45-c6fa-4ea3-a00c-48e21381ad2b",
    "_uuid": "7fe2b1b0035159e61aa4dbc3bb7617bd098f0fd6",
    "scrolled": true
   },
   "outputs": [],
   "source": [
    "#age_filled_data_nor = NuclearNormMinimization().complete(df1)\n",
    "#Data_1 = pd.DataFrame(age_filled_data, columns = df1.columns)\n",
    "#pd.DataFrame(zip(Data[\"Age\"],Data_1[\"Age\"],df[\"Age\"]))"
   ]
  },
  {
   "cell_type": "markdown",
   "metadata": {
    "_cell_guid": "042502ae-2714-43e2-9e33-6705b1aa781a",
    "_uuid": "92001d23ce79265c0f7d2b3d6f67094feeec2ea7"
   },
   "source": [
    "## 6b. Splitting the training data\n",
    "<a id=\"split_training_data\" ></a>\n",
    "***\n"
   ]
  },
  {
   "cell_type": "code",
   "execution_count": 81,
   "metadata": {
    "_cell_guid": "348a5be2-5f4f-4c98-93a3-7352b6060ef4",
    "_uuid": "41b70e57f8e03da9910c20af89a9fa4a2aaea85b"
   },
   "outputs": [],
   "source": [
    "from sklearn.model_selection import train_test_split\n",
    "x_train, x_test, y_train, y_test = train_test_split(X,y,test_size = .33, random_state = 0)"
   ]
  },
  {
   "cell_type": "markdown",
   "metadata": {
    "_cell_guid": "1f920690-2084-498c-a2fa-e618ad2228d8",
    "_uuid": "75407683b262fb65fc4afdfca6084d4ddaebe9a9"
   },
   "source": [
    "## 6c. Feature Scaling\n",
    "<a id=\"feature_scaling\" ></a>\n",
    "***\n"
   ]
  },
  {
   "cell_type": "code",
   "execution_count": 82,
   "metadata": {
    "_cell_guid": "5c89c54b-7f5a-4e31-9e8f-58726cef5eab",
    "_uuid": "182b849ba7f2b311e919cdbf83970b97736e9d98"
   },
   "outputs": [],
   "source": [
    "# Feature Scaling\n",
    "from sklearn.preprocessing import StandardScaler\n",
    "sc = StandardScaler()\n",
    "x_train = sc.fit_transform(x_train)\n",
    "x_test = sc.transform(x_test)"
   ]
  },
  {
   "cell_type": "code",
   "execution_count": 83,
   "metadata": {
    "_cell_guid": "8ea09a0c-5535-4ced-b29c-9f55c1d5c995",
    "_uuid": "b0d0228690152531deb6077329ef77b6a52ce387"
   },
   "outputs": [],
   "source": [
    "test = sc.transform(test)"
   ]
  },
  {
   "cell_type": "markdown",
   "metadata": {
    "_cell_guid": "0e03e40b-789a-40a0-a095-135f3d1c8f23",
    "_uuid": "99e108b83ba88738e42480b053371d60d89151cf"
   },
   "source": [
    "# Part 7: Modeling the Data\n",
    "<a id=\"modelingthedata\"></a>\n",
    "***\n",
    "I will train the data with the following models:\n",
    "- Logistic Regression\n",
    "- K-Nearest Neighbors(KNN)\n",
    "- Gaussian Naive Bayes\n",
    "- Support Vector Machines\n",
    "- Decision Tree Classifier\n",
    "- Bagging on Decision Tree Classifier\n",
    "- Random Forest Classifier\n",
    "- Gradient Boosting Classifier\n",
    "\n"
   ]
  },
  {
   "cell_type": "code",
   "execution_count": 84,
   "metadata": {
    "_cell_guid": "de1ff578-6121-4cfc-8a12-457fc8a46877",
    "_uuid": "b27a2ad6bd206f9ece72f55467a00ece2bf3a099"
   },
   "outputs": [],
   "source": [
    "## Necessary modules for creating models. \n",
    "from sklearn.tree import DecisionTreeClassifier\n",
    "from sklearn.model_selection import cross_val_score, StratifiedKFold\n",
    "from sklearn.linear_model import LogisticRegression\n",
    "from sklearn.metrics import mean_squared_error\n",
    "from sklearn.ensemble import BaggingClassifier\n",
    "from sklearn.metrics import accuracy_score,classification_report, precision_recall_curve, confusion_matrix"
   ]
  },
  {
   "cell_type": "markdown",
   "metadata": {
    "_cell_guid": "9ddfa2c2-77d8-4bdb-8dae-979c41f9a42a",
    "_uuid": "120c4ad3aeb29647637f82bd533495f73b415b22"
   },
   "source": [
    "## 7a. Logistic Regression\n",
    "<a id=\"logistic_regression\"></a>\n",
    "***"
   ]
  },
  {
   "cell_type": "markdown",
   "metadata": {
    "_cell_guid": "32c2b31e-d40d-4c2e-9cc1-c92c50c8eeb8",
    "_uuid": "9c2a29a70b474f65f228d0cfc7ccc9ba6fb627fe"
   },
   "source": [
    "Let's run the logistic regression model first with out any hyper parameter tuning. "
   ]
  },
  {
   "cell_type": "code",
   "execution_count": 85,
   "metadata": {
    "_cell_guid": "0c8b0c41-6738-4689-85b0-b83a16e46ab9",
    "_uuid": "09140be1a71e37b441a16951a82747462b767e6e"
   },
   "outputs": [
    {
     "name": "stdout",
     "output_type": "stream",
     "text": [
      "0.829\n"
     ]
    }
   ],
   "source": [
    "from sklearn.linear_model import LogisticRegression\n",
    "logreg = LogisticRegression()\n",
    "logreg.fit(x_train,y_train)\n",
    "y_pred = logreg.predict(x_test)\n",
    "\n",
    "# Applying k-Fold Cross Validation\n",
    "from sklearn.model_selection import cross_val_score\n",
    "accuracies = cross_val_score(estimator = logreg, X = x_train, y = y_train, cv = 10, n_jobs = -1)\n",
    "logreg_accy = accuracies.mean()\n",
    "print (round((logreg_accy),3))"
   ]
  },
  {
   "cell_type": "code",
   "execution_count": 86,
   "metadata": {
    "_cell_guid": "a8ce9ef7-171d-4be7-bf67-0a33b26f1f49",
    "_uuid": "cfb0b55684608d56a87593a0da23c2672c9d3552"
   },
   "outputs": [],
   "source": [
    "#note: this is an alternative to train_test_split\n",
    "##from sklearn import model_selection\n",
    "##cv_split = model_selection.ShuffleSplit(n_splits = 10, test_size = .3, train_size = .6, random_state = 0 ) # run model 10x with 60/30 split intentionally leaving out 10%\n",
    "##cv_results = model_selection.cross_validate(logreg, X,y, cv  = cv_split)"
   ]
  },
  {
   "cell_type": "code",
   "execution_count": 87,
   "metadata": {
    "_cell_guid": "74bcce2d-18a9-40f5-b7e3-1545d435eb2a",
    "_uuid": "fbce40af235293e9b0f5014d4bb5d3dec299f7bf"
   },
   "outputs": [],
   "source": [
    "##print (cv_results)\n",
    "##cv_results['train_score'].mean()"
   ]
  },
  {
   "cell_type": "markdown",
   "metadata": {
    "_cell_guid": "d1f2930c-43ae-4c15-87f7-ccc9214ee0e1",
    "_uuid": "b8020ecfe44bebdf7a2b95ec49393e8baac6bcf9"
   },
   "source": [
    "### Grid Search on Logistic Regression"
   ]
  },
  {
   "cell_type": "code",
   "execution_count": 88,
   "metadata": {
    "_cell_guid": "0620523c-b33b-4302-8a1c-4b6759ffa5fa",
    "_uuid": "36a379a00a31dd161be1723f65490990294fe13d"
   },
   "outputs": [],
   "source": [
    "C_vals = [0.099,0.1,0.2,0.5,12,13,14,15,16,16.5,17,17.5,18]\n",
    "penalties = ['l1','l2']\n",
    "\n",
    "param = {'penalty': penalties, \n",
    "         'C': C_vals \n",
    "        }\n",
    "grid_search = GridSearchCV(estimator=logreg, \n",
    "                           param_grid = param,\n",
    "                           scoring = 'accuracy', \n",
    "                           cv = 10\n",
    "                          )"
   ]
  },
  {
   "cell_type": "code",
   "execution_count": 89,
   "metadata": {
    "_cell_guid": "1e140d37-a3d1-407c-a1e2-a078864c8b42",
    "_uuid": "150c64f6731b800c3f477127bea1a4af8312308a"
   },
   "outputs": [],
   "source": [
    "grid_search = grid_search.fit(x_train, y_train)"
   ]
  },
  {
   "cell_type": "code",
   "execution_count": 90,
   "metadata": {
    "_cell_guid": "13bcbe24-9cba-4554-b74d-0bbaf013f5ee",
    "_uuid": "fff732f386a54696531fe637d94a147285a20804"
   },
   "outputs": [
    {
     "name": "stdout",
     "output_type": "stream",
     "text": [
      "{'C': 0.2, 'penalty': 'l1'}\n",
      "0.8417508417508418\n"
     ]
    }
   ],
   "source": [
    "print (grid_search.best_params_)\n",
    "print (grid_search.best_score_)"
   ]
  },
  {
   "cell_type": "code",
   "execution_count": 91,
   "metadata": {
    "_cell_guid": "1fa35072-87c4-4f47-86ab-dda03d4b7b15",
    "_uuid": "4c6650e39550527b271ddf733dcfe5221bcd5c98"
   },
   "outputs": [],
   "source": [
    "logreg_grid = grid_search.best_estimator_"
   ]
  },
  {
   "cell_type": "code",
   "execution_count": 92,
   "metadata": {
    "_cell_guid": "e252dbf3-efcb-42dc-8a3f-0b9e322cea5f",
    "_uuid": "f03b30d30f90375249b8aa0477288d992e6d06f6",
    "scrolled": true
   },
   "outputs": [
    {
     "data": {
      "text/plain": [
       "0.8061224489795918"
      ]
     },
     "execution_count": 92,
     "metadata": {},
     "output_type": "execute_result"
    }
   ],
   "source": [
    "logreg_accy = logreg_grid.score(x_test, y_test)\n",
    "logreg_accy"
   ]
  },
  {
   "cell_type": "code",
   "execution_count": 93,
   "metadata": {
    "_cell_guid": "84051c83-32f6-454d-b2fd-eee6a38b2399",
    "_uuid": "59bbe4e98beeba446048bd3c2c98b98072bbede1"
   },
   "outputs": [
    {
     "name": "stdout",
     "output_type": "stream",
     "text": [
      "             precision    recall  f1-score   support\n",
      "\n",
      "          0       0.83      0.84      0.83       177\n",
      "          1       0.75      0.74      0.75       117\n",
      "\n",
      "avg / total       0.80      0.80      0.80       294\n",
      "\n",
      "[[148  30]\n",
      " [ 29  87]]\n"
     ]
    }
   ],
   "source": [
    "print (classification_report(y_test, y_pred, labels=logreg_grid.classes_))\n",
    "print (confusion_matrix(y_pred, y_test))"
   ]
  },
  {
   "cell_type": "code",
   "execution_count": 94,
   "metadata": {
    "_cell_guid": "ad27c80f-000f-4cea-87c0-0f6739027f81",
    "_uuid": "475d9e64b1d82e891bb0eb4000dcd9375326d283",
    "scrolled": false
   },
   "outputs": [
    {
     "name": "stdout",
     "output_type": "stream",
     "text": [
      "0.840987010478536\n"
     ]
    },
    {
     "data": {
      "image/png": "[encoded data removed]",
      "text/plain": [
       "<Figure size 792x648 with 1 Axes>"
      ]
     },
     "metadata": {},
     "output_type": "display_data"
    }
   ],
   "source": [
    "from sklearn.metrics import roc_curve, auc\n",
    "plt.style.use('seaborn-pastel')\n",
    "y_score = logreg_grid.decision_function(x_test)\n",
    "\n",
    "FPR, TPR, _ = roc_curve(y_test, y_score)\n",
    "ROC_AUC = auc(FPR, TPR)\n",
    "print (ROC_AUC)\n",
    "\n",
    "plt.figure(figsize =[11,9])\n",
    "plt.plot(FPR, TPR, label= 'ROC curve(area = %0.2f)'%ROC_AUC, linewidth= 4)\n",
    "plt.plot([0,1],[0,1], 'k--', linewidth = 4)\n",
    "plt.xlim([0.0,1.0])\n",
    "plt.ylim([0.0,1.05])\n",
    "plt.xlabel('False Positive Rate', fontsize = 18)\n",
    "plt.ylabel('True Positive Rate', fontsize = 18)\n",
    "plt.title('ROC for Titanic survivors', fontsize= 18)\n",
    "plt.show()"
   ]
  },
  {
   "cell_type": "code",
   "execution_count": 95,
   "metadata": {
    "_cell_guid": "17e277c7-7d14-490e-ba47-9c093b813cb7",
    "_uuid": "5fa6be7351bb8cf42991dfc7764cc47e5e734f9e",
    "scrolled": false
   },
   "outputs": [
    {
     "data": {
      "image/png": "[encoded data removed]",
      "text/plain": [
       "<Figure size 792x648 with 1 Axes>"
      ]
     },
     "metadata": {},
     "output_type": "display_data"
    }
   ],
   "source": [
    "plt.style.use('seaborn-pastel')\n",
    "\n",
    "y_score = logreg_grid.decision_function(x_test)\n",
    "\n",
    "precision, recall, _ = precision_recall_curve(y_test, y_score)\n",
    "PR_AUC = auc(recall, precision)\n",
    "\n",
    "plt.figure(figsize=[11,9])\n",
    "plt.plot(recall, precision, label='PR curve (area = %0.2f)' % PR_AUC, linewidth=4)\n",
    "plt.xlabel('Recall', fontsize=18)\n",
    "plt.ylabel('Precision', fontsize=18)\n",
    "plt.title('Precision Recall Curve for Titanic survivors', fontsize=18)\n",
    "plt.legend(loc=\"lower right\")\n",
    "plt.show()"
   ]
  },
  {
   "cell_type": "markdown",
   "metadata": {
    "_cell_guid": "8046e4d9-12db-4b1c-9e9e-31fd5e6543f2",
    "_uuid": "26b0ea9184b2c37eabe4e705b1c840956ecc1e10"
   },
   "source": [
    "## 7b. K-Nearest Neighbor classifier(KNN)\n",
    "<a id=\"knn\"></a>\n",
    "***"
   ]
  },
  {
   "cell_type": "code",
   "execution_count": 96,
   "metadata": {
    "_cell_guid": "1b64aa28-84bb-4642-918e-a5f695c55df4",
    "_uuid": "2f90530b6fdbf688c0ca8b8e803dedb1cd814874"
   },
   "outputs": [
    {
     "name": "stdout",
     "output_type": "stream",
     "text": [
      "[18, 0.7925170068027211]\n"
     ]
    },
    {
     "data": {
      "text/plain": [
       "[<matplotlib.lines.Line2D at 0x1a23d38860>]"
      ]
     },
     "execution_count": 96,
     "metadata": {},
     "output_type": "execute_result"
    },
    {
     "data": {
      "image/png": "[encoded data removed]",
      "text/plain": [
       "<Figure size 432x288 with 1 Axes>"
      ]
     },
     "metadata": {},
     "output_type": "display_data"
    }
   ],
   "source": [
    "from sklearn.neighbors import KNeighborsClassifier\n",
    "## choosing the best n_neighbors\n",
    "nn_scores = []\n",
    "best_prediction = [-1,-1]\n",
    "for i in range(1,100):\n",
    "    knn = KNeighborsClassifier(n_neighbors=i, weights='distance', metric='minkowski', p =2)\n",
    "    knn.fit(x_train,y_train)\n",
    "    score = accuracy_score(y_test, knn.predict(x_test))\n",
    "    #print i, score\n",
    "    if score > best_prediction[1]:\n",
    "        best_prediction = [i, score]\n",
    "    nn_scores.append(score)\n",
    "    \n",
    "print (best_prediction)\n",
    "plt.plot(range(1,100),nn_scores)"
   ]
  },
  {
   "cell_type": "code",
   "execution_count": 97,
   "metadata": {
    "_cell_guid": "a28c1875-c5b2-43a4-8762-c7f5f8943f4b",
    "_uuid": "4db8c923cbce0de1dbfd6c705b18f328e429bd7b"
   },
   "outputs": [
    {
     "name": "stdout",
     "output_type": "stream",
     "text": [
      "0.765\n"
     ]
    }
   ],
   "source": [
    "from sklearn.neighbors import KNeighborsClassifier\n",
    "\n",
    "knn = KNeighborsClassifier()\n",
    "#n_neighbors: specifies how many neighbors will vote on the class\n",
    "#weights: uniform weights indicate that all neighbors have the same weight while \"distance\" indicates\n",
    "        # that points closest to the \n",
    "#metric and p: when distance is minkowski (the default) and p == 2 (the default), this is equivalent to the euclidean distance metric\n",
    "knn.fit(x_train, y_train)\n",
    "y_pred = knn.predict(x_test)\n",
    "knn_accy = round(accuracy_score(y_test, y_pred), 3)\n",
    "print (knn_accy)"
   ]
  },
  {
   "cell_type": "markdown",
   "metadata": {
    "_cell_guid": "0be691b8-3815-4f13-bec0-15332602bb1d",
    "_uuid": "1e93bcea0745748e7daa356b4cabde5fbe438791"
   },
   "source": [
    "### Grid search on KNN classifier"
   ]
  },
  {
   "cell_type": "code",
   "execution_count": 98,
   "metadata": {
    "_cell_guid": "417bebbf-230f-4155-84e2-056051c33b9a",
    "_uuid": "62ee05c718077fdd53fe958f9991d8cd42e2c6e5"
   },
   "outputs": [
    {
     "data": {
      "text/plain": [
       "GridSearchCV(cv=StratifiedKFold(n_splits=5, random_state=15, shuffle=True),\n",
       "       error_score='raise',\n",
       "       estimator=KNeighborsClassifier(algorithm='auto', leaf_size=30, metric='minkowski',\n",
       "           metric_params=None, n_jobs=1, n_neighbors=5, p=2,\n",
       "           weights='uniform'),\n",
       "       fit_params=None, iid=True, n_jobs=1,\n",
       "       param_grid={'n_neighbors': [1, 2, 3, 4, 5, 6, 7, 8, 9, 10], 'weights': ['uniform', 'distance']},\n",
       "       pre_dispatch='2*n_jobs', refit=True, return_train_score='warn',\n",
       "       scoring=None, verbose=False)"
      ]
     },
     "execution_count": 98,
     "metadata": {},
     "output_type": "execute_result"
    }
   ],
   "source": [
    "n_neighbors=[1,2,3,4,5,6,7,8,9,10]\n",
    "weights=['uniform','distance']\n",
    "param = {'n_neighbors':n_neighbors, \n",
    "         'weights':weights}\n",
    "grid2 = GridSearchCV(knn, \n",
    "                     param,\n",
    "                     verbose=False, \n",
    "                     cv=StratifiedKFold(n_splits=5, random_state=15, shuffle=True)\n",
    "                    )\n",
    "grid2.fit(x_train, y_train)"
   ]
  },
  {
   "cell_type": "code",
   "execution_count": 99,
   "metadata": {
    "_cell_guid": "52465cd1-56bc-4551-84b7-bf26544e1060",
    "_uuid": "15f71120c72701afb38c447dec03c00fa352fabb"
   },
   "outputs": [
    {
     "name": "stdout",
     "output_type": "stream",
     "text": [
      "{'n_neighbors': 5, 'weights': 'uniform'}\n",
      "0.8063973063973064\n"
     ]
    }
   ],
   "source": [
    "print (grid2.best_params_)\n",
    "print (grid2.best_score_)"
   ]
  },
  {
   "cell_type": "code",
   "execution_count": 100,
   "metadata": {
    "_cell_guid": "b032244f-0aab-4cb3-8784-a63e25594a22",
    "_uuid": "02cb28168504a0aaa39d12c4c8ac40a5a8ccc2d9"
   },
   "outputs": [],
   "source": [
    "## using grid search to fit the best model.\n",
    "knn_grid = grid2.best_estimator_"
   ]
  },
  {
   "cell_type": "code",
   "execution_count": 101,
   "metadata": {
    "_cell_guid": "244e8fdd-374c-4742-a6b9-5c1f30a08962",
    "_uuid": "f64d6170c6c10f160a3ea060efc3ae34c4dc1dd4",
    "scrolled": true
   },
   "outputs": [
    {
     "data": {
      "text/plain": [
       "0.7653061224489796"
      ]
     },
     "execution_count": 101,
     "metadata": {},
     "output_type": "execute_result"
    }
   ],
   "source": [
    "##accuracy_score =(knn_grid.predict(x_test), y_test)\n",
    "knn_accy = knn_grid.score(x_test, y_test)\n",
    "knn_accy"
   ]
  },
  {
   "cell_type": "markdown",
   "metadata": {
    "_cell_guid": "be0143d6-a7ea-4752-9520-c692f4c3eb8a",
    "_uuid": "21e91edd53b6587d5a05036045bc5eea52f056da"
   },
   "source": [
    "## 7c. Gaussian Naive Bayes\n",
    "<a id=\"gaussian_naive\"></a>\n",
    "***"
   ]
  },
  {
   "cell_type": "code",
   "execution_count": 102,
   "metadata": {
    "_cell_guid": "95c1dce5-740c-415d-a14a-2da0d896f2b8",
    "_uuid": "78d35b7ee7dd810937f8c3ee76c56bc1e3571d67"
   },
   "outputs": [
    {
     "name": "stdout",
     "output_type": "stream",
     "text": [
      "0.765\n"
     ]
    }
   ],
   "source": [
    "# Gaussian Naive Bayes\n",
    "from sklearn.naive_bayes import GaussianNB\n",
    "from sklearn.metrics import accuracy_score\n",
    "\n",
    "gaussian = GaussianNB()\n",
    "gaussian.fit(x_train, y_train)\n",
    "y_pred = gaussian.predict(x_test)\n",
    "gaussian_accy = round(accuracy_score(y_pred, y_test), 3)\n",
    "print(gaussian_accy)"
   ]
  },
  {
   "cell_type": "markdown",
   "metadata": {
    "_cell_guid": "c3e025c5-50f3-4fa1-a385-438d6665199b",
    "_uuid": "2a1558118d9e673395246acc4f3c0edb1b1895f0"
   },
   "source": [
    "## 7d. Support Vector Machines\n",
    "<a id=\"svm\"></a>\n",
    "***"
   ]
  },
  {
   "cell_type": "code",
   "execution_count": 103,
   "metadata": {
    "_cell_guid": "4ae57d39-8d9b-4a97-8a33-4f397e6f4af4",
    "_uuid": "bf78845a91abdb658794401ea242cef312eba977"
   },
   "outputs": [
    {
     "name": "stdout",
     "output_type": "stream",
     "text": [
      "0.789\n"
     ]
    }
   ],
   "source": [
    "# Support Vector Machines\n",
    "from sklearn.svm import SVC\n",
    "\n",
    "svc = SVC(kernel = 'rbf', probability=True, random_state = 1, C = 3)\n",
    "svc.fit(x_train, y_train)\n",
    "y_pred = svc.predict(x_test)\n",
    "svc_accy = round(accuracy_score(y_pred, y_test), 3)\n",
    "print(svc_accy)"
   ]
  },
  {
   "cell_type": "markdown",
   "metadata": {
    "_cell_guid": "296e2062-4bc4-448d-9cde-c780cdad9000",
    "_uuid": "b83a19edc0919954644e8d69e0ae175843197727"
   },
   "source": [
    "## 7e. Decision Tree Classifier\n",
    "<a id=\"decision_tree\"></a>\n",
    "***"
   ]
  },
  {
   "cell_type": "code",
   "execution_count": 104,
   "metadata": {
    "_cell_guid": "145d5589-dcb6-4b74-be65-8596ea656033",
    "_uuid": "a708d6a22d57f51df4213b7bf4d6177eea848e0f"
   },
   "outputs": [
    {
     "name": "stdout",
     "output_type": "stream",
     "text": [
      "0.731\n"
     ]
    }
   ],
   "source": [
    "#Decision Tree\n",
    "from sklearn.tree import DecisionTreeClassifier\n",
    "\n",
    "dectree = DecisionTreeClassifier()\n",
    "dectree.fit(x_train, y_train)\n",
    "y_pred = dectree.predict(x_test)\n",
    "dectree_accy = round(accuracy_score(y_pred, y_test), 3)\n",
    "print(dectree_accy)"
   ]
  },
  {
   "cell_type": "markdown",
   "metadata": {
    "_cell_guid": "c1412aff-d0ae-414a-a317-3763185688eb",
    "_uuid": "74ff5f2b7d21ed4518e90108b6201e8e7c9b3b5e"
   },
   "source": [
    "### Grid search on Decision Tree"
   ]
  },
  {
   "cell_type": "code",
   "execution_count": 105,
   "metadata": {
    "_cell_guid": "38c90de9-d2e9-4341-a378-a854762d8be2",
    "_uuid": "18efb62b713591d1512010536ff10d9f6a91ec11"
   },
   "outputs": [
    {
     "data": {
      "text/plain": [
       "GridSearchCV(cv=StratifiedKFold(n_splits=20, random_state=15, shuffle=True),\n",
       "       error_score='raise',\n",
       "       estimator=DecisionTreeClassifier(class_weight=None, criterion='gini', max_depth=None,\n",
       "            max_features=None, max_leaf_nodes=None,\n",
       "            min_impurity_decrease=0.0, min_impurity_split=None,\n",
       "            min_samples_leaf=1, min_samples_split=2,\n",
       "            min_weight_fraction_leaf=0.0, presort=False, random_state=None,\n",
       "            splitter='best'),\n",
       "       fit_params=None, iid=True, n_jobs=-1,\n",
       "       param_grid={'max_depth': range(1, 30), 'max_features': [21, 22, 23, 24, 25, 26, 'auto'], 'criterion': ['entropy', 'gini']},\n",
       "       pre_dispatch='2*n_jobs', refit=True, return_train_score='warn',\n",
       "       scoring=None, verbose=False)"
      ]
     },
     "execution_count": 105,
     "metadata": {},
     "output_type": "execute_result"
    }
   ],
   "source": [
    "max_depth = range(1,30)\n",
    "max_feature = [21,22,23,24,25,26,'auto']\n",
    "criterion=[\"entropy\", \"gini\"]\n",
    "\n",
    "param = {'max_depth':max_depth, \n",
    "         'max_features':max_feature, \n",
    "         'criterion': criterion}\n",
    "decisiontree_grid = GridSearchCV(dectree, \n",
    "                                param_grid = param, \n",
    "                                 verbose=False, \n",
    "                                 cv=StratifiedKFold(n_splits=20, random_state=15, shuffle=True),\n",
    "                                n_jobs = -1)\n",
    "decisiontree_grid.fit(x_train, y_train) "
   ]
  },
  {
   "cell_type": "code",
   "execution_count": 106,
   "metadata": {
    "_cell_guid": "b2222e4e-f5f2-4601-b95f-506d7811610a",
    "_uuid": "b0fb5055e6b4a7fb69ef44f669c4df693ce46212",
    "scrolled": true
   },
   "outputs": [
    {
     "name": "stdout",
     "output_type": "stream",
     "text": [
      "{'criterion': 'entropy', 'max_depth': 5, 'max_features': 23}\n",
      "0.8501683501683501\n"
     ]
    }
   ],
   "source": [
    "print( decisiontree_grid.best_params_)\n",
    "print (decisiontree_grid.best_score_)\n"
   ]
  },
  {
   "cell_type": "code",
   "execution_count": 107,
   "metadata": {
    "_cell_guid": "d731079a-31b4-429a-8445-48597bb2639d",
    "_uuid": "76c26437d374442826ef140574c5c4880ae1e853"
   },
   "outputs": [],
   "source": [
    "decisiontree_grid = decisiontree_grid.best_estimator_"
   ]
  },
  {
   "cell_type": "code",
   "execution_count": 108,
   "metadata": {
    "_cell_guid": "26981149-3d86-4395-aa1a-4f225ef2c6dd",
    "_uuid": "2dbdd5134b2685b47fd9bc966b91364dcfd75b7e"
   },
   "outputs": [
    {
     "data": {
      "text/plain": [
       "0.8095238095238095"
      ]
     },
     "execution_count": 108,
     "metadata": {},
     "output_type": "execute_result"
    }
   ],
   "source": [
    "decisiontree_grid.score(x_test, y_test)"
   ]
  },
  {
   "cell_type": "markdown",
   "metadata": {
    "_cell_guid": "9c4c43f6-42c4-4cd3-a038-3f0c37f3c767",
    "_uuid": "aba2679da04529faf9f9175ab20a66ee71217f92"
   },
   "source": [
    "## 7f. Bagging Classifier\n",
    "<a id=\"bagging\"></a>\n",
    "***"
   ]
  },
  {
   "cell_type": "code",
   "execution_count": 109,
   "metadata": {
    "_cell_guid": "1dc3915b-6969-4bfa-9fa6-e062dd2d22e9",
    "_uuid": "7ef818c24bcaaa1b98b5f454af902a86c92d6eaa"
   },
   "outputs": [
    {
     "name": "stdout",
     "output_type": "stream",
     "text": [
      "0.793\n"
     ]
    }
   ],
   "source": [
    "from sklearn.ensemble import BaggingClassifier\n",
    "BaggingClassifier = BaggingClassifier()\n",
    "BaggingClassifier.fit(x_train, y_train)\n",
    "y_pred = BaggingClassifier.predict(x_test)\n",
    "bagging_accy = round(accuracy_score(y_pred, y_test), 3)\n",
    "print(bagging_accy)"
   ]
  },
  {
   "cell_type": "markdown",
   "metadata": {
    "_cell_guid": "a8ac5172-c861-43af-a26e-959e59a7561f",
    "_uuid": "2f303fbc0df2417da8c3597c9644425947d7f00e"
   },
   "source": [
    "## 7g. Random Forest Classifier\n",
    "<a id=\"random_forest\"></a>"
   ]
  },
  {
   "cell_type": "code",
   "execution_count": 110,
   "metadata": {
    "_cell_guid": "6a2109e6-1dcc-48b0-81ff-a7b6f2839e99",
    "_uuid": "2113aac53d3d0c6568cece09124755865bddda13"
   },
   "outputs": [
    {
     "name": "stdout",
     "output_type": "stream",
     "text": [
      "0.816\n"
     ]
    }
   ],
   "source": [
    "from sklearn.ensemble import RandomForestClassifier\n",
    "randomforest = RandomForestClassifier(n_estimators=100,max_depth=9,min_samples_split=6, min_samples_leaf=4)\n",
    "#randomforest = RandomForestClassifier(class_weight='balanced', n_jobs=-1)\n",
    "randomforest.fit(x_train, y_train)\n",
    "y_pred = randomforest.predict(x_test)\n",
    "random_accy = round(accuracy_score(y_pred, y_test), 3)\n",
    "print (random_accy)"
   ]
  },
  {
   "cell_type": "code",
   "execution_count": 111,
   "metadata": {
    "_cell_guid": "73ab112d-0308-4f37-992d-efd296bd1c9e",
    "_uuid": "f19b03609926684ddb364011219e4f9f02412c39"
   },
   "outputs": [],
   "source": [
    "n_estimators = [100,120]\n",
    "max_depth = range(1,30)\n",
    "\n",
    "\n",
    "\n",
    "parameters = {'n_estimators':n_estimators, \n",
    "         'max_depth':max_depth, \n",
    "        }\n",
    "randomforest_grid = GridSearchCV(randomforest,\n",
    "                                 param_grid=parameters,\n",
    "                                 cv=StratifiedKFold(n_splits=20, random_state=15, shuffle=True),\n",
    "                                 n_jobs = -1\n",
    "                                )"
   ]
  },
  {
   "cell_type": "code",
   "execution_count": 112,
   "metadata": {
    "_cell_guid": "c82e08a8-62fd-441b-bdac-0194cfea80ed",
    "_uuid": "51e23268825e8b12e34a9261b0f0b1a4ec8b5155"
   },
   "outputs": [
    {
     "data": {
      "text/plain": [
       "GridSearchCV(cv=StratifiedKFold(n_splits=20, random_state=15, shuffle=True),\n",
       "       error_score='raise',\n",
       "       estimator=RandomForestClassifier(bootstrap=True, class_weight=None, criterion='gini',\n",
       "            max_depth=9, max_features='auto', max_leaf_nodes=None,\n",
       "            min_impurity_decrease=0.0, min_impurity_split=None,\n",
       "            min_samples_leaf=4, min_samples_split=6,\n",
       "            min_weight_fraction_leaf=0.0, n_estimators=100, n_jobs=1,\n",
       "            oob_score=False, random_state=None, verbose=0,\n",
       "            warm_start=False),\n",
       "       fit_params=None, iid=True, n_jobs=-1,\n",
       "       param_grid={'n_estimators': [100, 120], 'max_depth': range(1, 30)},\n",
       "       pre_dispatch='2*n_jobs', refit=True, return_train_score='warn',\n",
       "       scoring=None, verbose=0)"
      ]
     },
     "execution_count": 112,
     "metadata": {},
     "output_type": "execute_result"
    }
   ],
   "source": [
    "randomforest_grid.fit(x_train, y_train) "
   ]
  },
  {
   "cell_type": "code",
   "execution_count": 113,
   "metadata": {
    "_cell_guid": "6d1f97ae-cd4e-42de-b9c4-1844c450ec0a",
    "_uuid": "a8df54aed5691ed37dc6671f61b99ad05bfd4208"
   },
   "outputs": [
    {
     "data": {
      "text/plain": [
       "0.8197278911564626"
      ]
     },
     "execution_count": 113,
     "metadata": {},
     "output_type": "execute_result"
    }
   ],
   "source": [
    "randomforest_grid.score(x_test, y_test)"
   ]
  },
  {
   "cell_type": "markdown",
   "metadata": {
    "_cell_guid": "6ea60e91-544f-49fc-8128-ee190e8292e7",
    "_uuid": "860921893a28a1fe9a4ce47f0779f1e7b154ca0a"
   },
   "source": [
    "## 7h. Gradient Boosting Classifier\n",
    "<a id=\"gradient_boosting\"></a>\n",
    "***"
   ]
  },
  {
   "cell_type": "code",
   "execution_count": 114,
   "metadata": {
    "_cell_guid": "d32d6df9-b8e7-4637-bacc-2baec08547b8",
    "_uuid": "fd788c4f4cde834a1329f325f1f59e3f77c37e42",
    "scrolled": true
   },
   "outputs": [
    {
     "name": "stdout",
     "output_type": "stream",
     "text": [
      "0.813\n"
     ]
    }
   ],
   "source": [
    "# Gradient Boosting Classifier\n",
    "from sklearn.ensemble import GradientBoostingClassifier\n",
    "\n",
    "gradient = GradientBoostingClassifier()\n",
    "gradient.fit(x_train, y_train)\n",
    "y_pred = gradient.predict(x_test)\n",
    "gradient_accy = round(accuracy_score(y_pred, y_test), 3)\n",
    "print(gradient_accy)"
   ]
  },
  {
   "cell_type": "markdown",
   "metadata": {
    "_cell_guid": "996b8ee8-13ff-461d-8f7b-ac0d7d488cff",
    "_uuid": "ee9c7a2ccdf93a90f929b6618105afbe699bd6de"
   },
   "source": [
    "## 7i. XGBClassifier\n",
    "<a id=\"XGBClassifier\"></a>\n",
    "***"
   ]
  },
  {
   "cell_type": "code",
   "execution_count": 115,
   "metadata": {
    "_cell_guid": "5d94cc5b-d8b7-40d3-b264-138539daabfa",
    "_uuid": "9d96154d2267ea26a6682a73bd1850026eb1303b"
   },
   "outputs": [
    {
     "name": "stdout",
     "output_type": "stream",
     "text": [
      "0.799\n"
     ]
    }
   ],
   "source": [
    "from xgboost import XGBClassifier\n",
    "XGBClassifier = XGBClassifier()\n",
    "XGBClassifier.fit(x_train, y_train)\n",
    "y_pred = XGBClassifier.predict(x_test)\n",
    "XGBClassifier_accy = round(accuracy_score(y_pred, y_test), 3)\n",
    "print(XGBClassifier_accy)"
   ]
  },
  {
   "cell_type": "markdown",
   "metadata": {
    "_cell_guid": "de2f5620-a4c5-420c-b762-cf0fea54136d",
    "_uuid": "ae62b81b2015e72e3fafb21c5b17a6d2d52a9b1a"
   },
   "source": [
    "## 7j. AdaBoost Classifier\n",
    "<a id=\"adaboost\"></a>\n",
    "***"
   ]
  },
  {
   "cell_type": "code",
   "execution_count": 116,
   "metadata": {
    "_cell_guid": "2263377d-58cc-4aad-b4ef-dec2a58e7cb8",
    "_uuid": "4b54a07cab37731d9273d6b6ed3e2100e159a549"
   },
   "outputs": [
    {
     "name": "stdout",
     "output_type": "stream",
     "text": [
      "0.793\n"
     ]
    }
   ],
   "source": [
    "from sklearn.ensemble import AdaBoostClassifier\n",
    "adaboost = AdaBoostClassifier()\n",
    "adaboost.fit(x_train, y_train)\n",
    "y_pred = adaboost.predict(x_test)\n",
    "adaboost_accy = round(accuracy_score(y_pred, y_test), 3)\n",
    "print(adaboost_accy)\n"
   ]
  },
  {
   "cell_type": "markdown",
   "metadata": {
    "_cell_guid": "a6b4c23c-b42b-4fad-b37d-c84154b3478d",
    "_uuid": "3fa68b3d2e835b1a14088102561a2f8d4dac8f5c"
   },
   "source": [
    "## 7k. Extra Trees Classifier\n",
    "<a id=\"extra_tree\"></a>\n",
    "***"
   ]
  },
  {
   "cell_type": "code",
   "execution_count": 117,
   "metadata": {
    "_cell_guid": "2e567e01-6b5f-4313-84af-cc378c3b709e",
    "_uuid": "c9b958e2488adf6f79401c677087e3250d63ac9b"
   },
   "outputs": [
    {
     "name": "stdout",
     "output_type": "stream",
     "text": [
      "0.769\n"
     ]
    }
   ],
   "source": [
    "from sklearn.ensemble import ExtraTreesClassifier\n",
    "ExtraTreesClassifier = ExtraTreesClassifier()\n",
    "ExtraTreesClassifier.fit(x_train, y_train)\n",
    "y_pred = ExtraTreesClassifier.predict(x_test)\n",
    "extraTree_accy = round(accuracy_score(y_pred, y_test), 3)\n",
    "print(extraTree_accy)\n"
   ]
  },
  {
   "cell_type": "markdown",
   "metadata": {
    "_cell_guid": "20a66dcc-7f9f-4802-aa6d-58be75e07539",
    "_uuid": "c55a54821feda82c75dde28bab7e2cf4445c4cf0"
   },
   "source": [
    "## 7l. Gaussian Process Classifier\n",
    "<a id=\"GaussianProcessClassifier\"></a>\n",
    "***"
   ]
  },
  {
   "cell_type": "code",
   "execution_count": 118,
   "metadata": {
    "_cell_guid": "23bd5744-e04d-49bb-9d70-7c2a518f76dd",
    "_uuid": "57fc008eea2ce1c0b595f888a82ddeaee6ce2177"
   },
   "outputs": [
    {
     "name": "stdout",
     "output_type": "stream",
     "text": [
      "0.765\n"
     ]
    }
   ],
   "source": [
    "from sklearn.gaussian_process import GaussianProcessClassifier\n",
    "GaussianProcessClassifier = GaussianProcessClassifier()\n",
    "GaussianProcessClassifier.fit(x_train, y_train)\n",
    "y_pred = GaussianProcessClassifier.predict(x_test)\n",
    "gau_pro_accy = round(accuracy_score(y_pred, y_test), 3)\n",
    "print(gau_pro_accy)"
   ]
  },
  {
   "cell_type": "markdown",
   "metadata": {
    "_cell_guid": "ec676e4d-0cbe-43fa-9ff8-92d76030faef",
    "_uuid": "6f89f2cb63120a4594c7b0f2883b6872aa444700"
   },
   "source": [
    "## 7m. Voting Classifier\n",
    "<a id=\"voting_classifer\"></a>\n",
    "***"
   ]
  },
  {
   "cell_type": "code",
   "execution_count": 119,
   "metadata": {
    "_cell_guid": "ac208dd3-1045-47bb-9512-de5ecb5c81b0",
    "_uuid": "821c74bbf404193219eb91fe53755d669f5a14d1"
   },
   "outputs": [],
   "source": [
    "from sklearn.ensemble import VotingClassifier\n",
    "\n",
    "voting_classifier = VotingClassifier(estimators=[\n",
    "    ('logreg_grid', logreg_grid),\n",
    "    ('logreg',logreg), \n",
    "    ('svc', svc),\n",
    "    ('random_forest', randomforest),\n",
    "    ('gradient_boosting', gradient),\n",
    "    ('decision_tree',dectree), \n",
    "    ('decision_tree_grid',decisiontree_grid), \n",
    "    ('knn',knn),\n",
    "    ('knn_grid', knn_grid),\n",
    "    ('XGB Classifier', XGBClassifier),\n",
    "    ('BaggingClassifier', BaggingClassifier),\n",
    "    ('ExtraTreesClassifier', ExtraTreesClassifier),\n",
    "    ('gaussian',gaussian),\n",
    "    ('gaussian process classifier', GaussianProcessClassifier)], voting='soft')\n",
    "\n",
    "voting_classifier = voting_classifier.fit(x_train,y_train)"
   ]
  },
  {
   "cell_type": "code",
   "execution_count": 120,
   "metadata": {
    "_cell_guid": "648ac6a6-2437-490a-bf76-1612a71126e8",
    "_uuid": "518a02ae91cc91d618e476d1fc643cd3912ee5fb"
   },
   "outputs": [
    {
     "name": "stdout",
     "output_type": "stream",
     "text": [
      "0.796\n"
     ]
    }
   ],
   "source": [
    "y_pred = voting_classifier.predict(x_test)\n",
    "voting_accy = round(accuracy_score(y_pred, y_test), 3)\n",
    "print(voting_accy)"
   ]
  },
  {
   "cell_type": "code",
   "execution_count": 121,
   "metadata": {
    "_cell_guid": "277534eb-7ec8-4359-a2f4-30f7f76611b8",
    "_uuid": "00a9b98fd4e230db427a63596a2747f05b1654c1"
   },
   "outputs": [
    {
     "data": {
      "text/html": [
       "<div>\n",
       "<style scoped>\n",
       "    .dataframe tbody tr th:only-of-type {\n",
       "        vertical-align: middle;\n",
       "    }\n",
       "\n",
       "    .dataframe tbody tr th {\n",
       "        vertical-align: top;\n",
       "    }\n",
       "\n",
       "    .dataframe thead th {\n",
       "        text-align: right;\n",
       "    }\n",
       "</style>\n",
       "<table border=\"1\" class=\"dataframe\">\n",
       "  <thead>\n",
       "    <tr style=\"text-align: right;\">\n",
       "      <th></th>\n",
       "      <th>Model</th>\n",
       "      <th>Score</th>\n",
       "    </tr>\n",
       "  </thead>\n",
       "  <tbody>\n",
       "    <tr>\n",
       "      <th>3</th>\n",
       "      <td>Random Forest</td>\n",
       "      <td>0.816000</td>\n",
       "    </tr>\n",
       "    <tr>\n",
       "      <th>6</th>\n",
       "      <td>Gradient Boosting Classifier</td>\n",
       "      <td>0.813000</td>\n",
       "    </tr>\n",
       "    <tr>\n",
       "      <th>2</th>\n",
       "      <td>Logistic Regression</td>\n",
       "      <td>0.806122</td>\n",
       "    </tr>\n",
       "    <tr>\n",
       "      <th>8</th>\n",
       "      <td>XGB Classifier</td>\n",
       "      <td>0.799000</td>\n",
       "    </tr>\n",
       "    <tr>\n",
       "      <th>7</th>\n",
       "      <td>Voting Classifier</td>\n",
       "      <td>0.796000</td>\n",
       "    </tr>\n",
       "    <tr>\n",
       "      <th>10</th>\n",
       "      <td>Bagging Classifier</td>\n",
       "      <td>0.793000</td>\n",
       "    </tr>\n",
       "    <tr>\n",
       "      <th>0</th>\n",
       "      <td>Support Vector Machines</td>\n",
       "      <td>0.789000</td>\n",
       "    </tr>\n",
       "    <tr>\n",
       "      <th>9</th>\n",
       "      <td>ExtraTrees Classifier</td>\n",
       "      <td>0.769000</td>\n",
       "    </tr>\n",
       "    <tr>\n",
       "      <th>1</th>\n",
       "      <td>KNN</td>\n",
       "      <td>0.765306</td>\n",
       "    </tr>\n",
       "    <tr>\n",
       "      <th>4</th>\n",
       "      <td>Naive Bayes</td>\n",
       "      <td>0.765000</td>\n",
       "    </tr>\n",
       "    <tr>\n",
       "      <th>5</th>\n",
       "      <td>Decision Tree</td>\n",
       "      <td>0.731000</td>\n",
       "    </tr>\n",
       "  </tbody>\n",
       "</table>\n",
       "</div>"
      ],
      "text/plain": [
       "                           Model     Score\n",
       "3                  Random Forest  0.816000\n",
       "6   Gradient Boosting Classifier  0.813000\n",
       "2            Logistic Regression  0.806122\n",
       "8                 XGB Classifier  0.799000\n",
       "7              Voting Classifier  0.796000\n",
       "10            Bagging Classifier  0.793000\n",
       "0        Support Vector Machines  0.789000\n",
       "9          ExtraTrees Classifier  0.769000\n",
       "1                            KNN  0.765306\n",
       "4                    Naive Bayes  0.765000\n",
       "5                  Decision Tree  0.731000"
      ]
     },
     "execution_count": 121,
     "metadata": {},
     "output_type": "execute_result"
    }
   ],
   "source": [
    "models = pd.DataFrame({\n",
    "    'Model': ['Support Vector Machines', 'KNN', 'Logistic Regression', \n",
    "              'Random Forest', 'Naive Bayes', \n",
    "              'Decision Tree', 'Gradient Boosting Classifier', 'Voting Classifier', 'XGB Classifier','ExtraTrees Classifier','Bagging Classifier'],\n",
    "    'Score': [svc_accy, knn_accy, logreg_accy, \n",
    "              random_accy, gaussian_accy, dectree_accy,\n",
    "               gradient_accy, voting_accy, XGBClassifier_accy, extraTree_accy, bagging_accy]})\n",
    "models.sort_values(by='Score', ascending=False)"
   ]
  },
  {
   "cell_type": "markdown",
   "metadata": {
    "_cell_guid": "7128f3dd-1d8d-4b8e-afb4-891d8cb9657c",
    "_uuid": "7e17482a69dbe99319219a603ea39f8bbde98b87"
   },
   "source": [
    "# Part 8: Submit test predictions\n",
    "<a id=\"submit_predictions\"></a>\n",
    "***"
   ]
  },
  {
   "cell_type": "code",
   "execution_count": 122,
   "metadata": {
    "_cell_guid": "51368e53-52e4-41cf-9cc9-af6164c9c6f5",
    "_uuid": "b947f168f6655c1c6eadaf53f3485d57c0cd74c7"
   },
   "outputs": [],
   "source": [
    "test_prediction = voting_classifier.predict(test)\n",
    "submission = pd.DataFrame({\n",
    "        \"PassengerId\": passengerid,\n",
    "        \"Survived\": test_prediction\n",
    "    })\n",
    "\n",
    "submission.PassengerId = submission.PassengerId.astype(int)\n",
    "submission.Survived = submission.Survived.astype(int)\n",
    "\n",
    "submission.to_csv(\"titanic1_submission.csv\", index=False)"
   ]
  },
  {
   "cell_type": "markdown",
   "metadata": {
    "_uuid": "157571b1143aa5e755b9b994c64dbd7f7584afd5"
   },
   "source": [
    "# Credits\n",
    "\n",
    "* To [Brandon Foltz](https://(www.youtube.com/channel/UCFrjdcImgcQVyFbK04MBEhA) for being an amazing statistics teacher. Love all those inspirational intro's. \n",
    "* To [Khan Academy](https://www.khanacademy.org), Amazing place to keep track of my mathematics journey. \n",
    "* To [General Assambly](https://generalassemb.ly); Where I started my data science journey. \n",
    "\n",
    "# Resources\n",
    "Here are some of the links I found helpful while writing this kernel. I do not assume them all to be a great article; neighter do I recommend them. I have mentioned them, because I have found them helpful. \n",
    "\n",
    "## Statistics\n",
    "* [What Is a t-test? And Why Is It Like Telling a Kid to Clean Up that Mess in the Kitchen?](https://blog.minitab.com/blog/statistics-and-quality-data-analysis/what-is-a-t-test-and-why-is-it-like-telling-a-kid-to-clean-up-that-mess-in-the-kitchen)\n",
    "* [What Are T Values and P Values in Statistics?](https://blog.minitab.com/blog/statistics-and-quality-data-analysis/what-are-t-values-and-p-values-in-statistics)\n",
    "* [What is p-value? How we decide on our confidence level.](https://www.youtube.com/watch?v=E4KCfcVwzyw)\n"
   ]
  },
  {
   "cell_type": "markdown",
   "metadata": {
    "_cell_guid": "a2b6f2c1-b83b-43ef-ac8c-d99a844986cc",
    "_uuid": "1d38cbce222c9110097275f913cd12368aac77c9"
   },
   "source": [
    "***\n",
    "If you like to discuss any other projects or just have a chat about data science topics, I'll be more than happy to connect with you on:\n",
    "\n",
    "**LinkedIn:** https://www.linkedin.com/in/masumrumi/ \n",
    "\n",
    "**My Website:** http://masumrumi.strikingly.com/ \n",
    "\n",
    "*** This kernel is a work in progress like all of my other notebooks. I will always incorporate new concepts of data science as I master them. This journey of learning is worth sharing as well as collaborating. Therefore any comments about further improvements would be genuinely appreciated.***\n",
    "***\n",
    "## If you have come this far, Congratulations!!\n",
    "\n",
    "## If this notebook helped you in anyway, please upvote!!"
   ]
  },
  {
   "cell_type": "code",
   "execution_count": null,
   "metadata": {
    "_uuid": "3aa0998ecfe9ba5ccd838f8aabc603fdf2c6cbd7"
   },
   "outputs": [],
   "source": []
  },
  {
   "cell_type": "code",
   "execution_count": null,
   "metadata": {
    "_uuid": "e170aeec42b94d9e78319c40ddc4533584f05619"
   },
   "outputs": [],
   "source": []
  },
  {
   "cell_type": "code",
   "execution_count": null,
   "metadata": {
    "_uuid": "a55a83bd32d4b0e16327f4be748d2ef7c1d0e99c"
   },
   "outputs": [],
   "source": []
  },
  {
   "cell_type": "code",
   "execution_count": null,
   "metadata": {
    "_uuid": "31c7b9c26e4cf452bb892be66f20033d1bf04d48"
   },
   "outputs": [],
   "source": []
  }
 ],
 "metadata": {
  "kernelspec": {
   "display_name": "Python 3",
   "language": "python",
   "name": "python3"
  },
  "language_info": {
   "codemirror_mode": {
    "name": "ipython",
    "version": 3
   },
   "file_extension": ".py",
   "mimetype": "text/x-python",
   "name": "python",
   "nbconvert_exporter": "python",
   "pygments_lexer": "ipython3",
   "version": "3.6.5"
  }
 },
 "nbformat": 4,
 "nbformat_minor": 1
}
